{
 "cells": [
  {
   "cell_type": "markdown",
   "metadata": {},
   "source": [
    "# Server Resnet50 on Trition Docker"
   ]
  },
  {
   "cell_type": "markdown",
   "metadata": {
    "tags": []
   },
   "source": [
    "## 1.1. 기본 세팅\n",
    "사용하는 패키지는 import 시점에 다시 재로딩 합니다."
   ]
  },
  {
   "cell_type": "code",
   "execution_count": 12,
   "metadata": {
    "tags": []
   },
   "outputs": [
    {
     "name": "stdout",
     "output_type": "stream",
     "text": [
      "The autoreload extension is already loaded. To reload it, use:\n",
      "  %reload_ext autoreload\n"
     ]
    }
   ],
   "source": [
    "%load_ext autoreload\n",
    "%autoreload 2\n",
    "\n",
    "import sys\n",
    "sys.path.append('./utils')"
   ]
  },
  {
   "cell_type": "markdown",
   "metadata": {},
   "source": [
    "# 2. Resnet50 Model 준비"
   ]
  },
  {
   "cell_type": "code",
   "execution_count": 3,
   "metadata": {},
   "outputs": [
    {
     "name": "stdout",
     "output_type": "stream",
     "text": [
      "Using cuda device\n"
     ]
    },
    {
     "name": "stderr",
     "output_type": "stream",
     "text": [
      "/home/ec2-user/SageMaker/.cs/conda/envs/resnet-conda-py310/lib/python3.10/site-packages/torchvision/models/_utils.py:208: UserWarning: The parameter 'pretrained' is deprecated since 0.13 and may be removed in the future, please use 'weights' instead.\n",
      "  warnings.warn(\n",
      "/home/ec2-user/SageMaker/.cs/conda/envs/resnet-conda-py310/lib/python3.10/site-packages/torchvision/models/_utils.py:223: UserWarning: Arguments other than a weight enum or `None` for 'weights' are deprecated since 0.13 and may be removed in the future. The current behavior is equivalent to passing `weights=ResNet50_Weights.IMAGENET1K_V1`. You can also use `weights=ResNet50_Weights.DEFAULT` to get the most up-to-date weights.\n",
      "  warnings.warn(msg)\n"
     ]
    },
    {
     "name": "stdout",
     "output_type": "stream",
     "text": [
      "Saved workspace/resnet50-jit.pt\n"
     ]
    }
   ],
   "source": [
    "import torch\n",
    "import torchvision.models as models\n",
    "import os\n",
    "\n",
    "device = \"cuda\" if torch.cuda.is_available() else \"cpu\"\n",
    "print(\"Using {} device\".format(device))\n",
    "\n",
    "\n"
   ]
  },
  {
   "cell_type": "code",
   "execution_count": 10,
   "metadata": {},
   "outputs": [
    {
     "name": "stderr",
     "output_type": "stream",
     "text": [
      "/home/ec2-user/SageMaker/.cs/conda/envs/resnet-conda-py310/lib/python3.10/site-packages/torchvision/models/_utils.py:208: UserWarning: The parameter 'pretrained' is deprecated since 0.13 and may be removed in the future, please use 'weights' instead.\n",
      "  warnings.warn(\n",
      "/home/ec2-user/SageMaker/.cs/conda/envs/resnet-conda-py310/lib/python3.10/site-packages/torchvision/models/_utils.py:223: UserWarning: Arguments other than a weight enum or `None` for 'weights' are deprecated since 0.13 and may be removed in the future. The current behavior is equivalent to passing `weights=ResNet50_Weights.IMAGENET1K_V1`. You can also use `weights=ResNet50_Weights.DEFAULT` to get the most up-to-date weights.\n",
      "  warnings.warn(msg)\n"
     ]
    },
    {
     "name": "stdout",
     "output_type": "stream",
     "text": [
      "Using cuda device\n",
      "Saved workspace/resnet50-jit.pt\n",
      "#### Load Test ####\n",
      "def forward(self,\n",
      "    x: Tensor) -> Tensor:\n",
      "  return (self)._forward_impl(x, )\n",
      "\n",
      "Result : \n",
      " torch.Size([1, 1000])\n"
     ]
    }
   ],
   "source": [
    "import torch\n",
    "\n",
    "\n",
    "def trace_model(model, dummy_inputs, trace_model_name, workspace_folder):\n",
    "    device = \"cuda\" if torch.cuda.is_available() else \"cpu\"\n",
    "    print(\"Using {} device\".format(device))\n",
    "\n",
    "    os.makedirs(workspace_folder, exist_ok=True)\n",
    "    model_path = os.path.join(workspace_folder, trace_model_name)\n",
    "\n",
    "    # trace model\n",
    "    model_jit = torch.jit.script(model)\n",
    "    # Save model\n",
    "    model_jit.save(model_path)\n",
    "    print(\"Saved {}\".format(model_path))\n",
    "\n",
    "    print(\"#### Load Test ####\")    \n",
    "    loaded_m = torch.jit.load(model_path)    \n",
    "    print(loaded_m.code)    \n",
    "\n",
    "    dummy_inputs = dummy_inputs.to(device)\n",
    "    result = loaded_m(dummy_inputs)\n",
    "    print(\"Result : \\n\", result.shape)\n",
    "\n",
    "    return model_path\n",
    "\n",
    "\n",
    "# Load model\n",
    "resnet50 = models.resnet50(pretrained=True)\n",
    "resnet50 = resnet50.eval()\n",
    "resnet50.to(device)\n",
    "\n",
    "# Create dummy input\n",
    "dummy_input = torch.randn(1, 3, 224, 224)\n",
    "\n",
    "workspace_folder = \"workspace\"\n",
    "model_path = trace_model(model=resnet50, dummy_inputs=dummy_input, trace_model_name=\"resnet50-jit.pt\", workspace_folder=workspace_folder)\n"
   ]
  },
  {
   "cell_type": "markdown",
   "metadata": {
    "tags": []
   },
   "source": [
    "# 3. Trition 서빙 준비"
   ]
  },
  {
   "cell_type": "markdown",
   "metadata": {},
   "source": [
    "## 3.1. Torch Script 으로 변환"
   ]
  },
  {
   "cell_type": "markdown",
   "metadata": {},
   "source": [
    "## 3.2.config.pbtxt 생성"
   ]
  },
  {
   "cell_type": "code",
   "execution_count": 11,
   "metadata": {
    "tags": []
   },
   "outputs": [
    {
     "name": "stdout",
     "output_type": "stream",
     "text": [
      "Writing workspace/config.pbtxt\n"
     ]
    }
   ],
   "source": [
    "%%writefile workspace/config.pbtxt\n",
    "name: \"resnet\"\n",
    "platform: \"pytorch_libtorch\"\n",
    "max_batch_size: 128\n",
    "input {\n",
    "  name: \"INPUT__0\"\n",
    "  data_type: TYPE_FP32\n",
    "  dims: 3\n",
    "  dims: 224\n",
    "  dims: 224\n",
    "}\n",
    "output {\n",
    "  name: \"OUTPUT__0\"\n",
    "  data_type: TYPE_FP32\n",
    "  dims: 1000\n",
    "}"
   ]
  },
  {
   "cell_type": "markdown",
   "metadata": {
    "tags": []
   },
   "source": [
    "# 4. 아티펙트 패키징"
   ]
  },
  {
   "cell_type": "markdown",
   "metadata": {},
   "source": [
    "## 모델 리파지토리 폴더 구조\n",
    "```\n",
    "model_serving_folder\n",
    "    - model_name\n",
    "        - version_number\n",
    "            - model file\n",
    "        - config file\n",
    "\n",
    "# Example\n",
    "hello-serve-pt\n",
    "    - hello\n",
    "        - 1\n",
    "            - model.pt\n",
    "        - config.pbtxt\n",
    "\n",
    "```\n"
   ]
  },
  {
   "cell_type": "markdown",
   "metadata": {},
   "source": [
    "## 4.1. 아티펙트 폴더 생성 "
   ]
  },
  {
   "cell_type": "code",
   "execution_count": 16,
   "metadata": {
    "tags": []
   },
   "outputs": [
    {
     "name": "stdout",
     "output_type": "stream",
     "text": [
      "triton-serve-jit:\n",
      "resnet\n",
      "resnet50-jit.pt\n",
      "\n",
      "triton-serve-jit/resnet:\n",
      "1\n",
      "config.pbtxt\n",
      "\n",
      "triton-serve-jit/resnet/1:\n",
      "model.pt\n",
      "\n",
      "triton-serve-jit/resnet50-jit.pt:\n",
      "1\n",
      "\n",
      "triton-serve-jit/resnet50-jit.pt/1:\n"
     ]
    }
   ],
   "source": [
    "import os\n",
    "from utils.triton_util import make_folder_structure, copy_artifact, remove_folder\n",
    "\n",
    "# triton-hello-serve-pt 폴더 생성\n",
    "model_serving_folder = 'triton-serve-jit'\n",
    "model_name = \"resnet\"\n",
    "make_folder_structure(model_serving_folder, model_name=model_name)\n",
    "\n",
    "model_config_path = os.path.join(workspace_folder, 'config.pbtxt')\n",
    "\n",
    " #copy_artifact(model_serving_folder, model_name, trace_model_name, model_config)\n",
    "copy_artifact(model_serving_folder=model_serving_folder, \n",
    "            model_name=model_name, \n",
    "            model_artifact=model_path, \n",
    "            config=model_config_path)"
   ]
  },
  {
   "cell_type": "markdown",
   "metadata": {
    "tags": []
   },
   "source": [
    "### 폴더 삭제\n",
    "- 필요시 주석 제거하고 사용하세요."
   ]
  },
  {
   "cell_type": "code",
   "execution_count": 17,
   "metadata": {
    "tags": []
   },
   "outputs": [],
   "source": [
    "# model_serving_folder = 'triton-serve-jit'\n",
    "# remove_folder(model_serving_folder)"
   ]
  },
  {
   "cell_type": "markdown",
   "metadata": {
    "tags": []
   },
   "source": [
    "# 5. 로컬 도커에서 실행 테스트"
   ]
  },
  {
   "cell_type": "markdown",
   "metadata": {},
   "source": [
    "## 5.0. 도커에서의 실행 테스트는 아래와 같은 순서로 진행 함.\n",
    "\n",
    "#### (0) Triton Client 초기화\n",
    "```\n",
    "from triton_util import setup_triton_client\n",
    "triton_client, grpcclient = setup_triton_client()\n",
    "```\n",
    "\n",
    "#### (1) 터미널 실행\n",
    "\n",
    "아래에서 둘 중의 한개의 도커를 실행 하시면 됩니다.\n",
    "#### (2) NVidia Triton 도커 컨테이너 실행\n",
    "- 위의 터미널에 아래와 같이 명령어를 하나씩 실행 하세요.\n",
    "```\n",
    "# Move to current folder (e.g.: /home/ec2-user/SageMaker/lab/00-trition-tts-vits/ )\n",
    "\n",
    "docker run --gpus=1 --rm -p8000:8000 -p8001:8001 -p8002:8002 -v `pwd`/triton-serve-jit:/models nvcr.io/nvidia/tritonserver:22.08-py3 tritonserver --model-repository=/models --log-verbose=3 --log-info=1 --log-warning=1 --log-error=1\n",
    "```\n",
    "#### (3) SageMaker Triton 도커 컨테이너 실행\n",
    "```\n",
    "aws ecr get-login-password --region us-east-1 | docker login --username AWS --password-stdin 785573368785.dkr.ecr.us-east-1.amazonaws.com\n",
    "\n",
    "docker pull 785573368785.dkr.ecr.us-east-1.amazonaws.com/sagemaker-tritonserver:22.07-py3\n",
    "\n",
    "docker run --gpus=1 --rm -p8000:8000 -p8001:8001 -p8002:8002 -v `pwd`/triton-serve-jit:/models 785573368785.dkr.ecr.us-east-1.amazonaws.com/sagemaker-tritonserver:22.07-py3 tritonserver --model-repository=/models --log-verbose=3 --log-info=1 --log-warning=1 --log-error=1\n",
    "\n",
    "```\n",
    "#### (4) Triton 클라이언트로 추론 실행\n",
    "#### (5) 도커 관련 유용한 명령어\n",
    "```\n",
    "docker rm -f $(docker ps -qa)\n",
    "\n",
    "# 도커 실행하여 들어가 보기\n",
    "docker run -it --entrypoint /bin/bash nvcr.io/nvidia/tritonserver:22.08-py3\n",
    "# 실행중인 도커 컨테이너 들어가기\n",
    "docker exec -it <container_name_or_id> /bin/bash\n",
    "\n",
    "\n",
    "```"
   ]
  },
  {
   "cell_type": "markdown",
   "metadata": {},
   "source": [
    "## 5.1. Triton Client 초기화"
   ]
  },
  {
   "cell_type": "code",
   "execution_count": 19,
   "metadata": {
    "tags": []
   },
   "outputs": [],
   "source": [
    "from triton_util import setup_triton_client\n",
    "triton_client, grpcclient = setup_triton_client()"
   ]
  },
  {
   "cell_type": "markdown",
   "metadata": {},
   "source": [
    "## 5.2. !!! #### 터미널에 \"Triton 도커 컨테이너 실행\" 을 해주세요. ### !!!"
   ]
  },
  {
   "cell_type": "markdown",
   "metadata": {},
   "source": [
    "## 5.3. 입력 payload 생성"
   ]
  },
  {
   "cell_type": "code",
   "execution_count": 24,
   "metadata": {
    "tags": []
   },
   "outputs": [],
   "source": [
    "import numpy as np \n",
    "\n",
    "def create_client_payload():\n",
    "    inputs = []\n",
    "\n",
    "    inputs.append(grpcclient.InferInput('INPUT__0', [1,3,224,224], \"FP32\"))\n",
    "\n",
    "    input0_data = np.random.randn(1,3,224,224).astype(np.float32)\n",
    "    # Initialize the data\n",
    "    inputs[0].set_data_from_numpy(input0_data)\n",
    "\n",
    "    print(\"input0_data: \\n\",input0_data.shape) \n",
    "\n",
    "    \n",
    "    return inputs\n",
    "\n"
   ]
  },
  {
   "cell_type": "code",
   "execution_count": 25,
   "metadata": {
    "tags": []
   },
   "outputs": [
    {
     "name": "stdout",
     "output_type": "stream",
     "text": [
      "input0_data: \n",
      " (1, 3, 224, 224)\n"
     ]
    }
   ],
   "source": [
    "inputs = create_client_payload()\n"
   ]
  },
  {
   "cell_type": "markdown",
   "metadata": {},
   "source": [
    "## 5.4. 출력 변수 생성"
   ]
  },
  {
   "cell_type": "code",
   "execution_count": 26,
   "metadata": {
    "tags": []
   },
   "outputs": [],
   "source": [
    "outputs = []\n",
    "outputs.append(grpcclient.InferRequestedOutput('OUTPUT__0'))"
   ]
  },
  {
   "cell_type": "markdown",
   "metadata": {
    "tags": []
   },
   "source": [
    "\n",
    "## 5.5. Triton에 추론 요청\n"
   ]
  },
  {
   "cell_type": "code",
   "execution_count": 28,
   "metadata": {
    "tags": []
   },
   "outputs": [
    {
     "name": "stdout",
     "output_type": "stream",
     "text": [
      "#### output #####\n",
      "(1, 1000)\n",
      "#### output values #####\n",
      "[[-4.01182473e-01  2.81039804e-01  3.43496680e-01 -4.34804857e-01\n",
      "   9.99586642e-01 -1.14723742e+00  2.19896108e-01 -6.12324834e-01\n",
      "   5.72070539e-01 -1.75140560e+00  6.63949400e-02  1.33479941e+00\n",
      "   1.32169366e-01  4.59114090e-04 -1.08166039e+00 -6.82399213e-01\n",
      "  -9.57526326e-01 -7.20625639e-01  6.16763830e-01  3.29314291e-01\n",
      "  -4.45262611e-01  3.69164973e-01 -1.42171651e-01  6.22589409e-01\n",
      "  -2.61854976e-02 -8.58937204e-01 -1.47733617e+00 -7.37657249e-01\n",
      "  -1.40042937e+00 -1.66458666e+00 -2.25839758e+00 -1.04263097e-01\n",
      "  -3.47117615e+00 -1.71277714e+00 -4.71561968e-01 -1.69531357e+00\n",
      "   8.45222235e-01 -2.18384218e+00  7.74828568e-02  5.05132973e-01\n",
      "  -6.91528469e-02 -2.33848310e+00  1.62753925e-01 -1.08715445e-01\n",
      "   5.36445081e-02  8.74868855e-02  2.33244881e-01 -2.15907550e+00\n",
      "   1.81598783e+00 -1.96087730e+00  1.92868817e+00 -2.54790020e+00\n",
      "  -1.71827555e+00 -3.96148473e-01  8.80786180e-01 -4.56065953e-01\n",
      "   1.11456424e-01 -2.10776138e+00  6.01197481e-01  8.07188272e-01\n",
      "   6.27641022e-01  1.24695337e+00  5.19762456e-01  1.37347862e-01\n",
      "  -8.36971283e-01  1.88702643e-01 -8.14857125e-01 -4.21579003e-01\n",
      "  -2.99228460e-01  2.09138727e+00 -9.69177723e-01  2.26459765e+00\n",
      "   3.66761625e-01  4.13248718e-01  1.69931501e-01  4.97218698e-01\n",
      "  -1.69818196e-02  1.58659446e+00  1.58718204e+00  3.80393672e+00\n",
      "  -1.07970083e+00 -9.37727988e-02 -2.32583821e-01 -1.95227897e+00\n",
      "  -1.22406021e-01  2.48520851e-01 -3.37816954e-01  3.75895083e-01\n",
      "  -3.41755301e-01  1.29081488e+00 -9.04441893e-01  3.98920387e-01\n",
      "   8.95559371e-01  1.30265248e+00  2.86012799e-01 -3.13790393e+00\n",
      "   9.88155663e-01 -1.13649249e+00 -1.70288742e+00  6.80691779e-01\n",
      "  -2.94953555e-01 -2.64595181e-01 -1.21257329e+00  7.03224778e-01\n",
      "  -1.36006188e+00 -1.93431938e+00 -1.54104078e+00  3.83225411e-01\n",
      "  -1.19952750e+00 -3.08971200e-02  9.76359785e-01  2.05090570e+00\n",
      "  -6.37091815e-01  8.81770015e-01  7.33019888e-01 -1.27239740e+00\n",
      "  -2.61938977e+00  3.52985337e-02 -1.39810979e+00 -1.96131539e+00\n",
      "  -9.51571643e-01 -2.84575725e+00 -3.06315589e+00 -2.32451510e+00\n",
      "  -2.27892232e+00 -3.13345265e+00  1.47033930e+00 -1.03513807e-01\n",
      "  -6.11088574e-01 -1.02679932e+00 -2.23432088e+00 -9.86756563e-01\n",
      "   1.63352787e-01 -3.16598654e-01 -1.36807954e+00 -1.10716188e+00\n",
      "  -2.42525840e+00  6.75550938e-01  1.37979639e+00 -2.58811164e+00\n",
      "  -2.07135773e+00 -6.61414683e-01 -1.97832108e+00 -1.61009812e+00\n",
      "  -1.94692290e+00  8.72665644e-01 -4.99724388e-01 -2.00691056e+00\n",
      "  -1.27095068e+00 -1.20984709e+00  1.41843157e-02  5.16252398e-01\n",
      "  -3.11226249e+00 -1.44437347e-02 -2.14132929e+00 -1.39998484e+00\n",
      "  -2.51117587e+00 -1.39289069e+00 -2.52169490e+00  4.38437834e-02\n",
      "  -2.36839533e+00 -1.75034177e+00 -1.01401162e+00 -8.53629470e-01\n",
      "  -6.64427280e-01 -1.18692112e+00 -2.10003209e+00 -2.45154977e+00\n",
      "  -2.16117263e+00 -8.77589285e-01 -2.02978301e+00 -9.80451405e-01\n",
      "  -1.85035110e+00 -5.49455941e-01 -2.02073598e+00 -2.57931113e+00\n",
      "  -3.11238670e+00 -1.64088416e+00  4.91294593e-01 -1.84574187e+00\n",
      "  -1.24046242e+00 -1.51710784e+00 -1.34665310e+00 -7.76047647e-01\n",
      "  -2.07361913e+00  1.78485572e-01 -1.44873333e+00 -8.23597968e-01\n",
      "  -3.14742684e+00 -2.77334541e-01 -1.78966427e+00 -1.48394918e+00\n",
      "  -1.67612910e+00 -8.38262379e-01 -2.71845484e+00 -1.80827588e-01\n",
      "  -2.00174809e+00 -2.44658637e+00 -2.30000043e+00 -6.22573137e-01\n",
      "  -1.53180063e+00 -5.80615103e-01 -4.78715777e-01  1.82808712e-01\n",
      "  -9.46532488e-01 -1.57411742e+00 -4.15503234e-01 -1.50504005e+00\n",
      "  -9.15843725e-01 -2.20882201e+00 -3.17903757e+00 -1.25561321e+00\n",
      "  -2.19170427e+00 -1.48806095e+00 -1.47769797e+00 -1.32116926e+00\n",
      "   4.78780657e-01 -1.33874810e+00 -2.12084031e+00 -3.94826829e-01\n",
      "  -2.20824003e+00 -7.88753182e-02 -1.55994427e+00 -7.27125406e-01\n",
      "   4.21458036e-02 -1.85769415e+00 -2.47915387e+00 -1.40414083e+00\n",
      "  -1.22078240e+00 -5.07590711e-01 -1.56797528e+00 -3.19261849e-01\n",
      "  -9.42912042e-01 -1.85053146e+00 -1.39409852e+00 -6.07643068e-01\n",
      "  -3.32962751e-01 -4.20706779e-01 -1.21308362e+00 -1.42902505e+00\n",
      "  -1.31083417e+00 -1.03024840e+00 -2.10430932e+00 -1.44366896e+00\n",
      "  -3.02820253e+00 -1.15181637e+00 -1.07219684e+00 -2.08098769e+00\n",
      "  -3.36183459e-01 -9.22813296e-01 -9.58557963e-01 -1.38034627e-01\n",
      "  -2.11177087e+00 -6.63023233e-01 -2.30039060e-01 -2.15823579e+00\n",
      "  -1.17526746e+00 -1.08543646e+00 -1.19183624e+00  2.09814131e-01\n",
      "   2.95627981e-01 -1.91208267e+00 -2.90225196e+00 -1.33531106e+00\n",
      "  -1.52739954e+00 -6.97414398e-01 -1.30033982e+00 -6.89093053e-01\n",
      "  -1.71689594e+00 -9.64682639e-01 -6.86568916e-01 -1.77805102e+00\n",
      "  -1.07211161e+00 -1.63029599e+00 -1.11489832e+00 -1.57672930e+00\n",
      "  -1.32187510e+00 -1.30763233e+00 -1.69904971e+00 -1.05320048e+00\n",
      "  -1.74555093e-01  1.02286124e+00  2.54450011e+00  1.61441994e+00\n",
      "   3.54309857e-01  6.37903750e-01 -5.96711218e-01 -2.93022156e+00\n",
      "   4.47619289e-01  1.79959536e-02 -4.19542879e-01 -1.12298548e+00\n",
      "  -2.67079383e-01  5.38048506e-01 -6.02064908e-01  4.83502626e-01\n",
      "   8.22322786e-01  9.41553619e-04  3.83906066e-03 -6.07578516e-01\n",
      "  -1.21180487e+00  2.18596363e+00 -7.11310506e-01 -5.85628524e-02\n",
      "  -1.17229080e+00 -1.79494798e+00 -3.14529628e-01  1.11079121e+00\n",
      "   1.33051550e+00 -9.19692069e-02  2.88194776e+00  8.64885926e-01\n",
      "   4.47918445e-01  1.13017881e+00  1.85343885e+00  1.08873463e+00\n",
      "   4.79733087e-02  2.43764862e-01  1.68758976e+00  1.14203346e+00\n",
      "  -1.00214255e+00 -2.24408555e+00 -2.79959989e+00 -2.37300301e+00\n",
      "  -1.97062778e+00 -2.37623739e+00 -1.65580499e+00 -1.47486031e+00\n",
      "  -2.33788300e+00 -3.40414762e+00 -7.16087282e-01 -9.83269393e-01\n",
      "   2.06006870e-01 -1.17181182e+00 -9.76426482e-01 -2.29754880e-01\n",
      "  -7.10687935e-01  9.81253088e-02 -1.53657150e+00 -1.46684003e+00\n",
      "  -5.88015020e-01 -1.95802605e+00 -1.61927295e+00 -2.05703664e+00\n",
      "  -1.50738358e+00 -4.88319278e-01 -2.05050206e+00 -1.25274968e+00\n",
      "  -2.59516716e-01 -1.14459622e+00 -2.02677441e+00 -2.86384463e+00\n",
      "  -1.82197857e+00 -6.57652169e-02 -1.07944764e-01 -8.19109082e-01\n",
      "   5.59439003e-01  3.91002059e-01  9.12615836e-01  9.98142660e-01\n",
      "  -4.66681689e-01 -4.82380748e-01  8.29267800e-02  5.62063158e-01\n",
      "  -1.40580881e+00  6.73627913e-01  1.06936586e+00  9.71918344e-01\n",
      "   8.73699725e-01  4.28461909e-01  1.16903210e+00 -8.83156419e-01\n",
      "  -2.14329600e-01 -7.31103241e-01 -1.53025866e-01 -5.72650194e-01\n",
      "  -2.64596552e-01  2.04706013e-01 -5.93540072e-01 -8.11528325e-01\n",
      "  -5.77972770e-01 -3.14921379e-01  5.94224453e-01  1.01462460e+00\n",
      "  -1.65882909e+00 -4.48731065e-01 -4.87571448e-01 -3.07364047e-01\n",
      "  -3.79741907e-01 -2.31589103e+00 -4.04869974e-01 -3.01328003e-02\n",
      "  -6.14289522e-01 -2.48884487e+00 -1.49326801e+00 -7.93282628e-01\n",
      "  -9.37019706e-01  7.04598725e-01  7.38987267e-01  2.78443956e+00\n",
      "  -1.71542716e+00  2.87777692e-01  2.39810538e+00 -9.21907842e-01\n",
      "  -1.85119665e+00  7.96958029e-01 -2.09762597e+00 -9.32688713e-01\n",
      "  -2.42488027e+00  2.69680810e+00  7.70802319e-01  3.08477211e+00\n",
      "   1.74799836e+00  1.07216012e+00  2.39775276e+00 -1.27400899e+00\n",
      "  -5.66251636e-01 -4.75742251e-01  4.02142477e+00  2.37485147e+00\n",
      "   7.55134642e-01  2.55601382e+00 -1.86690450e+00  1.94433773e+00\n",
      "   2.13982558e+00  5.30017138e-01  2.92726159e-01  1.39369333e+00\n",
      "  -9.84423578e-01  1.50630248e+00  8.83651853e-01 -5.64769804e-01\n",
      "   9.38261393e-03  3.25305939e-01 -1.18999124e+00  1.63819778e+00\n",
      "  -2.41360450e+00  3.73108417e-01  7.96393752e-01 -6.86647356e-01\n",
      "   1.04358244e+00  2.29037452e+00 -8.85323346e-01  3.13657999e+00\n",
      "  -1.02560568e+00 -1.91893816e+00  5.30321169e+00  7.61495590e-01\n",
      "  -1.08849633e+00 -1.28074741e+00 -3.27755284e+00  7.03425586e-01\n",
      "   1.40579209e-01 -8.05373311e-01 -1.90173954e-01  1.21993911e+00\n",
      "  -1.50619194e-01  2.57353830e+00  1.95127869e+00  5.63552797e-01\n",
      "  -8.54599833e-01  2.72137713e+00  1.81408155e+00  8.38619053e-01\n",
      "   4.02169132e+00  3.21304464e+00 -1.55932641e+00 -3.21657491e+00\n",
      "   1.02760231e+00  1.31329870e+00  6.98836893e-02 -6.90128088e-01\n",
      "  -2.11221123e+00  1.04880834e+00  1.73894250e+00 -1.69967026e-01\n",
      "  -3.08046317e+00 -1.10939300e+00  1.08003151e+00 -2.22717836e-01\n",
      "   3.14785004e+00  2.48867393e+00  3.89717162e-01 -6.92583323e-02\n",
      "  -1.31814623e+00 -1.16983578e-01 -2.93523014e-01  2.47910547e+00\n",
      "   5.18781614e+00  3.98531699e+00  7.94373798e+00  2.30846033e-01\n",
      "   2.54883826e-01 -1.27584660e+00  2.72447497e-01 -8.92975211e-01\n",
      "  -1.27315259e+00  1.32574713e+00  1.65686440e+00  3.21368313e+00\n",
      "   1.36091661e+00  1.45585752e+00  1.00352597e+00  1.12475908e+00\n",
      "   1.61882019e+00  6.84207320e-01  2.08250856e+00  2.07579422e+00\n",
      "   2.64014602e+00 -1.42598939e+00 -1.49732375e+00 -2.00953722e+00\n",
      "   1.87539411e+00  1.23078394e+00  6.14054561e-01  2.76959229e+00\n",
      "   9.64514911e-01  1.19709432e+00  5.18838763e-02 -1.28625244e-01\n",
      "  -5.41937947e-01 -1.75181806e+00 -8.84681463e-01  1.37405717e+00\n",
      "   2.55000377e+00 -1.04459977e+00 -2.65696496e-01  1.38313401e+00\n",
      "   1.51170862e+00  6.22798689e-02  2.28662443e+00  1.47233665e+00\n",
      "  -4.88778293e-01  1.83562279e+00  4.03307390e+00 -2.63446641e+00\n",
      "  -1.07834709e+00 -1.68881941e+00  1.49486518e+00  2.91858673e+00\n",
      "  -5.00031471e-01  1.27332902e+00  2.39700150e+00  1.06385636e+00\n",
      "  -6.95356965e-01  1.20719028e+00  9.90781426e-01 -3.22759771e+00\n",
      "   1.28251433e-01  4.21519709e+00 -6.44828916e-01 -6.30099833e-01\n",
      "   1.47066617e+00  1.64233673e+00 -1.21160567e+00 -1.90821803e+00\n",
      "   5.11570168e+00  3.68057549e-01  1.67205799e+00  1.95553160e+00\n",
      "   1.57915616e+00 -1.41382158e+00  1.75265217e+00  2.71578217e+00\n",
      "  -2.45399857e+00 -1.50148833e+00 -6.26675963e-01  1.40672874e+00\n",
      "   1.32064068e+00 -3.01313877e+00  2.03963804e+00  3.25881839e-02\n",
      "   3.80114764e-01 -2.09718537e+00  7.67806232e-01 -2.92628956e+00\n",
      "  -2.22587180e+00  1.06740379e+00  5.31477451e-01  1.22490549e+00\n",
      "   7.25758910e-01  6.06602907e-01 -2.75150967e+00  1.73211336e-01\n",
      "  -7.60900557e-01  1.20110083e+00 -2.43583417e+00  1.84888136e+00\n",
      "   1.33695865e+00  8.12613845e-01  8.56086969e-01  2.39472604e+00\n",
      "  -2.70506144e-02  4.93911833e-01 -1.10306717e-01 -1.83222616e+00\n",
      "   2.93117118e+00  1.66438079e+00  8.94571781e-01  4.62112331e+00\n",
      "   3.33929706e+00  2.07234144e+00  4.36642855e-01 -3.79388547e+00\n",
      "   1.15487528e+00  1.71098363e+00  2.80940604e+00 -1.11643088e+00\n",
      "   4.75397110e+00 -1.98211932e+00  4.14203167e+00  2.07048988e+00\n",
      "  -1.57703280e+00  9.34233248e-01 -3.34651560e-01  1.94987130e+00\n",
      "   2.86510062e+00  4.76274461e-01  2.31109238e+00  3.83120728e+00\n",
      "   3.44006014e+00 -3.94773036e-01  3.45495677e+00  2.61459851e+00\n",
      "  -1.49151492e+00 -2.44563437e+00  3.00844288e+00 -2.48036671e+00\n",
      "   2.45225862e-01  2.22479773e+00  1.43400311e+00 -1.86874732e-01\n",
      "   3.54224443e+00  3.45702600e+00 -2.48819637e+00  1.30748272e-01\n",
      "   3.04494524e+00 -8.56050789e-01  3.71901840e-01 -6.35780632e-01\n",
      "   1.08910978e+00 -3.04287285e-01 -5.18109500e-01  1.30763268e+00\n",
      "   3.96036386e+00 -9.32296276e-01  2.16040850e-01  2.14552268e-01\n",
      "  -4.13334489e-01  1.73162028e-01  3.60052729e+00  2.86315370e+00\n",
      "   4.43463236e-01  1.04136860e+00 -1.87821221e+00  3.00059891e+00\n",
      "  -2.40045834e+00  4.93034631e-01  2.95921326e-01  3.16843152e-01\n",
      "  -1.18741024e+00 -2.61332870e+00  1.68805420e+00 -1.60226548e+00\n",
      "   3.30704045e+00 -1.83639920e+00  4.54471052e-01 -2.18970612e-01\n",
      "  -2.32845330e+00  1.53980267e+00 -4.71756428e-01 -1.78133667e+00\n",
      "  -8.06462526e-01  1.37014639e+00  2.09624076e+00 -3.14765310e+00\n",
      "   7.89619237e-02  2.73449612e+00  1.27158201e+00  3.42723131e+00\n",
      "   2.03555018e-01  1.84653354e+00  4.72817421e-02  1.25575483e+00\n",
      "  -7.30625629e-01 -7.51652181e-01 -3.54529709e-01 -6.02541447e-01\n",
      "   2.27578378e+00  9.72853303e-01 -4.52232409e+00 -3.55257481e-01\n",
      "   1.61736870e+00 -1.16445646e-01 -2.98978281e+00  3.05588531e+00\n",
      "   1.43890214e+00 -1.39531946e+00 -1.13577282e+00 -1.66235730e-01\n",
      "   1.20119452e+00 -2.90297806e-01 -8.69355083e-01  5.37795007e-01\n",
      "   2.40735441e-01 -2.98291612e+00 -1.50369954e+00  1.88855922e+00\n",
      "  -3.17871839e-01  1.26004577e+00 -4.58653569e-02  3.51055694e+00\n",
      "   2.54932714e+00  7.63645589e-01  1.96615481e+00 -3.74321878e-01\n",
      "   1.40519667e+00 -4.09437656e+00  2.73047268e-01 -1.08768392e+00\n",
      "   1.13911021e+00  2.84597802e+00  2.31513786e+00 -1.73069847e+00\n",
      "  -6.49918497e-01  1.79260504e+00 -2.01017189e+00  4.68715131e-01\n",
      "   2.27813458e+00 -5.28836966e-01 -7.64910936e-01  2.17303038e+00\n",
      "   1.88046485e-01  2.31964874e+00 -1.86234367e+00  2.78280401e+00\n",
      "   2.27317882e+00  1.10749590e+00 -9.72293437e-01 -5.27223408e-01\n",
      "   7.59062231e-01  2.63632679e+00 -4.31598067e-01  1.33498919e+00\n",
      "   9.08720315e-01 -8.90558124e-01  1.76680326e+00  3.47926521e+00\n",
      "   3.95107180e-01  1.03384209e+00  1.72069347e+00 -2.77600718e+00\n",
      "   1.26670909e+00  2.72800922e+00  1.33958757e+00 -7.27169216e-01\n",
      "   1.06465054e+00 -2.07582211e+00 -7.78430223e-01  1.72188783e+00\n",
      "   4.96781540e+00  2.11132121e+00 -1.32866907e+00  2.67957807e+00\n",
      "   2.30537081e+00  7.57292867e-01 -7.15007722e-01  1.22359943e+00\n",
      "  -1.50887609e-01  1.55832720e+00  5.19770622e-01  1.61881721e+00\n",
      "   3.76544571e+00  1.09616303e+00  3.93198133e-01 -1.29179597e+00\n",
      "   2.67840767e+00  3.47815609e+00  1.61802018e+00 -3.23826671e-01\n",
      "  -5.53145587e-01  1.01108253e+00  4.64524555e+00  3.40423799e+00\n",
      "   3.12942004e+00  2.07313299e+00  1.85429275e-01  1.65593410e+00\n",
      "  -7.53291845e-02  2.73582220e+00  6.86460018e-01  1.03187799e+00\n",
      "   2.02746081e+00  9.35153902e-01  4.86853218e+00 -8.77315760e-01\n",
      "   1.72567415e+00  5.01046836e-01  6.14623845e-01  1.84692669e+00\n",
      "  -8.98369849e-02 -1.58922100e+00 -2.53918004e+00 -1.54985189e+00\n",
      "   2.34159306e-01  3.31389010e-02  6.77998543e-01 -6.20913029e-01\n",
      "   4.25782830e-01 -1.37373221e+00 -6.46227956e-01  3.00200129e+00\n",
      "   2.23192978e+00  8.14738631e-01 -1.49910903e+00  3.53122449e+00\n",
      "   3.43329132e-01 -2.94292545e+00  2.51903391e+00  8.76367390e-01\n",
      "  -2.59504247e+00 -1.77574730e+00 -1.03625596e+00  2.19431832e-01\n",
      "   2.30933666e+00  1.50533793e-02  2.33873081e+00 -1.57732353e-01\n",
      "   6.04157686e+00 -6.80329084e-01  1.27851582e+00 -4.04869616e-02\n",
      "  -1.05247533e+00 -1.53350651e-01  2.12366819e+00 -8.02815080e-01\n",
      "   2.28334332e+00  2.59504580e+00 -1.86955690e+00  1.42894745e+00\n",
      "   2.76635265e+00  2.71582174e+00 -3.96907628e-01 -1.05451643e-02\n",
      "   2.90167856e+00  3.31512737e+00  7.99010396e-01 -1.58751249e+00\n",
      "  -4.63387430e-01  1.65860128e+00  9.34030056e-01  4.98619318e+00\n",
      "   1.74082363e+00  8.76488328e-01  1.69313478e+00  2.23439741e+00\n",
      "  -4.28206968e+00  1.14003956e+00  2.12353349e+00  6.64666593e-01\n",
      "   3.65657449e-01  1.79626453e+00 -1.40773010e+00 -1.28518760e+00\n",
      "  -3.80751586e+00 -5.06769180e-01 -1.44154739e+00 -1.72215974e+00\n",
      "   2.31928706e+00  1.51531231e+00 -4.46637571e-01 -1.93862164e+00\n",
      "   3.11978197e+00 -8.41956377e-01 -4.50286341e+00  3.60364050e-01\n",
      "   5.56986094e-01  5.48989713e-01  1.55626778e-02  2.51275444e+00\n",
      "  -7.26870418e-01  1.22562206e+00  2.12382317e+00  9.27965879e-01\n",
      "   5.96110344e-01  1.29113960e+00  1.72784984e+00 -2.08777666e+00\n",
      "  -1.30360305e+00  6.84067488e-01 -2.75068831e+00 -3.31386834e-01\n",
      "   3.57658219e+00  2.70161533e+00  1.42894685e+00 -6.52300835e-01\n",
      "   1.60149109e+00  1.82279503e+00  2.08404708e+00  5.62849045e-01\n",
      "  -4.79564041e-01 -1.09043434e-01  2.80515552e+00  1.85931063e+00\n",
      "   7.81981850e+00  4.49512815e+00  1.87965083e+00  1.06967318e+00\n",
      "   1.03641510e+00  1.46492648e+00  1.43684256e+00  2.70726609e+00\n",
      "   2.51756795e-02 -1.09111524e+00 -3.00317359e+00 -2.56399125e-01\n",
      "   2.09427643e+00 -3.46905410e-01  1.44491720e+00 -3.95238698e-02\n",
      "   3.26747775e-01  1.74571860e+00  2.17056680e+00 -1.71703565e+00\n",
      "  -2.06724405e+00 -2.58262694e-01 -2.52739310e+00 -1.35590541e+00\n",
      "  -6.85233414e-01  4.56154346e-01  1.74876720e-01 -4.10535544e-01\n",
      "  -4.88006547e-02 -2.31553531e+00 -4.49337900e-01 -1.88851297e-01\n",
      "  -2.41185069e+00 -4.01593775e-01 -2.13873124e+00 -2.37364697e+00\n",
      "  -1.72886920e+00 -1.63668287e+00 -2.41834712e+00 -2.79909730e+00\n",
      "  -2.86681318e+00 -7.24943101e-01 -2.64134145e+00 -4.48038340e-01\n",
      "   6.82545528e-02 -9.82218146e-01  9.78281736e-01  1.41593945e+00\n",
      "  -8.48357320e-01 -1.40692696e-01  1.55971324e+00  1.84542820e-01\n",
      "  -1.84883380e+00 -1.19928408e+00  3.49016249e-01 -1.36579978e+00\n",
      "  -1.06042922e+00  8.30225706e-01 -2.70913315e+00 -7.80902207e-01\n",
      "  -8.31861258e-01 -1.53058994e+00  1.43591738e+00  3.20006275e+00\n",
      "   2.97714758e+00  2.55019069e-01 -1.16213298e+00  3.40217996e+00\n",
      "  -8.16038847e-01 -9.87333179e-01 -3.03049460e-02 -5.97757757e-01\n",
      "  -1.77737522e+00  2.93986678e-01  1.96365476e-01 -1.71310878e+00\n",
      "   7.55791068e-01  1.60282087e+00  2.76098847e-01 -2.73625851e-02\n",
      "  -1.20333552e-01 -1.96142737e-02 -2.08702540e+00  1.14167643e+00\n",
      "  -5.21539807e-01 -9.70260501e-01 -1.25213957e+00 -1.48579264e+00\n",
      "  -2.90898943e+00 -3.30420113e+00 -3.95225668e+00 -3.43795753e+00\n",
      "  -2.00263929e+00 -2.52507067e+00 -1.11143816e+00  1.30879998e+00]]\n"
     ]
    }
   ],
   "source": [
    "from triton_util import infer_triton_client\n",
    "\n",
    "infer_triton_client(triton_client, model_name, inputs, outputs)"
   ]
  },
  {
   "cell_type": "code",
   "execution_count": null,
   "metadata": {},
   "outputs": [],
   "source": []
  }
 ],
 "metadata": {
  "kernelspec": {
   "display_name": "resnet-conda-py310",
   "language": "python",
   "name": "python3"
  },
  "language_info": {
   "codemirror_mode": {
    "name": "ipython",
    "version": 3
   },
   "file_extension": ".py",
   "mimetype": "text/x-python",
   "name": "python",
   "nbconvert_exporter": "python",
   "pygments_lexer": "ipython3",
   "version": "3.10.15"
  },
  "notice": "Copyright 2018 Amazon.com, Inc. or its affiliates. All Rights Reserved.  Licensed under the Apache License, Version 2.0 (the \"License\"). You may not use this file except in compliance with the License. A copy of the License is located at http://aws.amazon.com/apache2.0/ or in the \"license\" file accompanying this file. This file is distributed on an \"AS IS\" BASIS, WITHOUT WARRANTIES OR CONDITIONS OF ANY KIND, either express or implied. See the License for the specific language governing permissions and limitations under the License."
 },
 "nbformat": 4,
 "nbformat_minor": 4
}
