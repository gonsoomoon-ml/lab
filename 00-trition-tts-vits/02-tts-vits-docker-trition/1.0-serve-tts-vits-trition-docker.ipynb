{
 "cells": [
  {
   "cell_type": "markdown",
   "metadata": {},
   "source": [
    "# Server VITS on Trition Docker\n",
    "- 선수 노트북: 아래를 먼저 실행해야 합니다\n",
    "    - 0.0-create-tts-vits-model.ipynb"
   ]
  },
  {
   "cell_type": "markdown",
   "metadata": {
    "tags": []
   },
   "source": [
    "## 1.  Setup environment\n",
    "사용하는 패키지는 import 시점에 다시 재로딩 합니다."
   ]
  },
  {
   "cell_type": "code",
   "execution_count": 62,
   "metadata": {
    "tags": []
   },
   "outputs": [
    {
     "name": "stdout",
     "output_type": "stream",
     "text": [
      "The autoreload extension is already loaded. To reload it, use:\n",
      "  %reload_ext autoreload\n",
      "/home/ec2-user/miniconda3/envs/conda-vits-py310/lib/python310.zip\n",
      "/home/ec2-user/miniconda3/envs/conda-vits-py310/lib/python3.10\n",
      "/home/ec2-user/miniconda3/envs/conda-vits-py310/lib/python3.10/lib-dynload\n",
      "\n",
      "/home/ec2-user/miniconda3/envs/conda-vits-py310/lib/python3.10/site-packages\n",
      "/home/ec2-user/SageMaker/lab/00-trition-tts-vits/02-tts-vits-docker-trition/vits\n",
      "/home/ec2-user/SageMaker/lab/00-trition-tts-vits/02-tts-vits-docker-trition/vits\n",
      "/home/ec2-user/SageMaker/lab/00-trition-tts-vits/02-tts-vits-docker-trition/vits\n",
      "/home/ec2-user/SageMaker/lab/00-trition-tts-vits/02-tts-vits-docker-trition/vits\n",
      "/home/ec2-user/SageMaker/lab/00-trition-tts-vits/02-tts-vits-docker-trition/vits\n",
      "/home/ec2-user/SageMaker/lab/00-trition-tts-vits/02-tts-vits-docker-trition/vits\n"
     ]
    }
   ],
   "source": [
    "%load_ext autoreload\n",
    "%autoreload 2\n",
    "\n",
    "import sys, os\n",
    "sys.path.append(os.path.abspath(\"./vits\"))\n",
    "\n",
    "for i in sys.path:\n",
    "    print(i)"
   ]
  },
  {
   "cell_type": "markdown",
   "metadata": {
    "tags": []
   },
   "source": [
    "# 2. Trition 서빙 준비"
   ]
  },
  {
   "cell_type": "markdown",
   "metadata": {},
   "source": [
    "## config.pbtxt 생성\n",
    "* TRITON 서버의 모델 설정 파일을 작성합니다. "
   ]
  },
  {
   "cell_type": "code",
   "execution_count": 63,
   "metadata": {
    "tags": []
   },
   "outputs": [
    {
     "name": "stdout",
     "output_type": "stream",
     "text": [
      "Overwriting workspace/config.pbtxt\n"
     ]
    }
   ],
   "source": [
    "%%writefile workspace/config.pbtxt\n",
    "name: \"tts-vits\" #모델 이름\n",
    "platform: \"pytorch_libtorch\" #PyTorch 모델 사용\n",
    "max_batch_size: 8 #최대 배치 크기\n",
    "input [\n",
    "  { # 입력 텍스트\n",
    "    name: \"x\"\n",
    "    data_type: TYPE_INT64 # 정수형\n",
    "    dims: [ -1 ] # 가변 길이\n",
    "  },\n",
    "  {  # 텍스트길이\n",
    "    name: \"x_length\"\n",
    "    data_type: TYPE_INT64\n",
    "    dims: [ 1 ]\n",
    "    reshape: { shape: [] }\n",
    "  },\n",
    "  { # 음성 변화도\n",
    "    name: \"noise_scale\"\n",
    "    data_type: TYPE_FP32\n",
    "    dims: [ 1 ]\n",
    "    reshape: { shape: [] }\n",
    "  },\n",
    "  {\n",
    "    name: \"length_scale\"\n",
    "    data_type: TYPE_FP32\n",
    "    dims: [ 1 ]\n",
    "    reshape: { shape: [] }\n",
    "  },\n",
    "  {\n",
    "    name: \"noise_scale_w\"\n",
    "    data_type: TYPE_FP32\n",
    "    dims: [ 1 ]\n",
    "    reshape: { shape: [] }\n",
    "  }\n",
    "]\n",
    "output [ #출력 설정\n",
    "  {\n",
    "    name: \"OUTPUT_0\" #출력명\n",
    "    data_type: TYPE_FP32\n",
    "    dims: [ 1, -1 ]\n",
    "  }\n",
    "]\n",
    "instance_group [\n",
    "  {\n",
    "    count: 1\n",
    "    kind: KIND_GPU #GPU 사용\n",
    "  }\n",
    "]\n",
    "dynamic_batching {\n",
    "  preferred_batch_size: [ 4, 8 ] #선호하는 배치 크기\n",
    "  max_queue_delay_microseconds: 100 #최대 대기 시간\n",
    "}\n",
    "default_model_filename: \"model.pt\" # 모델 파일 이름"
   ]
  },
  {
   "cell_type": "markdown",
   "metadata": {
    "tags": []
   },
   "source": [
    "# 3. 아티펙트 패키징"
   ]
  },
  {
   "cell_type": "markdown",
   "metadata": {},
   "source": [
    "## 모델 리파지토리 폴더 구조\n",
    "```\n",
    "model_serving_folder\n",
    "    - model_name\n",
    "        - version_number\n",
    "            - model file\n",
    "        - config file\n",
    "\n",
    "# Example\n",
    "hello-serve-pt\n",
    "    - hello\n",
    "        - 1\n",
    "            - model.pt\n",
    "        - config.pbtxt\n",
    "\n",
    "```\n"
   ]
  },
  {
   "cell_type": "markdown",
   "metadata": {},
   "source": [
    "##  아티펙트 폴더 생성 \n",
    "* TRITON 서버를 위한 모델 서빙 폴더 구조를 생성하고 필요한 파일들을 복사하는 과정\n",
    "    * 이 구조는 TRITON 서버의 요구사항을 준수하는 것으로 1/각 모델은 자신의 폴더를 갖고 2/모델 버전은 숫자폴더에 저장하고 3/설정파일은 모델 폴더에 위치하게 합니다."
   ]
  },
  {
   "cell_type": "code",
   "execution_count": 64,
   "metadata": {
    "tags": []
   },
   "outputs": [
    {
     "name": "stdout",
     "output_type": "stream",
     "text": [
      "triton-serve-jit:\n",
      "tts-vits\n",
      "\n",
      "triton-serve-jit/tts-vits:\n",
      "1\n",
      "config.pbtxt\n",
      "\n",
      "triton-serve-jit/tts-vits/1:\n",
      "model.pt\n"
     ]
    }
   ],
   "source": [
    "import os\n",
    "from local_utils.triton_util import make_folder_structure, copy_artifact, remove_folder\n",
    "\n",
    "# 1. 변수 설정\n",
    "# triton-hello-serve-pt 폴더 생성\n",
    "workspace_folder =\"workspace\" #작업폴더\n",
    "model_serving_folder = 'triton-serve-jit'#TRITON 서버 폴더\n",
    "model_name = \"tts-vits\" #모델 이름\n",
    "model_file_name = \"trace_vits.pt\" #모델파일이름\n",
    "\n",
    "# 2. 파일 경로 설정\n",
    "model_path = os.path.join(workspace_folder, model_file_name) #모델 파일 경로\n",
    "\n",
    "model_config_path = os.path.join(workspace_folder, 'config.pbtxt')#설정 파일 경로\n",
    "\n",
    "# 3. 폴더 구조 생성\n",
    "make_folder_structure(model_serving_folder, model_name=model_name) \n",
    "\n",
    " #copy_artifact(model_serving_folder, model_name, trace_model_name, model_config)\n",
    "copy_artifact(model_serving_folder=model_serving_folder, \n",
    "            model_name=model_name, \n",
    "            model_artifact=model_path, \n",
    "            config=model_config_path)"
   ]
  },
  {
   "cell_type": "markdown",
   "metadata": {
    "tags": []
   },
   "source": [
    "### 폴더 삭제\n",
    "- 필요시 주석 제거하고 사용하세요."
   ]
  },
  {
   "cell_type": "code",
   "execution_count": 5,
   "metadata": {
    "tags": []
   },
   "outputs": [],
   "source": [
    "# model_serving_folder = 'triton-serve-jit'\n",
    "# remove_folder(model_serving_folder)"
   ]
  },
  {
   "cell_type": "markdown",
   "metadata": {
    "tags": []
   },
   "source": [
    "# 4. 로컬 도커에서 실행 테스트"
   ]
  },
  {
   "cell_type": "markdown",
   "metadata": {
    "jp-MarkdownHeadingCollapsed": true,
    "tags": []
   },
   "source": [
    "## 4.0. 도커에서의 실행 테스트는 아래와 같은 순서로 진행 함.\n",
    "\n",
    "\n",
    "#### (1) 터미널 실행\n",
    "\n",
    "아래에서 둘 중의 한개의 도커를 실행 하시면 됩니다.\n",
    "\n",
    "#### (2) SageMaker Triton 도커 컨테이너 실행 -- triton 24.05 version :\n",
    "* ECR에서 TRITON 서버 도커 이미지를 가져오는 과정 1/ECR 로그인(get-loginp-password) 2/도커이미지 가져오기(pull) \n",
    "* 3/TRITON서버를 자세한 로깅 옵션과 함께 실행하기 (docker run \\)\n",
    "```\n",
    "aws ecr get-login-password --region us-east-1 | docker login --username AWS --password-stdin 763104351884.dkr.ecr.us-east-1.amazonaws.com\n",
    "\n",
    "docker pull 763104351884.dkr.ecr.us-east-1.amazonaws.com/sagemaker-tritonserver:24.05-py3\n",
    "\n",
    "# Move to current folder (e.g.: /home/ec2-user/SageMaker/lab/00-trition-tts-vits/ )\n",
    "\n",
    "docker run --gpus=1 --rm -p8000:8000 -p8001:8001 -p8002:8002 -v `pwd`/triton-serve-jit:/models 763104351884.dkr.ecr.us-east-1.amazonaws.com/sagemaker-tritonserver:24.05-py3 tritonserver --model-repository=/models --log-verbose=3 --log-info=1 --log-warning=1 --log-error=1\n",
    "```\n",
    "\n",
    "#### Option:  NVidia Triton 도커 컨테이너 실행\n",
    "- 위의 터미널에 아래와 같이 명령어를 하나씩 실행 하세요.\n",
    "```\n",
    "docker run --gpus=1 --rm -p8000:8000 -p8001:8001 -p8002:8002 -v `pwd`/triton-serve-jit:/models nvcr.io/nvidia/tritonserver:22.08-py3 tritonserver --model-repository=/models --log-verbose=3 --log-info=1 --log-warning=1 --log-error=1\n",
    "```\n",
    "\n",
    "\n",
    "#### (3) 도커 관련 유용한 명령어\n",
    "```\n",
    "docker rm -f $(docker ps -qa)\n",
    "\n",
    "# 도커 실행하여 들어가 보기\n",
    "docker run -it --entrypoint /bin/bash nvcr.io/nvidia/tritonserver:22.08-py3\n",
    "\n",
    "# 실행중인 도커 컨테이너 들어가기\n",
    "docker exec -it <container_name_or_id> /bin/bash\n",
    "\n",
    "# 실시간 로그 확인\n",
    "docker logs -f <container_id>\n",
    "\n",
    "# 특정 에러 검색\n",
    "docker logs <container_id> | grep ERROR\n",
    "\n",
    "# 특정 모델 관련 로그 검색\n",
    "docker logs <container_id> | grep tts-vits\n",
    "\n",
    "```"
   ]
  },
  {
   "cell_type": "markdown",
   "metadata": {},
   "source": [
    "## 4.1. !!! #### 터미널에 \"Triton 도커 컨테이너 실행\" 을 해주세요. ### !!!"
   ]
  },
  {
   "cell_type": "markdown",
   "metadata": {
    "tags": []
   },
   "source": [
    "# 5. Run Inference on Triton Client"
   ]
  },
  {
   "cell_type": "markdown",
   "metadata": {},
   "source": [
    "## Triton Client 초기화\n",
    "* TRITON 서버에 연결하기 위한 클라이언트 설정 : http, gRPC 클라이언트 동시 설정\n",
    "* HTTP클라이언트 vs gRPC 클라이언트\n",
    "    * HTTP: 간단한 설정, 디버깅 용이, 웹브라우저 테스트 가능\n",
    "    * gRPC : 더 빠른 성능, 스트리밍 지원, 양방향 통신"
   ]
  },
  {
   "cell_type": "code",
   "execution_count": 65,
   "metadata": {
    "tags": []
   },
   "outputs": [],
   "source": [
    "from local_utils.triton_util import setup_triton_client\n",
    "triton_client, grpcclient = setup_triton_client()"
   ]
  },
  {
   "cell_type": "markdown",
   "metadata": {},
   "source": [
    "## Import Lib for converting text to token ID \n",
    "* VITS 모델을 사용하기 위한 기본 설정과 텍스트 전처리를 위한 함수 정의 과정"
   ]
  },
  {
   "cell_type": "code",
   "execution_count": 66,
   "metadata": {
    "tags": []
   },
   "outputs": [],
   "source": [
    "#필요한 라이브러리 임포트 # 주피터 노트북에서 그래프 표시\n",
    "%matplotlib inline \n",
    "import matplotlib.pyplot as plt # 시각화 라이브러리\n",
    "import IPython.display as ipd #오디오 재생용\n",
    "import torch #PyTorch\n",
    "import commons #VITS 공통함수\n",
    "import utils #VITS 유틸리티 함수\n",
    "from text import text_to_sequence #텍스트 전처리 함수\n",
    "\n",
    "#텍스트 전처리 함수\n",
    "def get_text(text, hps):\n",
    "    #텍스트를 숫자 시퀀스로 바꿈\n",
    "    text_norm = text_to_sequence(text, hps.data.text_cleaners)\n",
    "    #blank 토큰 추가 (있는 경우)\n",
    "    if hps.data.add_blank:\n",
    "        text_norm = commons.intersperse(text_norm, 0)\n",
    "    #PyTorch 텐서로 변환    \n",
    "    text_norm = torch.LongTensor(text_norm)\n",
    "    return text_norm\n",
    "\n",
    "#모델 설정 로드 : LJ Speech 데이테셋용 설정 파일 로드\n",
    "hps = utils.get_hparams_from_file(\"vits/configs/ljs_base.json\")"
   ]
  },
  {
   "cell_type": "markdown",
   "metadata": {},
   "source": [
    "### Define Text to be spoken"
   ]
  },
  {
   "cell_type": "code",
   "execution_count": 60,
   "metadata": {
    "tags": []
   },
   "outputs": [],
   "source": [
    "# text = \"Claude is AI for all of us. Whether you're brainstorming alone or building with a team of thousands, Claude is here to help\"\n",
    "text = \"Today, we're announcing the Claude 3 model family, which sets new industry benchmarks across a wide range of cognitive tasks. The family includes three state-of-the-art models in ascending order of capability: Claude 3 Haiku, Claude 3 Sonnet, and Claude 3 Opus. Each successive model offers increasingly powerful performance, allowing users to select the optimal balance of intelligence, speed, and cost for their specific application.\""
   ]
  },
  {
   "cell_type": "markdown",
   "metadata": {},
   "source": [
    "## Create input variables"
   ]
  },
  {
   "cell_type": "code",
   "execution_count": 74,
   "metadata": {
    "tags": []
   },
   "outputs": [],
   "source": [
    "import numpy as np\n",
    "\n",
    "def create_input_data(text, hps, noise_scale, noise_scale_w, length_scale):\n",
    "    #1.텍스트 전처리\n",
    "    stn_tst = get_text(text, hps) # \"hello\" --> [12,5,12,3,4,5]\n",
    "    x_tst = stn_tst #변환된 시퀀스를 x_tst에 할당\n",
    "    \n",
    "    #2.텍스트 길이 정보 생성\n",
    "    x_tst_lengths = torch.LongTensor([stn_tst.size(0)]).cuda() # 시퀀스 길이를 텐서로 변환하고 GPU로 이동\n",
    "    \n",
    "    #3.NumPy 배열로 변환\n",
    "    x_np = x_tst.detach().cpu().numpy() #GPU > CPU, 텐서 > NumPy\n",
    "    x_np = x_np.reshape(1,-1) #(N,) > (1,N)형태로 변환\n",
    "    x_length_np = x_tst_lengths.detach().cpu().numpy() #길이 정보도 NumPy 배열로 변환\n",
    "    \n",
    "    #4.생성 파라미터 설정\n",
    "    #각 파라미터를 float32 타입 NumPy 배열로 변환\n",
    "    noise_scale_data = np.array([noise_scale], dtype=np.float32) #음성 변화도\n",
    "    length_scale_data = np.array([noise_scale_w], dtype=np.float32) #발화 속도\n",
    "    noise_scale_w_data = np.array([length_scale], dtype=np.float32) #음성 다양성\n",
    "\n",
    "    # (1,N)크기의 텍스트 시퀀스, (1,) 크기의 길이정보, (1,)크기의 음성 변화도 (1,)크기의 발화속도 (1,)크기의 음성 다양성\n",
    "    return (x_np, x_length_np, noise_scale_data, length_scale_data, noise_scale_w_data)\n",
    "\n",
    "#함수 호출 예시:\n",
    "input_vars = create_input_data(text, hps, \n",
    "                              noise_scale=.667, \n",
    "                              noise_scale_w=0.8, \n",
    "                              length_scale=1)\n"
   ]
  },
  {
   "cell_type": "code",
   "execution_count": 69,
   "metadata": {
    "tags": []
   },
   "outputs": [
    {
     "name": "stdout",
     "output_type": "stream",
     "text": [
      "x_np shape: (1, 43)\n",
      "x_np sample: [[  0  50   0  83   0  54   0 156   0  57   0 135   0   3   0  16   0  50\n",
      "    0 156   0  43   0 135   0  16   0  69   0 158   0 123   0  16   0  52\n",
      "    0  63   0 158   0   6   0]]\n",
      "x_length_np shape: (1,)\n",
      "x_length_np: [43]\n",
      "noise_scale_data shape: (1,)\n",
      "noise_scale_data: [0.667]\n",
      "length_scale_data shape: (1,)\n",
      "length_scale_data: [0.8]\n",
      "noise_scale_w_data shape: (1,)\n",
      "noise_scale_w_data: [1.]\n"
     ]
    }
   ],
   "source": [
    "x_np, x_length_np, noise_scale_data, length_scale_data, noise_scale_w_data = input_vars\n",
    "# print variables\n",
    "print(\"x_np shape:\", x_np.shape)\n",
    "print(\"x_np sample:\", x_np[:5])  # Adjust the slice as needed\n",
    "\n",
    "print(\"x_length_np shape:\", x_length_np.shape)\n",
    "print(\"x_length_np:\", x_length_np)\n",
    "\n",
    "print(\"noise_scale_data shape:\", noise_scale_data.shape)\n",
    "print(\"noise_scale_data:\", noise_scale_data)\n",
    "\n",
    "print(\"length_scale_data shape:\", length_scale_data.shape)\n",
    "print(\"length_scale_data:\", length_scale_data)\n",
    "\n",
    "print(\"noise_scale_w_data shape:\", noise_scale_w_data.shape)\n",
    "print(\"noise_scale_w_data:\", noise_scale_w_data)\n"
   ]
  },
  {
   "cell_type": "markdown",
   "metadata": {},
   "source": [
    "## Create payload for Triton client\n",
    "* gRPC 클라이언트를 위한 입력 데이터를 준비하는 함수 정의"
   ]
  },
  {
   "cell_type": "code",
   "execution_count": 80,
   "metadata": {
    "tags": []
   },
   "outputs": [
    {
     "name": "stdout",
     "output_type": "stream",
     "text": [
      "x data shape: (1, 43)\n",
      "x_length shape: (1, 1)\n",
      "noise_scale shape: (1, 1)\n",
      "length_scale shape: (1, 1)\n",
      "noise_scale_w shape: (1, 1)\n"
     ]
    }
   ],
   "source": [
    "import numpy as np\n",
    "import tritonclient.grpc as grpcclient\n",
    "\n",
    "#1.함수 정의 및 배치 크기 확인\n",
    "def create_client_payload(x, x_length, noise_scale, length_scale, noise_scale_w):\n",
    "    inputs = []\n",
    "    batch_size = x.shape[0]     # Determine the batch size from x\n",
    "    \n",
    "#2.텍스트 입력 설정:\n",
    "    # x input\n",
    "    x_input = grpcclient.InferInput('x', x.shape, \"INT64\")\n",
    "    x_input.set_data_from_numpy(x)\n",
    "    inputs.append(x_input)\n",
    "\n",
    "#3.텍스트 길이 입력 설정:\n",
    "    # x_length input\n",
    "    x_length_input = grpcclient.InferInput('x_length', [batch_size, 1], \"INT64\")\n",
    "    x_length_input.set_data_from_numpy(x_length.reshape(batch_size, 1))\n",
    "    inputs.append(x_length_input)\n",
    "\n",
    "#4.생성 파라미터 입력 설정:\n",
    "    # 음성 변화도\n",
    "    noise_scale_input = grpcclient.InferInput('noise_scale', [batch_size, 1], \"FP32\")\n",
    "    noise_scale_input.set_data_from_numpy(np.full((batch_size, 1), noise_scale, dtype=np.float32))\n",
    "    inputs.append(noise_scale_input)\n",
    "\n",
    "    # 발화 속도\n",
    "    length_scale_input = grpcclient.InferInput('length_scale', [batch_size, 1], \"FP32\")\n",
    "    length_scale_input.set_data_from_numpy(np.full((batch_size, 1), length_scale, dtype=np.float32))\n",
    "    inputs.append(length_scale_input)\n",
    "\n",
    "    # 음성 다양성\n",
    "    noise_scale_w_input = grpcclient.InferInput('noise_scale_w', [batch_size, 1], \"FP32\")\n",
    "    noise_scale_w_input.set_data_from_numpy(np.full((batch_size, 1), noise_scale_w, dtype=np.float32))\n",
    "    inputs.append(noise_scale_w_input)\n",
    "    \n",
    "#5. 형태 출력:\n",
    "    print(\"x data shape:\", x.shape)\n",
    "    print(\"x_length shape:\", x_length.reshape(batch_size, 1).shape)\n",
    "    print(\"noise_scale shape:\", (batch_size, 1))\n",
    "    print(\"length_scale shape:\", (batch_size, 1))\n",
    "    print(\"noise_scale_w shape:\", (batch_size, 1))\n",
    "    \n",
    "    return inputs\n",
    "\n",
    "#6. 함수 사용 예시:\n",
    "inputs = create_client_payload(x=x_np, \n",
    "                      x_length=x_length_np, \n",
    "                      noise_scale=noise_scale_data, \n",
    "                      length_scale=length_scale_data,\n",
    "                      noise_scale_w=noise_scale_w_data)\n",
    "    \n"
   ]
  },
  {
   "cell_type": "markdown",
   "metadata": {},
   "source": [
    "##  Create output variable for Ttiton client"
   ]
  },
  {
   "cell_type": "code",
   "execution_count": 81,
   "metadata": {
    "tags": []
   },
   "outputs": [],
   "source": [
    "outputs = []\n",
    "outputs.append(grpcclient.InferRequestedOutput('OUTPUT_0'))"
   ]
  },
  {
   "cell_type": "markdown",
   "metadata": {
    "tags": []
   },
   "source": [
    "\n",
    "# 6. inference on Triton Docker\n",
    "* TRITON클라이언트를 사용해 실제 추론을 수행하는 함수를 호출하는 부분\n"
   ]
  },
  {
   "cell_type": "code",
   "execution_count": 83,
   "metadata": {
    "tags": []
   },
   "outputs": [
    {
     "name": "stdout",
     "output_type": "stream",
     "text": [
      "tts-vits\n",
      "Available models: \n"
     ]
    }
   ],
   "source": [
    "# model_name 변수 확인\n",
    "print(model_name)  # \"tts-vits\"가 맞는지 확인\n",
    "\n",
    "# 사용 가능한 모델 목록 확인\n",
    "model_list = triton_client.get_model_repository_index()\n",
    "print(\"Available models:\", model_list)"
   ]
  },
  {
   "cell_type": "code",
   "execution_count": 84,
   "metadata": {
    "tags": []
   },
   "outputs": [
    {
     "name": "stdout",
     "output_type": "stream",
     "text": [
      "Server is ready\n",
      "Model is not ready\n"
     ]
    }
   ],
   "source": [
    "# 서버가 실행 중인지 확인\n",
    "if triton_client.is_server_ready():\n",
    "    print(\"Server is ready\")\n",
    "else:\n",
    "    print(\"Server is not ready\")\n",
    "\n",
    "# 모델이 로드되었는지 확인\n",
    "if triton_client.is_model_ready(\"tts-vits\"):\n",
    "    print(\"Model is ready\")\n",
    "else:\n",
    "    print(\"Model is not ready\")"
   ]
  },
  {
   "cell_type": "code",
   "execution_count": 85,
   "metadata": {
    "tags": []
   },
   "outputs": [
    {
     "name": "stdout",
     "output_type": "stream",
     "text": [
      "CONTAINER ID   IMAGE                                                                           COMMAND                  CREATED             STATUS             PORTS                                                           NAMES\n",
      "d525019ac74e   763104351884.dkr.ecr.us-east-1.amazonaws.com/sagemaker-tritonserver:24.05-py3   \"/opt/nvidia/nvidia_…\"   About an hour ago   Up About an hour   0.0.0.0:8000-8002->8000-8002/tcp, :::8000-8002->8000-8002/tcp   magical_hamilton\n"
     ]
    }
   ],
   "source": [
    "!docker ps"
   ]
  },
  {
   "cell_type": "code",
   "execution_count": 86,
   "metadata": {
    "collapsed": true,
    "jupyter": {
     "outputs_hidden": true
    },
    "tags": []
   },
   "outputs": [
    {
     "name": "stdout",
     "output_type": "stream",
     "text": [
      "\n",
      "=============================\n",
      "== Triton Inference Server ==\n",
      "=============================\n",
      "\n",
      "NVIDIA Release 24.05 (build <unknown>)\n",
      "Triton Server Version 2.46.0\n",
      "\n",
      "Copyright (c) 2018-2023, NVIDIA CORPORATION & AFFILIATES.  All rights reserved.\n",
      "\n",
      "Various files include modifications (c) NVIDIA CORPORATION & AFFILIATES.  All rights reserved.\n",
      "\n",
      "This container image and its contents are governed by the NVIDIA Deep Learning Container License.\n",
      "By pulling and using the container, you accept the terms and conditions of this license:\n",
      "https://developer.nvidia.com/ngc/nvidia-deep-learning-container-license\n",
      "\n",
      "I1029 23:53:23.711153 1 cache_manager.cc:480] \"Create CacheManager with cache_dir: '/opt/tritonserver/caches'\"\n",
      "I1029 23:53:23.977305 1 pinned_memory_manager.cc:275] \"Pinned memory pool is created at '0x7f58d2000000' with size 268435456\"\n",
      "I1029 23:53:23.979626 1 cuda_memory_manager.cc:107] \"CUDA memory pool is created on device 0 with size 67108864\"\n",
      "I1029 23:53:23.983404 1 server.cc:606] \n",
      "+------------------+------+\n",
      "| Repository Agent | Path |\n",
      "+------------------+------+\n",
      "+------------------+------+\n",
      "\n",
      "I1029 23:53:23.983437 1 server.cc:633] \n",
      "+---------+------+--------+\n",
      "| Backend | Path | Config |\n",
      "+---------+------+--------+\n",
      "+---------+------+--------+\n",
      "\n",
      "I1029 23:53:23.983448 1 model_lifecycle.cc:276] \"ModelStates()\"\n",
      "I1029 23:53:23.983458 1 server.cc:676] \n",
      "+-------+---------+--------+\n",
      "| Model | Version | Status |\n",
      "+-------+---------+--------+\n",
      "+-------+---------+--------+\n",
      "\n",
      "I1029 23:53:24.012571 1 metrics.cc:877] \"Collecting metrics for GPU 0: Tesla T4\"\n",
      "I1029 23:53:24.019585 1 tritonserver.cc:2557] \n",
      "+----------------------------------+-----------------------------------------------------------------------------------------------------------------------------------------------------------------------------------------------------------------+\n",
      "| Option                           | Value                                                                                                                                                                                                           |\n",
      "+----------------------------------+-----------------------------------------------------------------------------------------------------------------------------------------------------------------------------------------------------------------+\n",
      "| server_id                        | triton                                                                                                                                                                                                          |\n",
      "| server_version                   | 2.46.0                                                                                                                                                                                                          |\n",
      "| server_extensions                | classification sequence model_repository model_repository(unload_dependents) schedule_policy model_configuration system_shared_memory cuda_shared_memory binary_tensor_data parameters statistics trace logging |\n",
      "| model_repository_path[0]         | /models                                                                                                                                                                                                         |\n",
      "| model_control_mode               | MODE_NONE                                                                                                                                                                                                       |\n",
      "| strict_model_config              | 0                                                                                                                                                                                                               |\n",
      "| model_config_name                |                                                                                                                                                                                                                 |\n",
      "| rate_limit                       | OFF                                                                                                                                                                                                             |\n",
      "| pinned_memory_pool_byte_size     | 268435456                                                                                                                                                                                                       |\n",
      "| cuda_memory_pool_byte_size{0}    | 67108864                                                                                                                                                                                                        |\n",
      "| min_supported_compute_capability | 6.0                                                                                                                                                                                                             |\n",
      "| strict_readiness                 | 1                                                                                                                                                                                                               |\n",
      "| exit_timeout                     | 30                                                                                                                                                                                                              |\n",
      "| cache_enabled                    | 0                                                                                                                                                                                                               |\n",
      "+----------------------------------+-----------------------------------------------------------------------------------------------------------------------------------------------------------------------------------------------------------------+\n",
      "\n",
      "I1029 23:53:24.020097 1 grpc_server.cc:2370] \n",
      "+----------------------------------------------+---------+\n",
      "| GRPC KeepAlive Option                        | Value   |\n",
      "+----------------------------------------------+---------+\n",
      "| keepalive_time_ms                            | 7200000 |\n",
      "| keepalive_timeout_ms                         | 20000   |\n",
      "| keepalive_permit_without_calls               | 0       |\n",
      "| http2_max_pings_without_data                 | 2       |\n",
      "| http2_min_recv_ping_interval_without_data_ms | 300000  |\n",
      "| http2_max_ping_strikes                       | 2       |\n",
      "+----------------------------------------------+---------+\n",
      "\n",
      "I1029 23:53:24.020763 1 grpc_server.cc:102] \"Ready for RPC 'Check', 0\"\n",
      "I1029 23:53:24.020793 1 grpc_server.cc:102] \"Ready for RPC 'ServerLive', 0\"\n",
      "I1029 23:53:24.020806 1 grpc_server.cc:102] \"Ready for RPC 'ServerReady', 0\"\n",
      "I1029 23:53:24.020817 1 grpc_server.cc:102] \"Ready for RPC 'ModelReady', 0\"\n",
      "I1029 23:53:24.020834 1 grpc_server.cc:102] \"Ready for RPC 'ServerMetadata', 0\"\n",
      "I1029 23:53:24.020849 1 grpc_server.cc:102] \"Ready for RPC 'ModelMetadata', 0\"\n",
      "I1029 23:53:24.020860 1 grpc_server.cc:102] \"Ready for RPC 'ModelConfig', 0\"\n",
      "I1029 23:53:24.020873 1 grpc_server.cc:102] \"Ready for RPC 'SystemSharedMemoryStatus', 0\"\n",
      "I1029 23:53:24.020884 1 grpc_server.cc:102] \"Ready for RPC 'SystemSharedMemoryRegister', 0\"\n",
      "I1029 23:53:24.020895 1 grpc_server.cc:102] \"Ready for RPC 'SystemSharedMemoryUnregister', 0\"\n",
      "I1029 23:53:24.020909 1 grpc_server.cc:102] \"Ready for RPC 'CudaSharedMemoryStatus', 0\"\n",
      "I1029 23:53:24.020925 1 grpc_server.cc:102] \"Ready for RPC 'CudaSharedMemoryRegister', 0\"\n",
      "I1029 23:53:24.020936 1 grpc_server.cc:102] \"Ready for RPC 'CudaSharedMemoryUnregister', 0\"\n",
      "I1029 23:53:24.020946 1 grpc_server.cc:102] \"Ready for RPC 'RepositoryIndex', 0\"\n",
      "I1029 23:53:24.020956 1 grpc_server.cc:102] \"Ready for RPC 'RepositoryModelLoad', 0\"\n",
      "I1029 23:53:24.020968 1 grpc_server.cc:102] \"Ready for RPC 'RepositoryModelUnload', 0\"\n",
      "I1029 23:53:24.020981 1 grpc_server.cc:102] \"Ready for RPC 'ModelStatistics', 0\"\n",
      "I1029 23:53:24.020996 1 grpc_server.cc:102] \"Ready for RPC 'Trace', 0\"\n",
      "I1029 23:53:24.021013 1 grpc_server.cc:102] \"Ready for RPC 'Logging', 0\"\n",
      "I1029 23:53:24.021131 1 grpc_server.cc:366] \"Thread started for CommonHandler\"\n",
      "I1029 23:53:24.021355 1 infer_handler.h:1198] \"StateNew, 0 Step START\"\n",
      "I1029 23:53:24.021372 1 infer_handler.cc:680] \"New request handler for ModelInferHandler, 0\"\n",
      "I1029 23:53:24.021398 1 infer_handler.h:1322] \"Thread started for ModelInferHandler\"\n",
      "I1029 23:53:24.021525 1 infer_handler.h:1198] \"StateNew, 0 Step START\"\n",
      "I1029 23:53:24.021629 1 infer_handler.cc:680] \"New request handler for ModelInferHandler, 0\"\n",
      "I1029 23:53:24.021682 1 infer_handler.h:1322] \"Thread started for ModelInferHandler\"\n",
      "I1029 23:53:24.021831 1 infer_handler.h:1198] \"StateNew, 0 Step START\"\n",
      "I1029 23:53:24.021874 1 stream_infer_handler.cc:128] \"New request handler for ModelStreamInferHandler, 0\"\n",
      "I1029 23:53:24.021894 1 infer_handler.h:1322] \"Thread started for ModelStreamInferHandler\"\n",
      "I1029 23:53:24.021902 1 grpc_server.cc:2463] \"Started GRPCInferenceService at 0.0.0.0:8001\"\n",
      "I1029 23:53:24.022221 1 http_server.cc:4692] \"Started HTTPService at 0.0.0.0:8000\"\n",
      "I1029 23:53:24.063213 1 http_server.cc:362] \"Started Metrics Service at 0.0.0.0:8002\"\n",
      "I1029 23:57:23.378270 1 http_server.cc:4578] \"HTTP request: 0 /v2/health/ready\"\n",
      "I1029 23:57:23.378316 1 model_lifecycle.cc:276] \"ModelStates()\"\n",
      "I1029 23:57:46.846379 1 http_server.cc:4578] \"HTTP request: 0 /v2/models\"\n",
      "I1029 23:57:46.846423 1 http_server.cc:4672] \"HTTP error: 0 /v2/models - 404\"\n",
      "I1029 23:58:16.348553 1 http_server.cc:4578] \"HTTP request: 0 /v2/models/tts-vits/ready\"\n",
      "I1029 23:58:16.348592 1 model_lifecycle.cc:339] \"GetModel() 'tts-vits' version -1\"\n",
      "I1029 23:58:34.942931 1 http_server.cc:317] \"HTTP request: 0 /metrics\"\n",
      "I1030 00:34:37.486158 1 infer_handler.h:1308] \"Grpc::CQ::Next() Running state_id 0\\n\\tContext step 0 id 0\\n\\t\\t State id 0: State step 0\\n\"\n",
      "I1030 00:34:37.486196 1 infer_handler.cc:702] \"Process for ModelInferHandler, rpc_ok=1, 0 step START\"\n",
      "I1030 00:34:37.486214 1 infer_handler.h:1198] \"StateNew, 0 Step START\"\n",
      "I1030 00:34:37.486224 1 infer_handler.cc:680] \"New request handler for ModelInferHandler, 0\"\n",
      "I1030 00:34:37.486235 1 model_lifecycle.cc:339] \"GetModel() 'tts-vits' version -1\"\n",
      "I1030 00:34:37.486255 1 infer_handler.cc:949] \"[request id: <id_unknown>] Infer failed: Request for unknown model: 'tts-vits' is not found\"\n",
      "I1030 00:34:37.486334 1 infer_handler.h:1315] \"Returning from ModelInferHandler, 0, COMPLETE\"\n",
      "I1030 00:34:37.486338 1 infer_handler.h:1305] \"Received notification for ModelInferHandler, 0\"\n",
      "I1030 00:34:37.486349 1 infer_handler.h:1308] \"Grpc::CQ::Next() Running state_id 0\\n\\tContext step 0 id 0\\n\\t\\t State id 0: State step 1\\n\"\n",
      "I1030 00:34:37.486352 1 infer_handler.h:1308] \"Grpc::CQ::Next() Running state_id 0\\n\\tContext step 0 id 0\\n\\t\\t State id 0: State step 1\\n\"\n",
      "I1030 00:34:37.486368 1 infer_handler.cc:702] \"Process for ModelInferHandler, rpc_ok=1, 0 step COMPLETE\"\n",
      "I1030 00:34:37.486381 1 infer_handler.h:1315] \"Returning from ModelInferHandler, 0, FINISH\"\n",
      "I1030 00:34:37.486393 1 infer_handler.cc:702] \"Process for ModelInferHandler, rpc_ok=1, 0 step FINISH\"\n",
      "I1030 00:34:37.486417 1 infer_handler.h:1311] \"Done for ModelInferHandler, 0\"\n",
      "I1030 00:34:37.486426 1 infer_handler.h:1206] \"StateRelease, 0 Step FINISH\"\n",
      "I1030 00:57:01.553352 1 infer_handler.h:1308] \"Grpc::CQ::Next() Running state_id 0\\n\\tContext step 0 id 0\\n\\t\\t State id 0: State step 0\\n\"\n",
      "I1030 00:57:01.553392 1 infer_handler.cc:702] \"Process for ModelInferHandler, rpc_ok=1, 0 step START\"\n",
      "I1030 00:57:01.553407 1 infer_handler.h:1198] \"StateNew, 0 Step START\"\n",
      "I1030 00:57:01.553418 1 infer_handler.cc:680] \"New request handler for ModelInferHandler, 0\"\n",
      "I1030 00:57:01.553429 1 model_lifecycle.cc:339] \"GetModel() 'tts-vits' version -1\"\n",
      "I1030 00:57:01.553445 1 infer_handler.cc:949] \"[request id: <id_unknown>] Infer failed: Request for unknown model: 'tts-vits' is not found\"\n",
      "I1030 00:57:01.553524 1 infer_handler.h:1315] \"Returning from ModelInferHandler, 0, COMPLETE\"\n",
      "I1030 00:57:01.553527 1 infer_handler.h:1305] \"Received notification for ModelInferHandler, 0\"\n",
      "I1030 00:57:01.553543 1 infer_handler.h:1308] \"Grpc::CQ::Next() Running state_id 0\\n\\tContext step 0 id 0\\n\\t\\t State id 0: State step 1\\n\"\n",
      "I1030 00:57:01.553554 1 infer_handler.cc:702] \"Process for ModelInferHandler, rpc_ok=1, 0 step COMPLETE\"\n",
      "I1030 00:57:01.553559 1 infer_handler.h:1308] \"Grpc::CQ::Next() Running state_id 0\\n\\tContext step 0 id 0\\n\\t\\t State id 0: State step 1\\n\"\n",
      "I1030 00:57:01.553575 1 infer_handler.cc:702] \"Process for ModelInferHandler, rpc_ok=1, 0 step FINISH\"\n",
      "I1030 00:57:01.553590 1 infer_handler.h:1311] \"Done for ModelInferHandler, 0\"\n",
      "I1030 00:57:01.553598 1 infer_handler.h:1206] \"StateRelease, 0 Step FINISH\"\n",
      "I1030 00:57:01.553563 1 infer_handler.h:1315] \"Returning from ModelInferHandler, 0, FINISH\"\n",
      "I1030 00:58:31.170356 1 grpc_server.cc:152] \"Process for RepositoryIndex, rpc_ok=1, 0 step START\"\n",
      "I1030 00:58:31.170403 1 grpc_server.cc:102] \"Ready for RPC 'RepositoryIndex', 1\"\n",
      "I1030 00:58:31.170462 1 model_lifecycle.cc:276] \"ModelStates()\"\n",
      "I1030 00:58:31.170554 1 grpc_server.cc:152] \"Process for RepositoryIndex, rpc_ok=1, 0 step COMPLETE\"\n",
      "I1030 00:58:31.170564 1 grpc_server.cc:358] \"Done for RepositoryIndex, 0\"\n",
      "I1030 00:59:12.640749 1 grpc_server.cc:152] \"Process for ServerReady, rpc_ok=1, 0 step START\"\n",
      "I1030 00:59:12.640793 1 grpc_server.cc:102] \"Ready for RPC 'ServerReady', 1\"\n",
      "I1030 00:59:12.640805 1 model_lifecycle.cc:276] \"ModelStates()\"\n",
      "I1030 00:59:12.640860 1 grpc_server.cc:152] \"Process for ServerReady, rpc_ok=1, 0 step COMPLETE\"\n",
      "I1030 00:59:12.640874 1 grpc_server.cc:358] \"Done for ServerReady, 0\"\n",
      "I1030 00:59:12.641638 1 grpc_server.cc:152] \"Process for ModelReady, rpc_ok=1, 0 step START\"\n",
      "I1030 00:59:12.641663 1 grpc_server.cc:102] \"Ready for RPC 'ModelReady', 1\"\n",
      "I1030 00:59:12.641675 1 model_lifecycle.cc:339] \"GetModel() 'tts-vits' version -1\"\n",
      "I1030 00:59:12.641724 1 grpc_server.cc:152] \"Process for ModelReady, rpc_ok=1, 0 step COMPLETE\"\n",
      "I1030 00:59:12.641737 1 grpc_server.cc:358] \"Done for ModelReady, 0\"\n"
     ]
    }
   ],
   "source": [
    "!docker logs d525019ac74e"
   ]
  },
  {
   "cell_type": "code",
   "execution_count": 87,
   "metadata": {
    "collapsed": true,
    "jupyter": {
     "outputs_hidden": true
    },
    "tags": []
   },
   "outputs": [
    {
     "name": "stdout",
     "output_type": "stream",
     "text": [
      "name: \"tts-vits\" #모델 이름\n",
      "platform: \"pytorch_libtorch\" #PyTorch 모델 사용\n",
      "max_batch_size: 8 #최대 배치 크기\n",
      "input [\n",
      "  { # 입력 텍스트\n",
      "    name: \"x\"\n",
      "    data_type: TYPE_INT64 # 정수형\n",
      "    dims: [ -1 ] # 가변 길이\n",
      "  },\n",
      "  {  # 텍스트길이\n",
      "    name: \"x_length\"\n",
      "    data_type: TYPE_INT64\n",
      "    dims: [ 1 ]\n",
      "    reshape: { shape: [] }\n",
      "  },\n",
      "  { # 음성 변화도\n",
      "    name: \"noise_scale\"\n",
      "    data_type: TYPE_FP32\n",
      "    dims: [ 1 ]\n",
      "    reshape: { shape: [] }\n",
      "  },\n",
      "  {\n",
      "    name: \"length_scale\"\n",
      "    data_type: TYPE_FP32\n",
      "    dims: [ 1 ]\n",
      "    reshape: { shape: [] }\n",
      "  },\n",
      "  {\n",
      "    name: \"noise_scale_w\"\n",
      "    data_type: TYPE_FP32\n",
      "    dims: [ 1 ]\n",
      "    reshape: { shape: [] }\n",
      "  }\n",
      "]\n",
      "output [ #출력 설정\n",
      "  {\n",
      "    name: \"OUTPUT_0\" #출력명\n",
      "    data_type: TYPE_FP32\n",
      "    dims: [ 1, -1 ]\n",
      "  }\n",
      "]\n",
      "instance_group [\n",
      "  {\n",
      "    count: 1\n",
      "    kind: KIND_GPU #GPU 사용\n",
      "  }\n",
      "]\n",
      "dynamic_batching {\n",
      "  preferred_batch_size: [ 4, 8 ] #선호하는 배치 크기\n",
      "  max_queue_delay_microseconds: 100 #최대 대기 시간\n",
      "}\n",
      "default_model_filename: \"model.pt\" # 모델 파일 이름\n"
     ]
    }
   ],
   "source": [
    "!cat triton-serve-jit/tts-vits/config.pbtxt"
   ]
  },
  {
   "cell_type": "code",
   "execution_count": 92,
   "metadata": {
    "tags": []
   },
   "outputs": [
    {
     "name": "stdout",
     "output_type": "stream",
     "text": [
      "total 142952\n",
      "-rw-rw-r-- 1 ec2-user ec2-user 146379582 Oct 30 00:33 model.pt\n"
     ]
    }
   ],
   "source": [
    "!ls -l triton-serve-jit/tts-vits/1/"
   ]
  },
  {
   "cell_type": "code",
   "execution_count": 91,
   "metadata": {
    "tags": []
   },
   "outputs": [
    {
     "name": "stdout",
     "output_type": "stream",
     "text": [
      "/home/ec2-user/SageMaker/lab/00-trition-tts-vits/02-tts-vits-docker-trition\n"
     ]
    }
   ],
   "source": [
    "!pwd"
   ]
  },
  {
   "cell_type": "code",
   "execution_count": 94,
   "metadata": {
    "tags": []
   },
   "outputs": [],
   "source": [
    "from local_utils.triton_util import infer_triton_client\n",
    "\n",
    "result = infer_triton_client(triton_client, model_name, inputs, outputs)"
   ]
  },
  {
   "cell_type": "code",
   "execution_count": 95,
   "metadata": {
    "tags": []
   },
   "outputs": [
    {
     "data": {
      "text/plain": [
       "(1, 1, 24832)"
      ]
     },
     "execution_count": 95,
     "metadata": {},
     "output_type": "execute_result"
    }
   ],
   "source": [
    "output0_data = result.as_numpy('OUTPUT_0')\n",
    "output0_data.shape"
   ]
  },
  {
   "cell_type": "code",
   "execution_count": 96,
   "metadata": {
    "tags": []
   },
   "outputs": [
    {
     "data": {
      "text/html": [
       "\n",
       "                <audio  controls=\"controls\" >\n",
       "                    <source src=\"data:audio/wav;base64,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\" type=\"audio/wav\" />\n",
       "                    Your browser does not support the audio element.\n",
       "                </audio>\n",
       "              "
      ],
      "text/plain": [
       "<IPython.lib.display.Audio object>"
      ]
     },
     "metadata": {},
     "output_type": "display_data"
    }
   ],
   "source": [
    "audio = output0_data[0,0]\n",
    "audio\n",
    "\n",
    "ipd.display(ipd.Audio(audio, rate=hps.data.sampling_rate, normalize=False))"
   ]
  },
  {
   "cell_type": "code",
   "execution_count": null,
   "metadata": {},
   "outputs": [],
   "source": []
  }
 ],
 "metadata": {
  "kernelspec": {
   "display_name": "conda-vits-py310",
   "language": "python",
   "name": "conda-vits-py310"
  },
  "language_info": {
   "codemirror_mode": {
    "name": "ipython",
    "version": 3
   },
   "file_extension": ".py",
   "mimetype": "text/x-python",
   "name": "python",
   "nbconvert_exporter": "python",
   "pygments_lexer": "ipython3",
   "version": "3.10.15"
  },
  "notice": "Copyright 2018 Amazon.com, Inc. or its affiliates. All Rights Reserved.  Licensed under the Apache License, Version 2.0 (the \"License\"). You may not use this file except in compliance with the License. A copy of the License is located at http://aws.amazon.com/apache2.0/ or in the \"license\" file accompanying this file. This file is distributed on an \"AS IS\" BASIS, WITHOUT WARRANTIES OR CONDITIONS OF ANY KIND, either express or implied. See the License for the specific language governing permissions and limitations under the License."
 },
 "nbformat": 4,
 "nbformat_minor": 4
}
