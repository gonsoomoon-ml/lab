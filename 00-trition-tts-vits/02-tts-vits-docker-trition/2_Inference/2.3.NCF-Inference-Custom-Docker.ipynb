{
 "cells": [
  {
   "cell_type": "markdown",
   "metadata": {},
   "source": [
    "# [Module 2.3] 세이지 메이커 사용자 도커 이미지로 인퍼런스\n",
    "\n",
    "## 필수 사항 \n",
    "- 이 노트북은 sagemaker_inference_container/container-inference/ 의 아래 두개의 노트북을 먼저 실행해야 합니다.\n",
    "    - 1.1.Build_Docker.ipynb\n",
    "    - 2.1.Package_Model_Artifact.ipynb\n",
    "본 워크샵의 모든 노트북은 `conda_python3` 추가 패키지를 설치하고 모두 이 커널 에서 작업 합니다.\n",
    "\n",
    "\n",
    "## 이 노트북은 아래와 같은 작업을 합니다.\n",
    "\n",
    "- 1. 환경 셋업\n",
    "- 2. 로컬 모드에서 배포 및 추론 테스트\n",
    "- 3. 세이지 메이커 (호스트 모드)에서 배포 및 추론 테스트\n",
    "- 4. 세이지 메이커 신규 모델로 앤드포인트 업데이트\n",
    "- 5. 신규 엔드포인트 생성\n",
    "- 6. 신규 앤드포인트 생성 후에 Bake Time (예: 5분) 지난 후에 기존 엔드포인트 삭제\n",
    "- 7. 마지막 신규 엔드포인트 리소스 제거\n",
    "\n",
    "\n",
    "---    \n",
    "    "
   ]
  },
  {
   "cell_type": "markdown",
   "metadata": {},
   "source": [
    "# 1. 환경 셋업"
   ]
  },
  {
   "cell_type": "markdown",
   "metadata": {
    "tags": []
   },
   "source": [
    "## 기본 세팅\n",
    "사용하는 패키지는 import 시점에 다시 재로딩 합니다."
   ]
  },
  {
   "cell_type": "code",
   "execution_count": 1,
   "metadata": {
    "tags": []
   },
   "outputs": [],
   "source": [
    "%load_ext autoreload\n",
    "%autoreload 2\n",
    "\n",
    "import sys\n",
    "sys.path.append('./src')"
   ]
  },
  {
   "cell_type": "markdown",
   "metadata": {},
   "source": [
    "이전 노트북에서 인퍼런스 테스트를 완료한 티펙트를 가져옵니다.\n",
    "- inference_docker_image: 사용자 정의 도커 이미지\n",
    "- byom_artifact: 추론 코드를 포함한 모델 아티펙트"
   ]
  },
  {
   "cell_type": "code",
   "execution_count": 2,
   "metadata": {
    "tags": []
   },
   "outputs": [],
   "source": [
    "%store -r inference_docker_image\n",
    "# %store -r artifact_path\n",
    "%store -r byom_artifact\n",
    "%store -r bucket\n",
    "%store -r prefix"
   ]
  },
  {
   "cell_type": "code",
   "execution_count": 3,
   "metadata": {
    "tags": []
   },
   "outputs": [
    {
     "name": "stdout",
     "output_type": "stream",
     "text": [
      "inference_docker_image: \n",
      " 057716757052.dkr.ecr.us-east-1.amazonaws.com/ncf-sagemaker-inference\n",
      "byom_artifact: \n",
      " s3://sagemaker-us-east-1-057716757052/ncf/inference/model.tar.gz\n"
     ]
    }
   ],
   "source": [
    "print(\"inference_docker_image: \\n\", inference_docker_image)\n",
    "print(\"byom_artifact: \\n\", byom_artifact)"
   ]
  },
  {
   "cell_type": "code",
   "execution_count": 4,
   "metadata": {
    "tags": []
   },
   "outputs": [
    {
     "name": "stdout",
     "output_type": "stream",
     "text": [
      "sagemaker.config INFO - Not applying SDK defaults from location: /etc/xdg/sagemaker/config.yaml\n",
      "sagemaker.config INFO - Not applying SDK defaults from location: /home/ec2-user/.config/sagemaker/config.yaml\n",
      "sagemaker.config INFO - Not applying SDK defaults from location: /etc/xdg/sagemaker/config.yaml\n",
      "sagemaker.config INFO - Not applying SDK defaults from location: /home/ec2-user/.config/sagemaker/config.yaml\n"
     ]
    }
   ],
   "source": [
    "import sagemaker\n",
    "\n",
    "role = sagemaker.get_execution_role()"
   ]
  },
  {
   "cell_type": "markdown",
   "metadata": {},
   "source": [
    "# 2. 로컬 모드에서 배포 및 추론 테스트\n"
   ]
  },
  {
   "cell_type": "markdown",
   "metadata": {
    "Collapsed": "false"
   },
   "source": [
    "## Python SDK를 통한 세이지 메이커 모델 생성\n",
    "- 로컬 엔드포인트에 적재될 세이지 메이커 모델을 생성홥니다.\n",
    "- 세이지 메이커 모델은 크게 아래 두가지 요소가 있습니다.\n",
    "    - 인퍼런스 이미지 컨테이너 위치\n",
    "    - 모델 아티펙트 위치"
   ]
  },
  {
   "cell_type": "code",
   "execution_count": 5,
   "metadata": {
    "tags": []
   },
   "outputs": [
    {
     "name": "stdout",
     "output_type": "stream",
     "text": [
      "sagemaker.config INFO - Not applying SDK defaults from location: /etc/xdg/sagemaker/config.yaml\n",
      "sagemaker.config INFO - Not applying SDK defaults from location: /home/ec2-user/.config/sagemaker/config.yaml\n",
      "sagemaker.config INFO - Not applying SDK defaults from location: /etc/xdg/sagemaker/config.yaml\n",
      "sagemaker.config INFO - Not applying SDK defaults from location: /home/ec2-user/.config/sagemaker/config.yaml\n",
      "local_endpoint_name:  local-endpoint-2023-10-28-13-29-13\n"
     ]
    }
   ],
   "source": [
    "from datetime import datetime\n",
    "suffix = f\"{datetime.today().strftime('%Y-%m-%d-%H-%M-%S')}\"\n",
    "\n",
    "# 로컬 노트북 인스턴스에서 사용할 로컬 세션\n",
    "local_session = sagemaker.local.LocalSession()\n",
    "local_session.config = {'local' : {'local_code':True}}\n",
    "instance_type = 'local_gpu'\n",
    "local_model_name = 'sm-local-model-' + str(suffix)\n",
    "local_endpoint_name = 'local-endpoint-' + str(suffix)\n",
    "print(\"local_endpoint_name: \", local_endpoint_name)"
   ]
  },
  {
   "cell_type": "markdown",
   "metadata": {},
   "source": [
    "### 로컬 세이지 메이커 모델 정의"
   ]
  },
  {
   "cell_type": "code",
   "execution_count": 6,
   "metadata": {
    "Collapsed": "false",
    "tags": []
   },
   "outputs": [
    {
     "name": "stdout",
     "output_type": "stream",
     "text": [
      "model:  <sagemaker.model.Model object at 0x7fa37ac3eec0>\n"
     ]
    }
   ],
   "source": [
    "from sagemaker.model import Model\n",
    "\n",
    "\n",
    "def create_sm_model(ecr_image, model_artifact,model_name,  role, session):\n",
    "    model = Model(\n",
    "                name = model_name,\n",
    "                image_uri = ecr_image,\n",
    "                model_data = model_artifact,\n",
    "                role=role,\n",
    "                sagemaker_session= session,\n",
    "                 )\n",
    "    print(\"model: \", model)\n",
    "    return model\n",
    "\n",
    "local_model = create_sm_model(inference_docker_image, byom_artifact, \n",
    "                              local_model_name, role, \n",
    "                              local_session)    "
   ]
  },
  {
   "cell_type": "markdown",
   "metadata": {
    "Collapsed": "false"
   },
   "source": [
    "### 로컬 엔드포인트 생성\n",
    "\n",
    "- instance_type=='local' 시에는 최초 실행시에 인퍼런스 이미지를 다운로드로 하는 약 3분 걸리고, 이후에는 바로 실행이 됩니다."
   ]
  },
  {
   "cell_type": "code",
   "execution_count": 7,
   "metadata": {
    "Collapsed": "false",
    "tags": []
   },
   "outputs": [
    {
     "name": "stdout",
     "output_type": "stream",
     "text": [
      "Attaching to vxf6yrbw3z-algo-1-6lpmq\n",
      "vxf6yrbw3z-algo-1-6lpmq  | \u001b[33mWARNING: Running pip as the 'root' user can result in broken permissions and conflicting behaviour with the system package manager. It is recommended to use a virtual environment instead: https://pip.pypa.io/warnings/venv\u001b[0m\u001b[33m\n",
      "vxf6yrbw3z-algo-1-6lpmq  | \u001b[0m\n",
      "vxf6yrbw3z-algo-1-6lpmq  | \u001b[1m[\u001b[0m\u001b[34;49mnotice\u001b[0m\u001b[1;39;49m]\u001b[0m\u001b[39;49m A new release of pip is available: \u001b[0m\u001b[31;49m23.2.1\u001b[0m\u001b[39;49m -> \u001b[0m\u001b[32;49m23.3.1\u001b[0m\n",
      "vxf6yrbw3z-algo-1-6lpmq  | \u001b[1m[\u001b[0m\u001b[34;49mnotice\u001b[0m\u001b[1;39;49m]\u001b[0m\u001b[39;49m To update, run: \u001b[0m\u001b[32;49mpip install --upgrade pip\u001b[0m\n",
      "vxf6yrbw3z-algo-1-6lpmq  | ['torchserve', '--start', '--model-store', '/.sagemaker/ts/models', '--ts-config', '/etc/sagemaker-ts.properties', '--log-config', '/opt/conda/lib/python3.10/site-packages/sagemaker_pytorch_serving_container/etc/log4j2.xml', '--models', 'model=/opt/ml/model']\n",
      "vxf6yrbw3z-algo-1-6lpmq  | Warning: TorchServe is using non-default JVM parameters: -XX:-UseContainerSupport\n",
      "vxf6yrbw3z-algo-1-6lpmq  | WARNING: sun.reflect.Reflection.getCallerClass is not supported. This will impact performance.\n",
      "vxf6yrbw3z-algo-1-6lpmq  | 2023-10-28T13:29:31,487 [WARN ] main org.pytorch.serve.util.ConfigManager - Your torchserve instance can access any URL to load models. When deploying to production, make sure to limit the set of allowed_urls in config.properties\n",
      "vxf6yrbw3z-algo-1-6lpmq  | 2023-10-28T13:29:31,489 [INFO ] main org.pytorch.serve.servingsdk.impl.PluginsManager - Initializing plugins manager...\n",
      "vxf6yrbw3z-algo-1-6lpmq  | 2023-10-28T13:29:31,548 [INFO ] main org.pytorch.serve.metrics.configuration.MetricConfiguration - Successfully loaded metrics configuration from /opt/conda/lib/python3.10/site-packages/ts/configs/metrics.yaml\n",
      "vxf6yrbw3z-algo-1-6lpmq  | 2023-10-28T13:29:31,647 [INFO ] main org.pytorch.serve.ModelServer - \n",
      "vxf6yrbw3z-algo-1-6lpmq  | Torchserve version: 0.8.2\n",
      "vxf6yrbw3z-algo-1-6lpmq  | TS Home: /opt/conda/lib/python3.10/site-packages\n",
      "vxf6yrbw3z-algo-1-6lpmq  | Current directory: /\n",
      "vxf6yrbw3z-algo-1-6lpmq  | Temp directory: /home/model-server/tmp\n",
      "vxf6yrbw3z-algo-1-6lpmq  | Metrics config path: /opt/conda/lib/python3.10/site-packages/ts/configs/metrics.yaml\n",
      "vxf6yrbw3z-algo-1-6lpmq  | Number of GPUs: 1\n",
      "vxf6yrbw3z-algo-1-6lpmq  | Number of CPUs: 8\n",
      "vxf6yrbw3z-algo-1-6lpmq  | Max heap size: 7936 M\n",
      "vxf6yrbw3z-algo-1-6lpmq  | Python executable: /opt/conda/bin/python3.10\n",
      "vxf6yrbw3z-algo-1-6lpmq  | Config file: /etc/sagemaker-ts.properties\n",
      "vxf6yrbw3z-algo-1-6lpmq  | Inference address: http://0.0.0.0:8080\n",
      "vxf6yrbw3z-algo-1-6lpmq  | Management address: http://0.0.0.0:8080\n",
      "vxf6yrbw3z-algo-1-6lpmq  | Metrics address: http://127.0.0.1:8082\n",
      "vxf6yrbw3z-algo-1-6lpmq  | Model Store: /.sagemaker/ts/models\n",
      "vxf6yrbw3z-algo-1-6lpmq  | Initial Models: model=/opt/ml/model\n",
      "vxf6yrbw3z-algo-1-6lpmq  | Log dir: /logs\n",
      "vxf6yrbw3z-algo-1-6lpmq  | Metrics dir: /logs\n",
      "vxf6yrbw3z-algo-1-6lpmq  | Netty threads: 0\n",
      "vxf6yrbw3z-algo-1-6lpmq  | Netty client threads: 0\n",
      "vxf6yrbw3z-algo-1-6lpmq  | Default workers per model: 1\n",
      "vxf6yrbw3z-algo-1-6lpmq  | Blacklist Regex: N/A\n",
      "vxf6yrbw3z-algo-1-6lpmq  | Maximum Response Size: 6553500\n",
      "vxf6yrbw3z-algo-1-6lpmq  | Maximum Request Size: 6553500\n",
      "vxf6yrbw3z-algo-1-6lpmq  | Limit Maximum Image Pixels: true\n",
      "vxf6yrbw3z-algo-1-6lpmq  | Prefer direct buffer: false\n",
      "vxf6yrbw3z-algo-1-6lpmq  | Allowed Urls: [file://.*|http(s)?://.*]\n",
      "vxf6yrbw3z-algo-1-6lpmq  | Custom python dependency for model allowed: false\n",
      "vxf6yrbw3z-algo-1-6lpmq  | Enable metrics API: true\n",
      "vxf6yrbw3z-algo-1-6lpmq  | Metrics mode: log\n",
      "vxf6yrbw3z-algo-1-6lpmq  | Disable system metrics: true\n",
      "vxf6yrbw3z-algo-1-6lpmq  | Workflow Store: /.sagemaker/ts/models\n",
      "vxf6yrbw3z-algo-1-6lpmq  | Model config: N/A\n",
      "vxf6yrbw3z-algo-1-6lpmq  | 2023-10-28T13:29:31,652 [INFO ] main org.pytorch.serve.servingsdk.impl.PluginsManager -  Loading snapshot serializer plugin...\n",
      "vxf6yrbw3z-algo-1-6lpmq  | 2023-10-28T13:29:31,667 [INFO ] main org.pytorch.serve.ModelServer - Loading initial models: /opt/ml/model\n",
      "vxf6yrbw3z-algo-1-6lpmq  | 2023-10-28T13:29:31,670 [WARN ] main org.pytorch.serve.archive.model.ModelArchive - Model archive version is not defined. Please upgrade to torch-model-archiver 0.2.0 or higher\n",
      "vxf6yrbw3z-algo-1-6lpmq  | 2023-10-28T13:29:31,671 [WARN ] main org.pytorch.serve.archive.model.ModelArchive - Model archive createdOn is not defined. Please upgrade to torch-model-archiver 0.2.0 or higher\n",
      "vxf6yrbw3z-algo-1-6lpmq  | 2023-10-28T13:29:31,673 [INFO ] main org.pytorch.serve.wlm.ModelManager - Model model loaded.\n",
      "vxf6yrbw3z-algo-1-6lpmq  | 2023-10-28T13:29:31,680 [INFO ] main org.pytorch.serve.ModelServer - Initialize Inference server with: EpollServerSocketChannel.\n",
      "vxf6yrbw3z-algo-1-6lpmq  | 2023-10-28T13:29:31,735 [INFO ] main org.pytorch.serve.ModelServer - Inference API bind to: http://0.0.0.0:8080\n",
      "vxf6yrbw3z-algo-1-6lpmq  | 2023-10-28T13:29:31,735 [INFO ] main org.pytorch.serve.ModelServer - Initialize Metrics server with: EpollServerSocketChannel.\n",
      "vxf6yrbw3z-algo-1-6lpmq  | 2023-10-28T13:29:31,736 [INFO ] main org.pytorch.serve.ModelServer - Metrics API bind to: http://127.0.0.1:8082\n",
      "vxf6yrbw3z-algo-1-6lpmq  | Model server started.\n",
      "vxf6yrbw3z-algo-1-6lpmq  | 2023-10-28T13:29:32,767 [INFO ] pool-2-thread-2 ACCESS_LOG - /172.18.0.1:35196 \"GET /ping HTTP/1.1\" 200 14\n",
      "vxf6yrbw3z-algo-1-6lpmq  | 2023-10-28T13:29:32,768 [INFO ] pool-2-thread-2 TS_METRICS - Requests2XX.Count:1.0|#Level:Host|#hostname:80c0568e4a5c,timestamp:1698499772\n",
      "vxf6yrbw3z-algo-1-6lpmq  | 2023-10-28T13:29:32,911 [INFO ] W-9000-model_1.0-stdout MODEL_LOG - s_name_part0=/home/model-server/tmp/.ts.sock, s_name_part1=9000, pid=60\n",
      "vxf6yrbw3z-algo-1-6lpmq  | 2023-10-28T13:29:32,912 [INFO ] W-9000-model_1.0-stdout MODEL_LOG - Listening on port: /home/model-server/tmp/.ts.sock.9000\n",
      "vxf6yrbw3z-algo-1-6lpmq  | 2023-10-28T13:29:32,922 [INFO ] W-9000-model_1.0-stdout MODEL_LOG - Successfully loaded /opt/conda/lib/python3.10/site-packages/ts/configs/metrics.yaml.\n",
      "vxf6yrbw3z-algo-1-6lpmq  | 2023-10-28T13:29:32,922 [INFO ] W-9000-model_1.0-stdout MODEL_LOG - [PID]60\n",
      "vxf6yrbw3z-algo-1-6lpmq  | 2023-10-28T13:29:32,923 [INFO ] W-9000-model_1.0-stdout MODEL_LOG - Torch worker started.\n",
      "vxf6yrbw3z-algo-1-6lpmq  | 2023-10-28T13:29:32,923 [INFO ] W-9000-model_1.0-stdout MODEL_LOG - Python runtime: 3.10.9\n",
      "vxf6yrbw3z-algo-1-6lpmq  | 2023-10-28T13:29:32,925 [INFO ] W-9000-model_1.0 org.pytorch.serve.wlm.WorkerThread - Connecting to: /home/model-server/tmp/.ts.sock.9000\n",
      "vxf6yrbw3z-algo-1-6lpmq  | 2023-10-28T13:29:32,930 [INFO ] W-9000-model_1.0-stdout MODEL_LOG - Connection accepted: /home/model-server/tmp/.ts.sock.9000.\n",
      "vxf6yrbw3z-algo-1-6lpmq  | 2023-10-28T13:29:32,932 [INFO ] W-9000-model_1.0 org.pytorch.serve.wlm.WorkerThread - Flushing req.cmd LOAD to backend at: 1698499772932\n",
      "vxf6yrbw3z-algo-1-6lpmq  | 2023-10-28T13:29:32,942 [INFO ] W-9000-model_1.0-stdout MODEL_LOG - model_name: model, batchSize: 1\n",
      "vxf6yrbw3z-algo-1-6lpmq  | 2023-10-28T13:29:33,040 [INFO ] W-9000-model_1.0-stdout MODEL_LOG - ######## Staring model_fn() ###############\n",
      "vxf6yrbw3z-algo-1-6lpmq  | 2023-10-28T13:29:33,040 [INFO ] W-9000-model_1.0-stdout MODEL_LOG - --> model_dir : /opt/ml/model\n",
      "vxf6yrbw3z-algo-1-6lpmq  | 2023-10-28T13:29:33,046 [INFO ] W-9000-model_1.0-stdout MODEL_LOG - model_config_path: :  /opt/ml/model/code/model_config.json\n",
      "vxf6yrbw3z-algo-1-6lpmq  | 2023-10-28T13:29:33,095 [INFO ] W-9000-model_1.0-stdout MODEL_LOG - --> model network is loaded\n",
      "vxf6yrbw3z-algo-1-6lpmq  | 2023-10-28T13:29:33,100 [INFO ] W-9000-model_1.0-stdout MODEL_LOG - model_file_path: :  {model_file_path}\n",
      "vxf6yrbw3z-algo-1-6lpmq  | 2023-10-28T13:29:34,061 [INFO ] W-9000-model_1.0-stdout MODEL_LOG - ####### Model is loaded #########\n",
      "vxf6yrbw3z-algo-1-6lpmq  | 2023-10-28T13:29:34,063 [INFO ] W-9000-model_1.0 org.pytorch.serve.wlm.WorkerThread - Backend response time: 1121\n",
      "vxf6yrbw3z-algo-1-6lpmq  | 2023-10-28T13:29:34,063 [INFO ] W-9000-model_1.0 TS_METRICS - WorkerLoadTime.Milliseconds:2386.0|#WorkerName:W-9000-model_1.0,Level:Host|#hostname:80c0568e4a5c,timestamp:1698499774\n",
      "vxf6yrbw3z-algo-1-6lpmq  | 2023-10-28T13:29:34,064 [INFO ] W-9000-model_1.0 TS_METRICS - WorkerThreadTime.Milliseconds:11.0|#Level:Host|#hostname:80c0568e4a5c,timestamp:1698499774\n",
      "!CPU times: user 128 ms, sys: 26.4 ms, total: 154 ms\n",
      "Wall time: 35.4 s\n"
     ]
    }
   ],
   "source": [
    "%%time\n",
    "\n",
    "local_predictor = local_model.deploy(initial_instance_count=1, instance_type=instance_type,\n",
    "                         endpoint_name = local_endpoint_name,                                   \n",
    "                        )"
   ]
  },
  {
   "cell_type": "markdown",
   "metadata": {},
   "source": [
    "## 테스트 데이터 세트 로딩\n",
    "- 로컬에서 저장된 데이터를 가져와서 데이터를 변환 합니다.\n",
    "- batch_size 만큼 데이터를 로딩하는 데이터 로더를 정의 합니다."
   ]
  },
  {
   "cell_type": "code",
   "execution_count": 8,
   "metadata": {
    "tags": []
   },
   "outputs": [],
   "source": [
    "import data_utils \n",
    "train_data, test_data, user_num ,item_num, train_mat = data_utils.load_all(test_num=100)"
   ]
  },
  {
   "cell_type": "markdown",
   "metadata": {},
   "source": [
    "##  추론을 위한  데이터 세트 로딩\n",
    "- 전부 데이터를 로딩할 필요가 없지만, 여기서는 기존에 사용한 함수를 이용하기 위해서 전체 데이터를 로드 합니다. \n",
    "    - 실제 데이터로 구현시에는 따로이 로드 함수를 사용하시기를 권장 합니다.\n"
   ]
  },
  {
   "cell_type": "code",
   "execution_count": 9,
   "metadata": {
    "tags": []
   },
   "outputs": [
    {
     "name": "stdout",
     "output_type": "stream",
     "text": [
      "# of batch_size:  256\n"
     ]
    }
   ],
   "source": [
    "class Params:\n",
    "    def __init__(self):\n",
    "        # self.epochs = 1        \n",
    "        self.num_ng = 4\n",
    "        self.batch_size = 256\n",
    "        self.test_num_ng = 99\n",
    "        self.factor_num = 32\n",
    "        self.num_layers = 3\n",
    "        self.dropout = 0.0\n",
    "        # self.lr = 0.001\n",
    "        self.top_k = 10\n",
    "        self.out = True\n",
    "        # self.gpu = \"0\"\n",
    "                        \n",
    "args = Params()\n",
    "print(\"# of batch_size: \", args.batch_size)\n",
    "\n",
    "\n",
    "import torch.utils.data as data\n",
    "\n",
    "test_dataset = data_utils.NCFData(\n",
    "\t\ttest_data, item_num, train_mat, 0, False)\n",
    "\n",
    "test_loader = data.DataLoader(test_dataset,\n",
    "\t\tbatch_size=args.test_num_ng+1, shuffle=False, num_workers=0)\n",
    "\n"
   ]
  },
  {
   "cell_type": "markdown",
   "metadata": {},
   "source": [
    "## 추론할 Paylaod 하나를 생성"
   ]
  },
  {
   "cell_type": "code",
   "execution_count": 10,
   "metadata": {
    "tags": []
   },
   "outputs": [
    {
     "name": "stdout",
     "output_type": "stream",
     "text": [
      "payload:  {'user': [0, 0, 0, 0, 0, 0, 0, 0, 0, 0, 0, 0, 0, 0, 0, 0, 0, 0, 0, 0, 0, 0, 0, 0, 0, 0, 0, 0, 0, 0, 0, 0, 0, 0, 0, 0, 0, 0, 0, 0, 0, 0, 0, 0, 0, 0, 0, 0, 0, 0, 0, 0, 0, 0, 0, 0, 0, 0, 0, 0, 0, 0, 0, 0, 0, 0, 0, 0, 0, 0, 0, 0, 0, 0, 0, 0, 0, 0, 0, 0, 0, 0, 0, 0, 0, 0, 0, 0, 0, 0, 0, 0, 0, 0, 0, 0, 0, 0, 0, 0], 'item': [25, 1064, 174, 2791, 3373, 269, 2678, 1902, 3641, 1216, 915, 3672, 2803, 2344, 986, 3217, 2824, 2598, 464, 2340, 1952, 1855, 1353, 1547, 3487, 3293, 1541, 2414, 2728, 340, 1421, 1963, 2545, 972, 487, 3463, 2727, 1135, 3135, 128, 175, 2423, 1974, 2515, 3278, 3079, 1527, 2182, 1018, 2800, 1830, 1539, 617, 247, 3448, 1699, 1420, 2487, 198, 811, 1010, 1423, 2840, 1770, 881, 1913, 1803, 1734, 3326, 1617, 224, 3352, 1869, 1182, 1331, 336, 2517, 1721, 3512, 3656, 273, 1026, 1991, 2190, 998, 3386, 3369, 185, 2822, 864, 2854, 3067, 58, 2551, 2333, 2688, 3703, 1300, 1924, 3118]}\n"
     ]
    }
   ],
   "source": [
    "for user, item, label in test_loader:   \n",
    "    user_np = user.detach().cpu().numpy()\n",
    "    item_np = item.detach().cpu().numpy()            \n",
    "    break\n",
    "payload = {'user':user_np.tolist(), 'item':item_np.tolist()}\n",
    "print(\"payload: \", payload)\n"
   ]
  },
  {
   "cell_type": "markdown",
   "metadata": {},
   "source": [
    "## 엔드 포인트 추론\n",
    "- Boto3 invoke_endpoint() 로 추론"
   ]
  },
  {
   "cell_type": "code",
   "execution_count": 11,
   "metadata": {
    "tags": []
   },
   "outputs": [],
   "source": [
    "import boto3\n",
    "\n",
    "if instance_type == 'local_gpu':\n",
    "    runtime_client = sagemaker.local.LocalSagemakerRuntimeClient()    \n",
    "    endpoint_name = local_endpoint_name\n",
    "else:\n",
    "    runtime_client = boto3.Session().client('sagemaker-runtime')\n",
    "\n"
   ]
  },
  {
   "cell_type": "markdown",
   "metadata": {},
   "source": [
    "### [중요] JSON type 의 payload 를 String 으로 직렬화 해서 제공 함.\n",
    "```python\n",
    "payload_dump = json.dumps(payload)\n",
    "```"
   ]
  },
  {
   "cell_type": "code",
   "execution_count": 12,
   "metadata": {
    "tags": []
   },
   "outputs": [
    {
     "name": "stdout",
     "output_type": "stream",
     "text": [
      "vxf6yrbw3z-algo-1-6lpmq  | 2023-10-28T13:30:31,202 [INFO ] epollEventLoopGroup-3-2 TS_METRICS - ts_inference_requests_total.Count:1.0|#model_name:model,model_version:default|#hostname:80c0568e4a5c,timestamp:1698499831\n",
      "vxf6yrbw3z-algo-1-6lpmq  | 2023-10-28T13:30:31,203 [INFO ] W-9000-model_1.0 org.pytorch.serve.wlm.WorkerThread - Flushing req.cmd PREDICT to backend at: 1698499831203\n",
      "vxf6yrbw3z-algo-1-6lpmq  | 2023-10-28T13:30:31,205 [INFO ] W-9000-model_1.0-stdout MODEL_LOG - Backend received inference at: 1698499831\n",
      "vxf6yrbw3z-algo-1-6lpmq  | 2023-10-28T13:30:31,206 [INFO ] W-9000-model_1.0-stdout MODEL_LOG - #### input_fn starting ######\n",
      "vxf6yrbw3z-algo-1-6lpmq  | 2023-10-28T13:30:31,206 [INFO ] W-9000-model_1.0-stdout MODEL_LOG - content_type: application/json\n",
      "vxf6yrbw3z-algo-1-6lpmq  | 2023-10-28T13:30:31,207 [INFO ] W-9000-model_1.0-stdout MODEL_LOG - #### type of input data: <class 'str'>\n",
      "vxf6yrbw3z-algo-1-6lpmq  | 2023-10-28T13:30:31,207 [INFO ] W-9000-model_1.0-stdout MODEL_LOG - #### predict_fn starting ######\n",
      "vxf6yrbw3z-algo-1-6lpmq  | 2023-10-28T13:30:31,207 [INFO ] W-9000-model_1.0-stdout MODEL_LOG - #### type of input data: <class 'list'>\n",
      "vxf6yrbw3z-algo-1-6lpmq  | 2023-10-28T13:30:32,100 [INFO ] W-9000-model_1.0-stdout MODEL_LOG - recommends:  [128, 25, 174, 273, 464, 1902, 58, 175, 1064, 617]\n",
      "vxf6yrbw3z-algo-1-6lpmq  | 2023-10-28T13:30:32,101 [INFO ] W-9000-model_1.0-stdout org.pytorch.serve.wlm.WorkerLifeCycle - result=[METRICS]PredictionTime.Milliseconds:894.79|#ModelName:model,Level:Model|#hostname:80c0568e4a5c,1698499832,2fd89b7e-707e-47b8-b7bb-e4eceea15b6b, pattern=[METRICS]\n",
      "vxf6yrbw3z-algo-1-6lpmq  | 2023-10-28T13:30:32,101 [INFO ] W-9000-model_1.0 ACCESS_LOG - /172.18.0.1:53380 \"POST /invocations HTTP/1.1\" 200 901\n",
      "vxf6yrbw3z-algo-1-6lpmq  | 2023-10-28T13:30:32,102 [INFO ] W-9000-model_1.0 TS_METRICS - Requests2XX.Count:1.0|#Level:Host|#hostname:80c0568e4a5c,timestamp:1698499832\n",
      "vxf6yrbw3z-algo-1-6lpmq  | 2023-10-28T13:30:32,102 [INFO ] W-9000-model_1.0 TS_METRICS - ts_inference_latency_microseconds.Microseconds:897787.995|#model_name:model,model_version:default|#hostname:80c0568e4a5c,timestamp:1698499832\n",
      "vxf6yrbw3z-algo-1-6lpmq  | 2023-10-28T13:30:32,103 [INFO ] W-9000-model_1.0 TS_METRICS - ts_queue_latency_microseconds.Microseconds:177.912|#model_name:model,model_version:default|#hostname:80c0568e4a5c,timestamp:1698499832\n",
      "vxf6yrbw3z-algo-1-6lpmq  | 2023-10-28T13:30:32,102 [INFO ] W-9000-model_1.0-stdout MODEL_METRICS - PredictionTime.ms:894.79|#ModelName:model,Level:Model|#hostname:80c0568e4a5c,requestID:2fd89b7e-707e-47b8-b7bb-e4eceea15b6b,timestamp:1698499832\n",
      "--- 0.9310965538024902 seconds ---\n",
      "result:  ['[128, 25, 174, 273, 464, 1902, 58, 175, 1064, 617]']\n",
      "vxf6yrbw3z-algo-1-6lpmq  | 2023-10-28T13:30:32,103 [INFO ] W-9000-model_1.0 TS_METRICS - QueueTime.Milliseconds:0.0|#Level:Host|#hostname:80c0568e4a5c,timestamp:1698499832\n",
      "vxf6yrbw3z-algo-1-6lpmq  | 2023-10-28T13:30:32,103 [INFO ] W-9000-model_1.0 org.pytorch.serve.wlm.WorkerThread - Backend response time: 897\n",
      "vxf6yrbw3z-algo-1-6lpmq  | 2023-10-28T13:30:32,104 [INFO ] W-9000-model_1.0 TS_METRICS - WorkerThreadTime.Milliseconds:4.0|#Level:Host|#hostname:80c0568e4a5c,timestamp:1698499832\n"
     ]
    }
   ],
   "source": [
    "import json, time\n",
    "from inference_utils import invoke_endpoint\n",
    "payload_dump = json.dumps(payload)\n",
    "\n",
    "start_time = time.time()\n",
    "result = invoke_endpoint(runtime_client, endpoint_name, \n",
    "                         payload_dump,\n",
    "                         content_type='application/json'\n",
    "                        )\n",
    "\n",
    "print(\"--- %s seconds ---\" % (time.time() - start_time))\n",
    "print('result: ', result)"
   ]
  },
  {
   "cell_type": "markdown",
   "metadata": {},
   "source": [
    "## 로컬 엔드 포인트 삭제\n",
    "- 기존에 생성한 세이지 메이커 모델, 앤드포인트 컨피그, 앤드포인트 삭제"
   ]
  },
  {
   "cell_type": "code",
   "execution_count": 14,
   "metadata": {
    "tags": []
   },
   "outputs": [
    {
     "name": "stdout",
     "output_type": "stream",
     "text": [
      "sagemaker.config INFO - Not applying SDK defaults from location: /etc/xdg/sagemaker/config.yaml\n",
      "sagemaker.config INFO - Not applying SDK defaults from location: /home/ec2-user/.config/sagemaker/config.yaml\n",
      "sagemaker.config INFO - Not applying SDK defaults from location: /etc/xdg/sagemaker/config.yaml\n",
      "sagemaker.config INFO - Not applying SDK defaults from location: /home/ec2-user/.config/sagemaker/config.yaml\n",
      "#### Start\n"
     ]
    }
   ],
   "source": [
    "from inference_utils import delete_endpoint\n",
    "\n",
    "try:\n",
    "    client = sagemaker.local.LocalSagemakerClient()\n",
    "    delete_endpoint(client, endpoint_name)\n",
    "except:\n",
    "    pass"
   ]
  },
  {
   "cell_type": "markdown",
   "metadata": {},
   "source": [
    "# 3. 세이지 메이커 (호스트 모드)에서 배포 및 추론 테스트\n",
    "- 위의 단계에 (로컬 앤드포인트)에서 추론 테스트가 완료 되었기에, 프러덕션을 가정하고 배포 및 추론을 합니다.\n",
    "- [중요] 기존의 SageMaker Python SDK 대신에 Boto3 를 사용합니다.\n",
    "    -  참조: [Boto3 API](https://boto3.amazonaws.com/v1/documentation/api/latest/reference/services/sagemaker.html#SageMaker.Client.describe_endpoint_config)"
   ]
  },
  {
   "cell_type": "markdown",
   "metadata": {},
   "source": [
    "## SageMaker 호스트 세션 및 변수 설정"
   ]
  },
  {
   "cell_type": "code",
   "execution_count": 15,
   "metadata": {
    "tags": []
   },
   "outputs": [
    {
     "name": "stdout",
     "output_type": "stream",
     "text": [
      "sm_model_name:  sm-ncf-model-2023-10-28-13-29-13\n",
      "inference_image:  057716757052.dkr.ecr.us-east-1.amazonaws.com/ncf-sagemaker-inference\n",
      "model_artifact:  s3://sagemaker-us-east-1-057716757052/ncf/inference/model.tar.gz\n",
      "endpoint_name:  sm-new-ncf-endpont-2023-10-28-13-29-13\n"
     ]
    }
   ],
   "source": [
    "import boto3\n",
    "# SM 세션에서 사용 리소스 제거에 사용\n",
    "sm_client = boto3.client('sagemaker')\n",
    "sm_runtime_client = boto3.Session().client('sagemaker-runtime')\n",
    "\n",
    "sm_model_name = 'sm-ncf-model-' + str(suffix)\n",
    "endpoint_name = 'sm-new-ncf-endpont-' + str(suffix)\n",
    "print(\"sm_model_name: \", sm_model_name)\n",
    "print(\"inference_image: \", inference_docker_image)\n",
    "print(\"model_artifact: \", byom_artifact)\n",
    "print(\"endpoint_name: \", endpoint_name)"
   ]
  },
  {
   "cell_type": "markdown",
   "metadata": {},
   "source": [
    "## 세이지 메이커 모델 생성\n",
    "- 세이지 메이커에 Model이 존재하지 않으면, 모델을 생성 합니다."
   ]
  },
  {
   "cell_type": "code",
   "execution_count": 16,
   "metadata": {
    "tags": []
   },
   "outputs": [
    {
     "name": "stdout",
     "output_type": "stream",
     "text": [
      "create_model API response: \n",
      " {'ModelArn': 'arn:aws:sagemaker:us-east-1:057716757052:model/sm-ncf-model-2023-10-28-13-29-13', 'ResponseMetadata': {'RequestId': '0525be33-bcea-448f-a723-f8f75434e6f0', 'HTTPStatusCode': 200, 'HTTPHeaders': {'x-amzn-requestid': '0525be33-bcea-448f-a723-f8f75434e6f0', 'content-type': 'application/x-amz-json-1.1', 'content-length': '94', 'date': 'Sat, 28 Oct 2023 13:31:22 GMT'}, 'RetryAttempts': 0}}\n"
     ]
    }
   ],
   "source": [
    "from inference_utils import create_sm_model                \n",
    "\n",
    "create_model_api_response = create_sm_model(sm_client, sm_model_name, \n",
    "                                            inference_docker_image, \n",
    "                                            byom_artifact, role)"
   ]
  },
  {
   "cell_type": "markdown",
   "metadata": {},
   "source": [
    "## 세이지 메이커 앤드포인트 컨피그 생성\n",
    "- endpoint_config  를 생성합니다."
   ]
  },
  {
   "cell_type": "code",
   "execution_count": 17,
   "metadata": {
    "tags": []
   },
   "outputs": [
    {
     "name": "stdout",
     "output_type": "stream",
     "text": [
      "sm-ncf-model-2023-10-28-13-29-13-config is created\n",
      "sm_endconfig_name:  sm-ncf-model-2023-10-28-13-29-13-config\n"
     ]
    }
   ],
   "source": [
    "from inference_utils import create_endpoint_config\n",
    "\n",
    "instance_type = 'ml.g4dn.xlarge'\n",
    "sm_endconfig_name = create_endpoint_config(sm_client=sm_client, \n",
    "                                           instance_type=instance_type, \n",
    "                                           sm_model_name =sm_model_name, \n",
    "                                           verbose=False )\n",
    "    \n",
    "print(\"sm_endconfig_name: \", sm_endconfig_name )"
   ]
  },
  {
   "cell_type": "markdown",
   "metadata": {},
   "source": [
    "## 세이지 메이커 앤드포인트 생성\n",
    "- 약 8분 정도 소요 됩니다. "
   ]
  },
  {
   "cell_type": "code",
   "execution_count": 18,
   "metadata": {
    "tags": []
   },
   "outputs": [
    {
     "name": "stdout",
     "output_type": "stream",
     "text": [
      "existing_configs: \n",
      " [{'EndpointConfigName': 'sm-ncf-model-2023-10-28-13-29-13-config', 'EndpointConfigArn': 'arn:aws:sagemaker:us-east-1:057716757052:endpoint-config/sm-ncf-model-2023-10-28-13-29-13-config', 'CreationTime': datetime.datetime(2023, 10, 28, 13, 31, 29, 160000, tzinfo=tzlocal())}]\n",
      "existing_endpoints: \n",
      " []\n",
      "Creating endpoint\n",
      "Endpoint status is creating\n",
      "Endpoint status: Creating\n",
      "Endpoint status: Creating\n",
      "Endpoint status: Creating\n",
      "Endpoint status: Creating\n",
      "Endpoint status: Creating\n",
      "Endpoint status: Creating\n",
      "Endpoint status: Creating\n",
      "Endpoint status: Creating\n",
      "Endpoint status: Creating\n",
      "Endpoint status: Creating\n",
      "Endpoint status: Creating\n",
      "Endpoint status: Creating\n",
      "Endpoint status: InService\n"
     ]
    }
   ],
   "source": [
    "from inference_utils import create_sm_endpoint\n",
    "\n",
    "create_sm_endpoint(sm_client=sm_client, instance_type= instance_type, \n",
    "                   endpoint_config_name =sm_endconfig_name, \n",
    "                   endpoint_name = endpoint_name, verbose=True )\n",
    "    "
   ]
  },
  {
   "cell_type": "markdown",
   "metadata": {
    "tags": []
   },
   "source": [
    "## SageMaker 엔드포인트 추론 테스트\n",
    "- 신규로 생성한 앤드포인트가 추론이 달 되는지를 확인하기 위함"
   ]
  },
  {
   "cell_type": "code",
   "execution_count": 19,
   "metadata": {
    "tags": []
   },
   "outputs": [
    {
     "name": "stdout",
     "output_type": "stream",
     "text": [
      "--- 1.7366507053375244 seconds ---\n",
      "result:  ['[128, 25, 174, 273, 464, 1902, 58, 175, 1064, 617]']\n"
     ]
    }
   ],
   "source": [
    "import boto3\n",
    "\n",
    "if instance_type == 'local_gpu':\n",
    "    runtime_client = sagemaker.local.LocalSagemakerRuntimeClient()    \n",
    "    endpoint_name = local_endpoint_name\n",
    "else:\n",
    "    runtime_client = boto3.Session().client('sagemaker-runtime')\n",
    "\n",
    "\n",
    "import json, time\n",
    "from inference_utils import invoke_endpoint\n",
    "payload_dump = json.dumps(payload)\n",
    "\n",
    "start_time = time.time()\n",
    "result = invoke_endpoint(runtime_client, endpoint_name, \n",
    "                         payload_dump,\n",
    "                         content_type='application/json'\n",
    "                        )\n",
    "\n",
    "print(\"--- %s seconds ---\" % (time.time() - start_time))\n",
    "print('result: ', result)\n"
   ]
  },
  {
   "cell_type": "markdown",
   "metadata": {},
   "source": [
    "# 4. 세이지 메이커 신규 모델로 앤드포인트 업데이트"
   ]
  },
  {
   "cell_type": "markdown",
   "metadata": {},
   "source": [
    "### current_endpoint_name objects\n",
    "- 기존의 앤드포인트의 오브젝트 정보 확인\n",
    "    - 앤드포인트 이름\n",
    "    - 앤드포인트 컨피그 이름\n",
    "    - 세이지 메이커 모델 이름"
   ]
  },
  {
   "cell_type": "code",
   "execution_count": 20,
   "metadata": {
    "tags": []
   },
   "outputs": [],
   "source": [
    "from inference_utils import show_inference_objects"
   ]
  },
  {
   "cell_type": "code",
   "execution_count": 21,
   "metadata": {
    "tags": []
   },
   "outputs": [
    {
     "name": "stdout",
     "output_type": "stream",
     "text": [
      "endpoint_name: \n",
      " sm-new-ncf-endpont-2023-10-28-13-29-13\n",
      "endpoint_config: \n",
      " sm-ncf-model-2023-10-28-13-29-13-config\n",
      "model_name: \n",
      " sm-ncf-model-2023-10-28-13-29-13\n"
     ]
    }
   ],
   "source": [
    "show_inference_objects(sm_client, endpoint_name)    "
   ]
  },
  {
   "cell_type": "markdown",
   "metadata": {
    "tags": []
   },
   "source": [
    "### new_endpoint_name objects\n",
    "- 위와 동일하게 신규 생성 앤드포인트의 오브젝트 이름을 확인"
   ]
  },
  {
   "cell_type": "markdown",
   "metadata": {},
   "source": [
    "## 4.1. 신규 세이지 메이커 모델 생성"
   ]
  },
  {
   "cell_type": "code",
   "execution_count": 22,
   "metadata": {
    "tags": []
   },
   "outputs": [
    {
     "name": "stdout",
     "output_type": "stream",
     "text": [
      "sm_new_model_name:  sm-ncf-model-2023-10-28-13-37-37\n",
      "byom_new_artifact:  s3://sagemaker-us-east-1-057716757052/ncf/inference/model.tar.gz\n",
      "create_model API response: \n",
      " {'ModelArn': 'arn:aws:sagemaker:us-east-1:057716757052:model/sm-ncf-model-2023-10-28-13-37-37', 'ResponseMetadata': {'RequestId': 'd64d0f93-79f2-40a9-8add-5581c42b5272', 'HTTPStatusCode': 200, 'HTTPHeaders': {'x-amzn-requestid': 'd64d0f93-79f2-40a9-8add-5581c42b5272', 'content-type': 'application/x-amz-json-1.1', 'content-length': '94', 'date': 'Sat, 28 Oct 2023 13:37:37 GMT'}, 'RetryAttempts': 0}}\n"
     ]
    }
   ],
   "source": [
    "import boto3\n",
    "new_suffix = f\"{datetime.today().strftime('%Y-%m-%d-%H-%M-%S')}\"\n",
    "\n",
    "sm_new_model_name = 'sm-ncf-model-' + str(new_suffix)\n",
    "\n",
    "byom_new_artifact = byom_artifact\n",
    "print(\"sm_new_model_name: \", sm_new_model_name)\n",
    "print(\"byom_new_artifact: \", byom_new_artifact)\n",
    "\n",
    "create_model_api_response = create_sm_model(sm_client, sm_new_model_name, \n",
    "                                            inference_docker_image, byom_new_artifact, role)"
   ]
  },
  {
   "cell_type": "markdown",
   "metadata": {},
   "source": [
    "## 4.2. 신규 엔드포인트 컨피그 생성"
   ]
  },
  {
   "cell_type": "code",
   "execution_count": 23,
   "metadata": {
    "tags": []
   },
   "outputs": [
    {
     "name": "stdout",
     "output_type": "stream",
     "text": [
      "sm-ncf-model-2023-10-28-13-37-37-config is created\n",
      "sm_new_endconfig_name:  sm-ncf-model-2023-10-28-13-37-37-config\n"
     ]
    }
   ],
   "source": [
    "sm_new_endconfig_name = create_endpoint_config(sm_client=sm_client, \n",
    "                                           instance_type=instance_type, \n",
    "                                           sm_model_name =sm_new_model_name, \n",
    "                                           verbose=False )\n",
    "    \n",
    "print(\"sm_new_endconfig_name: \", sm_new_endconfig_name )"
   ]
  },
  {
   "cell_type": "markdown",
   "metadata": {},
   "source": [
    "## 4.3 앤드포인트 업데이트\n",
    "- 아래의 업데이트는 약 8분 정도가 소요 됩니다.\n",
    "- 내부적으로 EC2 인스턴스 생성하고 배포하는 단계를 가집니다.\n",
    "- 8분 동안 업데이트시에도 기존의 앤드포인트로 서비스가 가능합니다.\n",
    "- 업데이트 이후에는 업데이트된 앤드포인트에서 추론이 됩니다."
   ]
  },
  {
   "cell_type": "code",
   "execution_count": 24,
   "metadata": {
    "tags": []
   },
   "outputs": [
    {
     "name": "stdout",
     "output_type": "stream",
     "text": [
      "endpoint_name: \n",
      " sm-new-ncf-endpont-2023-10-28-13-29-13\n",
      "new_endpoint_config_name:  sm-ncf-model-2023-10-28-13-37-37-config\n",
      "current_endpoint_config_name:  sm-ncf-model-2023-10-28-13-29-13-config\n",
      "Swapping is done\n",
      "changed_endpoint_config_name: \n",
      " sm-ncf-model-2023-10-28-13-29-13-config\n"
     ]
    },
    {
     "data": {
      "text/plain": [
       "{'EndpointArn': 'arn:aws:sagemaker:us-east-1:057716757052:endpoint/sm-new-ncf-endpont-2023-10-28-13-29-13',\n",
       " 'ResponseMetadata': {'RequestId': 'bcd80c79-aee4-48b2-afe2-caaa4976a0c3',\n",
       "  'HTTPStatusCode': 200,\n",
       "  'HTTPHeaders': {'x-amzn-requestid': 'bcd80c79-aee4-48b2-afe2-caaa4976a0c3',\n",
       "   'content-type': 'application/x-amz-json-1.1',\n",
       "   'content-length': '106',\n",
       "   'date': 'Sat, 28 Oct 2023 13:37:38 GMT'},\n",
       "  'RetryAttempts': 0}}"
      ]
     },
     "execution_count": 24,
     "metadata": {},
     "output_type": "execute_result"
    }
   ],
   "source": [
    "from inference_utils import update_sm_endpoint\n",
    "\n",
    "response = update_sm_endpoint(sm_client, endpoint_name, sm_new_endconfig_name)\n",
    "response"
   ]
  },
  {
   "cell_type": "code",
   "execution_count": 25,
   "metadata": {
    "tags": []
   },
   "outputs": [
    {
     "name": "stdout",
     "output_type": "stream",
     "text": [
      "endpoint status is  Updating\n",
      "endpoint status is  Updating\n",
      "endpoint status is  Updating\n",
      "endpoint status is  Updating\n",
      "endpoint status is  Updating\n",
      "endpoint status is  Updating\n",
      "endpoint status is  Updating\n",
      "endpoint status is  Updating\n",
      "endpoint status is  Updating\n",
      "endpoint status is  Updating\n",
      "endpoint status is  Updating\n",
      "endpoint status is  Updating\n"
     ]
    }
   ],
   "source": [
    "response = sm_client.describe_endpoint(EndpointName=endpoint_name)\n",
    "status = response['EndpointStatus']\n",
    "\n",
    "while status == 'Updating':\n",
    "    print(\"endpoint status is \", status)    \n",
    "    time.sleep(30)\n",
    "    response = sm_client.describe_endpoint(EndpointName=endpoint_name)\n",
    "    status = response['EndpointStatus']\n",
    "\n",
    "\n"
   ]
  },
  {
   "cell_type": "code",
   "execution_count": 26,
   "metadata": {
    "tags": []
   },
   "outputs": [
    {
     "name": "stdout",
     "output_type": "stream",
     "text": [
      "endpoint_name: \n",
      " sm-new-ncf-endpont-2023-10-28-13-29-13\n",
      "endpoint_config: \n",
      " sm-ncf-model-2023-10-28-13-37-37-config\n",
      "model_name: \n",
      " sm-ncf-model-2023-10-28-13-37-37\n"
     ]
    }
   ],
   "source": [
    "show_inference_objects(sm_client, endpoint_name)    "
   ]
  },
  {
   "cell_type": "markdown",
   "metadata": {},
   "source": [
    "# 5. 신규 엔드포인트 생성"
   ]
  },
  {
   "cell_type": "code",
   "execution_count": 27,
   "metadata": {
    "tags": []
   },
   "outputs": [
    {
     "name": "stdout",
     "output_type": "stream",
     "text": [
      "sm_new_model_name:  sm-ncf-model-2023-10-28-13-37-37\n",
      "sm_new_endconfig_name:  sm-ncf-model-2023-10-28-13-37-37-config\n",
      "byom_new_artifact:  s3://sagemaker-us-east-1-057716757052/ncf/inference/model.tar.gz\n",
      "new_endpoint_name:  sm-new-ncf-endpont-2023-10-28-13-37-37\n"
     ]
    }
   ],
   "source": [
    "new_endpoint_name = 'sm-new-ncf-endpont-' + str(new_suffix)\n",
    "print(\"sm_new_model_name: \", sm_new_model_name)\n",
    "print(\"sm_new_endconfig_name: \", sm_new_endconfig_name)\n",
    "print(\"byom_new_artifact: \", byom_new_artifact)\n",
    "print(\"new_endpoint_name: \", new_endpoint_name)"
   ]
  },
  {
   "cell_type": "code",
   "execution_count": 28,
   "metadata": {
    "tags": []
   },
   "outputs": [
    {
     "name": "stdout",
     "output_type": "stream",
     "text": [
      "existing_configs: \n",
      " [{'EndpointConfigName': 'sm-ncf-model-2023-10-28-13-37-37-config', 'EndpointConfigArn': 'arn:aws:sagemaker:us-east-1:057716757052:endpoint-config/sm-ncf-model-2023-10-28-13-37-37-config', 'CreationTime': datetime.datetime(2023, 10, 28, 13, 37, 38, 503000, tzinfo=tzlocal())}]\n",
      "existing_endpoints: \n",
      " []\n",
      "Creating endpoint\n",
      "Endpoint status is creating\n",
      "Endpoint status: Creating\n",
      "Endpoint status: Creating\n",
      "Endpoint status: Creating\n",
      "Endpoint status: Creating\n",
      "Endpoint status: Creating\n",
      "Endpoint status: Creating\n",
      "Endpoint status: Creating\n",
      "Endpoint status: Creating\n",
      "Endpoint status: Creating\n",
      "Endpoint status: Creating\n",
      "Endpoint status: Creating\n",
      "Endpoint status: InService\n"
     ]
    }
   ],
   "source": [
    "create_sm_endpoint(sm_client=sm_client, instance_type= instance_type, \n",
    "                   endpoint_config_name =sm_new_endconfig_name, \n",
    "                   endpoint_name = new_endpoint_name, verbose=True )\n",
    "\n"
   ]
  },
  {
   "cell_type": "markdown",
   "metadata": {},
   "source": [
    "# 6. 신규 앤드포인트 생성 후에 Bake Time (예: 5분) 지난 후에 기존 엔드포인트 삭제"
   ]
  },
  {
   "cell_type": "code",
   "execution_count": 29,
   "metadata": {
    "tags": []
   },
   "outputs": [],
   "source": [
    "# time.sleep(300)"
   ]
  },
  {
   "cell_type": "code",
   "execution_count": 30,
   "metadata": {
    "tags": []
   },
   "outputs": [
    {
     "name": "stdout",
     "output_type": "stream",
     "text": [
      "model_name: \n",
      " sm-ncf-model-2023-10-28-13-37-37\n",
      "EndpointConfigName: \n",
      " sm-ncf-model-2023-10-28-13-37-37-config\n",
      "endpoint_name: \n",
      " sm-new-ncf-endpont-2023-10-28-13-29-13\n",
      "--- Deleted endpoint_config: sm-ncf-model-2023-10-28-13-37-37-config\n"
     ]
    }
   ],
   "source": [
    "from inference_utils import delete_endpoint_detail\n",
    "delete_endpoint_detail(client = sm_client, \n",
    "                endpoint_name = endpoint_name,\n",
    "                is_delete=True, \n",
    "                is_del_model=False, \n",
    "                is_del_endconfig=False,\n",
    "                is_del_endpoint=True)\n",
    "\n",
    "\n"
   ]
  },
  {
   "cell_type": "markdown",
   "metadata": {},
   "source": [
    "# 7. 마지막 신규 엔드포인트 리소스 제거\n",
    "- 첫번째는 실제 리소스를 제제거하지 않고, 관련 오브젝트만을 보여 줍니다.\n",
    "- 두번째는 신규 생성한 세이지메이커 모델, 엔드포인트 컨피그는 지우지 않고, 앤프포인트만 삭제 합니다.\n",
    "    - 이유는 업데이트된 앤드포인트에서 사용하기 때문입니다."
   ]
  },
  {
   "cell_type": "code",
   "execution_count": 31,
   "metadata": {
    "tags": []
   },
   "outputs": [],
   "source": [
    "from inference_utils import delete_endpoint"
   ]
  },
  {
   "cell_type": "code",
   "execution_count": 32,
   "metadata": {
    "tags": []
   },
   "outputs": [
    {
     "name": "stdout",
     "output_type": "stream",
     "text": [
      "model_name: \n",
      " sm-ncf-model-2023-10-28-13-37-37\n",
      "EndpointConfigName: \n",
      " sm-ncf-model-2023-10-28-13-37-37-config\n",
      "endpoint_name: \n",
      " sm-new-ncf-endpont-2023-10-28-13-37-37\n",
      "--- Deleted endpoint: sm-new-ncf-endpont-2023-10-28-13-37-37\n",
      "--- Deleted model: sm-ncf-model-2023-10-28-13-37-37\n",
      "--- Deleted endpoint_config: sm-ncf-model-2023-10-28-13-37-37-config\n"
     ]
    }
   ],
   "source": [
    "from inference_utils import delete_endpoint_detail\n",
    "delete_endpoint_detail(client = sm_client, \n",
    "                endpoint_name = new_endpoint_name,\n",
    "                is_delete=True, \n",
    "                is_del_model=True, \n",
    "                is_del_endconfig=True,\n",
    "                is_del_endpoint=True)\n",
    "\n"
   ]
  },
  {
   "cell_type": "code",
   "execution_count": null,
   "metadata": {},
   "outputs": [],
   "source": []
  }
 ],
 "metadata": {
  "kernelspec": {
   "display_name": "conda_python3",
   "language": "python",
   "name": "conda_python3"
  },
  "language_info": {
   "codemirror_mode": {
    "name": "ipython",
    "version": 3
   },
   "file_extension": ".py",
   "mimetype": "text/x-python",
   "name": "python",
   "nbconvert_exporter": "python",
   "pygments_lexer": "ipython3",
   "version": "3.10.12"
  },
  "notice": "Copyright 2018 Amazon.com, Inc. or its affiliates. All Rights Reserved.  Licensed under the Apache License, Version 2.0 (the \"License\"). You may not use this file except in compliance with the License. A copy of the License is located at http://aws.amazon.com/apache2.0/ or in the \"license\" file accompanying this file. This file is distributed on an \"AS IS\" BASIS, WITHOUT WARRANTIES OR CONDITIONS OF ANY KIND, either express or implied. See the License for the specific language governing permissions and limitations under the License."
 },
 "nbformat": 4,
 "nbformat_minor": 4
}
