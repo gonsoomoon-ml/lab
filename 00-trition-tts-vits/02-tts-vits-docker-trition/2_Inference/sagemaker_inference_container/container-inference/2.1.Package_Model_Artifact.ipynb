{
 "cells": [
  {
   "cell_type": "markdown",
   "metadata": {},
   "source": [
    "# [Module 2.1] 훈련 아테펙트를 Re-Packaging 하기\n",
    "\n",
    "이 노트북은 아래와 같은 작업을 합니다. \n",
    "\n",
    "---\n",
    "\n"
   ]
  },
  {
   "cell_type": "code",
   "execution_count": 1,
   "metadata": {
    "tags": []
   },
   "outputs": [],
   "source": [
    "%store -r artifact_path"
   ]
  },
  {
   "cell_type": "markdown",
   "metadata": {},
   "source": [
    "---\n",
    "# 1. 패키징 모델\n",
    "- 패키징할 폴더 생성\n",
    "- 훈련된 모델 아티펙트 다운로드 및 해제\n",
    "- 모델 아티펙트, 추론 코드의 폴더 지정 후에 패키징 폴더에 복사\n",
    "- 패키징 폴더를 model.tar.gz 압축 후에 S3에 업로딩\n",
    "- \n",
    "\n"
   ]
  },
  {
   "cell_type": "code",
   "execution_count": 2,
   "metadata": {
    "tags": []
   },
   "outputs": [],
   "source": [
    "import os\n",
    "\n",
    "package_dir = 'model_pkg'\n",
    "os.makedirs(package_dir, exist_ok=True)\n",
    "\n"
   ]
  },
  {
   "cell_type": "markdown",
   "metadata": {},
   "source": [
    "추론 코드가 있는 폴더"
   ]
  },
  {
   "cell_type": "code",
   "execution_count": 3,
   "metadata": {
    "tags": []
   },
   "outputs": [],
   "source": [
    "code_dir = '../../../src/*'"
   ]
  },
  {
   "cell_type": "code",
   "execution_count": 4,
   "metadata": {
    "tags": []
   },
   "outputs": [
    {
     "name": "stdout",
     "output_type": "stream",
     "text": [
      "/home/ec2-user/SageMaker/aws-ai-ml-workshop-kr/sagemaker/recommendation/Neural-Collaborative-Filtering-On-SageMaker/2_Inference/sagemaker_inference_container/container-inference/model_pkg\n",
      "download: s3://sagemaker-us-east-1-057716757052/pytorch-training-2023-10-28-07-43-01-333/output/model.tar.gz to ./model.tar.gz\n"
     ]
    },
    {
     "name": "stderr",
     "output_type": "stream",
     "text": [
      "tar: Ignoring unknown extended header keyword `LIBARCHIVE.creationtime'\n"
     ]
    },
    {
     "name": "stdout",
     "output_type": "stream",
     "text": [
      "NeuMF-end.pth\n",
      "code/\n",
      "code/benchmark_util.py\n",
      "code/inference_utils.py\n",
      "code/requirements.txt\n",
      "code/common_utils.py\n",
      "code/inference.py\n",
      "code/config.py\n",
      "code/model_config.json\n",
      "code/model.py\n",
      "code/data_utils.py\n",
      "NeuMF-end.pth\n"
     ]
    }
   ],
   "source": [
    "%%sh -s {artifact_path} {package_dir} {code_dir}\n",
    "\n",
    "artifact_path=$1\n",
    "package_dir=$2\n",
    "code_dir=$3\n",
    "\n",
    "cd $package_dir # 폴더 생성\n",
    "echo $PWD\n",
    "rm -rf ./*\n",
    "aws s3 cp $artifact_path . # 아티펙트 다운로드\n",
    "tar -xzvf model.tar.gz # 압축 해제\n",
    "rm model.tar.gz # 압축 파일 삭제\n",
    "mkdir -p code # code 폴더 생성\n",
    "cp -r $code_dir code/ # src 파일 모두 카피\n",
    "rm -rf code/__pycache__\n",
    "tar -czvf model.tar.gz * # model.tar.gz 파일 생성"
   ]
  },
  {
   "cell_type": "markdown",
   "metadata": {},
   "source": [
    "# 2. S3 에 업로드"
   ]
  },
  {
   "cell_type": "code",
   "execution_count": 5,
   "metadata": {
    "tags": []
   },
   "outputs": [
    {
     "name": "stdout",
     "output_type": "stream",
     "text": [
      "sagemaker.config INFO - Not applying SDK defaults from location: /etc/xdg/sagemaker/config.yaml\n",
      "sagemaker.config INFO - Not applying SDK defaults from location: /home/ec2-user/.config/sagemaker/config.yaml\n",
      "sagemaker.config INFO - Not applying SDK defaults from location: /etc/xdg/sagemaker/config.yaml\n",
      "sagemaker.config INFO - Not applying SDK defaults from location: /home/ec2-user/.config/sagemaker/config.yaml\n",
      "sagemaker.config INFO - Not applying SDK defaults from location: /etc/xdg/sagemaker/config.yaml\n",
      "sagemaker.config INFO - Not applying SDK defaults from location: /home/ec2-user/.config/sagemaker/config.yaml\n",
      "bucket:  sagemaker-us-east-1-057716757052\n",
      "byom_artifact: \n",
      " s3://sagemaker-us-east-1-057716757052/ncf/inference/model.tar.gz\n"
     ]
    }
   ],
   "source": [
    "import sagemaker\n",
    "sagemaker_session  = sagemaker.session.Session()\n",
    "prefix='ncf/inference'\n",
    "bucket = sagemaker.session.Session().default_bucket()\n",
    "print(\"bucket: \", bucket)\n",
    "\n",
    "model_path = os.path.join(package_dir, 'model.tar.gz')\n",
    "byom_artifact = sagemaker_session.upload_data(model_path, bucket, prefix)\n",
    "print(\"byom_artifact: \\n\", byom_artifact)"
   ]
  },
  {
   "cell_type": "code",
   "execution_count": 6,
   "metadata": {
    "tags": []
   },
   "outputs": [
    {
     "name": "stdout",
     "output_type": "stream",
     "text": [
      "Stored 'byom_artifact' (str)\n"
     ]
    }
   ],
   "source": [
    "%store byom_artifact"
   ]
  },
  {
   "cell_type": "code",
   "execution_count": null,
   "metadata": {},
   "outputs": [],
   "source": []
  },
  {
   "cell_type": "code",
   "execution_count": null,
   "metadata": {},
   "outputs": [],
   "source": []
  }
 ],
 "metadata": {
  "kernelspec": {
   "display_name": "conda_python3",
   "language": "python",
   "name": "conda_python3"
  },
  "language_info": {
   "codemirror_mode": {
    "name": "ipython",
    "version": 3
   },
   "file_extension": ".py",
   "mimetype": "text/x-python",
   "name": "python",
   "nbconvert_exporter": "python",
   "pygments_lexer": "ipython3",
   "version": "3.10.12"
  }
 },
 "nbformat": 4,
 "nbformat_minor": 4
}
