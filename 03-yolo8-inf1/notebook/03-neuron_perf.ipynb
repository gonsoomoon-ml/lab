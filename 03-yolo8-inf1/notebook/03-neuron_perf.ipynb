{
    "cells": [
        {
            "cell_type": "markdown",
            "id": "1b87ba52",
            "metadata": {},
            "source": [
                "# AWS Neuron Benchmark on Yolov8\n",
                "\n",
                "This notebook shows how to compile Yolov8/Pytorch to AWS Inferentia (inf1 instances) using NeuronSDK.\n",
                "\n",
                "Reference: \n",
                "- Model NeuronPerf (Beta)\n",
                "    - https://awsdocs-neuron.readthedocs-hosted.com/en/latest/tools/neuronperf/index.html\n",
                "- [NeuronPerf Examples](https://awsdocs-neuron.readthedocs-hosted.com/en/latest/tools/neuronperf/neuronperf_examples.html#neuronperf-examples)    "
            ]
        },
        {
            "cell_type": "markdown",
            "id": "49acc5c3",
            "metadata": {},
            "source": [
                "## 1. Neuron Perf"
            ]
        },
        {
            "cell_type": "code",
            "execution_count": 6,
            "id": "a8bd5925",
            "metadata": {},
            "outputs": [
                {
                    "name": "stderr",
                    "output_type": "stream",
                    "text": [
                        "WARNING:neuronperf.benchmarking - 'duration' is deprecated and will be replaced with 'max_duration' in a future release.\n",
                        "WARNING:neuronperf.benchmarking - Results may be unreliable with short test durations.\n",
                        "INFO:neuronperf.benchmarking - Benchmarking '../model/traced_yolo8_model_neuron.pt', ~40 seconds remaining.\n"
                    ]
                },
                {
                    "name": "stdout",
                    "output_type": "stream",
                    "text": [
                        "config_tag         cost_per_1m_inf    throughput_avg     latency_ms_p50     latency_ms_p99     n_models           workers_per_model  batch_size         \n",
                        "id_4kyiouw7        0.219              666.1              46.356             50.755             16                 2                  1                  \n",
                        "id_u46nm9m4        0.287              508.6              29.285             35.956             16                 1                  1                  \n",
                        "id_spy6ozgt        3.265              44.667             44.756             44.891             1                  2                  1                  \n",
                        "id_i31ug2pd        4.014              36.333             27.517             27.726             1                  1                  1                  \n"
                    ]
                },
                {
                    "data": {
                        "text/plain": [
                            "'../model/traced_yolo8_model_neuron.pt.results-20241016-135918.json'"
                        ]
                    },
                    "execution_count": 6,
                    "metadata": {},
                    "output_type": "execute_result"
                }
            ],
            "source": [
                "import torch  # or tensorflow, mxnet\n",
                "import neuronperf as npf\n",
                "import neuronperf.torch  # or tensorflow, mxnet\n",
                "\n",
                "\n",
                "neuron_model_path = \"../model/traced_yolo8_model_neuron.pt\"\n",
                "\n",
                "# Construct dummy inputs\n",
                "batch_sizes = 1\n",
                "input_shape = (batch_sizes, 3, 640, 640)\n",
                "inputs = torch.ones(input_shape)  # or numpy array for TF, MX\n",
                "# Benchmark and save results\n",
                "reports = npf.torch.benchmark(neuron_model_path, inputs, batch_sizes,\n",
                "                              duration=10, # 10 seconds\n",
                "                              )\n",
                "npf.print_reports(reports)\n",
                "npf.write_json(reports)\n",
                "\n"
            ]
        },
        {
            "cell_type": "code",
            "execution_count": null,
            "id": "cadb8d0f",
            "metadata": {},
            "outputs": [],
            "source": []
        }
    ],
    "metadata": {
        "kernelspec": {
            "display_name": "yolo8-conda-py310",
            "language": "python",
            "name": "yolo8-conda-py310"
        },
        "language_info": {
            "codemirror_mode": {
                "name": "ipython",
                "version": 3
            },
            "file_extension": ".py",
            "mimetype": "text/x-python",
            "name": "python",
            "nbconvert_exporter": "python",
            "pygments_lexer": "ipython3",
            "version": "3.10.15"
        },
        "vscode": {
            "interpreter": {
                "hash": "916dbcbb3f70747c44a77c7bcd40155683ae19c65e1c03b4aa3499c5328201f1"
            }
        }
    },
    "nbformat": 4,
    "nbformat_minor": 5
}
