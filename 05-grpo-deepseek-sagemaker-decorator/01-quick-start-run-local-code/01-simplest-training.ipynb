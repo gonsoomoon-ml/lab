{
 "cells": [
  {
   "cell_type": "markdown",
   "metadata": {},
   "source": [
    "# 가장 간단한 SageMaker 훈련\n",
    "\n",
    "---\n",
    "### 참조\n",
    "- [Quick Start - Run local code as SageMaker training job](https://github.com/aws/amazon-sagemaker-examples/blob/main/sagemaker-remote-function/quick_start/quick_start.ipynb)\n",
    "- [Run your local code as a SageMaker training job](https://docs.aws.amazon.com/sagemaker/latest/dg/train-remote-decorator.html)\n",
    "\n",
    "---"
   ]
  },
  {
   "cell_type": "code",
   "execution_count": 4,
   "metadata": {},
   "outputs": [
    {
     "name": "stdout",
     "output_type": "stream",
     "text": [
      "Requirement already satisfied: sagemaker==2.219.0 in /opt/conda/lib/python3.10/site-packages (from -r requirements.txt (line 1)) (2.219.0)\n",
      "Requirement already satisfied: attrs<24,>=23.1.0 in /opt/conda/lib/python3.10/site-packages (from sagemaker==2.219.0->-r requirements.txt (line 1)) (23.2.0)\n",
      "Requirement already satisfied: boto3<2.0,>=1.33.3 in /opt/conda/lib/python3.10/site-packages (from sagemaker==2.219.0->-r requirements.txt (line 1)) (1.34.51)\n",
      "Requirement already satisfied: cloudpickle==2.2.1 in /opt/conda/lib/python3.10/site-packages (from sagemaker==2.219.0->-r requirements.txt (line 1)) (2.2.1)\n",
      "Requirement already satisfied: google-pasta in /opt/conda/lib/python3.10/site-packages (from sagemaker==2.219.0->-r requirements.txt (line 1)) (0.2.0)\n",
      "Requirement already satisfied: numpy<2.0,>=1.9.0 in /opt/conda/lib/python3.10/site-packages (from sagemaker==2.219.0->-r requirements.txt (line 1)) (1.26.4)\n",
      "Requirement already satisfied: protobuf<5.0,>=3.12 in /opt/conda/lib/python3.10/site-packages (from sagemaker==2.219.0->-r requirements.txt (line 1)) (4.24.4)\n",
      "Requirement already satisfied: smdebug-rulesconfig==1.0.1 in /opt/conda/lib/python3.10/site-packages (from sagemaker==2.219.0->-r requirements.txt (line 1)) (1.0.1)\n",
      "Requirement already satisfied: importlib-metadata<7.0,>=1.4.0 in /opt/conda/lib/python3.10/site-packages (from sagemaker==2.219.0->-r requirements.txt (line 1)) (6.10.0)\n",
      "Requirement already satisfied: packaging>=20.0 in /opt/conda/lib/python3.10/site-packages (from sagemaker==2.219.0->-r requirements.txt (line 1)) (23.2)\n",
      "Requirement already satisfied: pandas in /opt/conda/lib/python3.10/site-packages (from sagemaker==2.219.0->-r requirements.txt (line 1)) (2.1.4)\n",
      "Requirement already satisfied: pathos in /opt/conda/lib/python3.10/site-packages (from sagemaker==2.219.0->-r requirements.txt (line 1)) (0.3.2)\n",
      "Requirement already satisfied: schema in /opt/conda/lib/python3.10/site-packages (from sagemaker==2.219.0->-r requirements.txt (line 1)) (0.7.7)\n",
      "Requirement already satisfied: PyYAML~=6.0 in /opt/conda/lib/python3.10/site-packages (from sagemaker==2.219.0->-r requirements.txt (line 1)) (6.0.1)\n",
      "Requirement already satisfied: jsonschema in /opt/conda/lib/python3.10/site-packages (from sagemaker==2.219.0->-r requirements.txt (line 1)) (4.17.3)\n",
      "Requirement already satisfied: platformdirs in /opt/conda/lib/python3.10/site-packages (from sagemaker==2.219.0->-r requirements.txt (line 1)) (4.2.1)\n",
      "Requirement already satisfied: tblib<4,>=1.7.0 in /opt/conda/lib/python3.10/site-packages (from sagemaker==2.219.0->-r requirements.txt (line 1)) (2.0.0)\n",
      "Requirement already satisfied: urllib3<3.0.0,>=1.26.8 in /opt/conda/lib/python3.10/site-packages (from sagemaker==2.219.0->-r requirements.txt (line 1)) (1.26.18)\n",
      "Requirement already satisfied: requests in /opt/conda/lib/python3.10/site-packages (from sagemaker==2.219.0->-r requirements.txt (line 1)) (2.31.0)\n",
      "Requirement already satisfied: docker in /opt/conda/lib/python3.10/site-packages (from sagemaker==2.219.0->-r requirements.txt (line 1)) (7.0.0)\n",
      "Requirement already satisfied: tqdm in /opt/conda/lib/python3.10/site-packages (from sagemaker==2.219.0->-r requirements.txt (line 1)) (4.66.4)\n",
      "Requirement already satisfied: psutil in /opt/conda/lib/python3.10/site-packages (from sagemaker==2.219.0->-r requirements.txt (line 1)) (5.9.8)\n",
      "Requirement already satisfied: botocore<1.35.0,>=1.34.51 in /opt/conda/lib/python3.10/site-packages (from boto3<2.0,>=1.33.3->sagemaker==2.219.0->-r requirements.txt (line 1)) (1.34.51)\n",
      "Requirement already satisfied: jmespath<2.0.0,>=0.7.1 in /opt/conda/lib/python3.10/site-packages (from boto3<2.0,>=1.33.3->sagemaker==2.219.0->-r requirements.txt (line 1)) (1.0.1)\n",
      "Requirement already satisfied: s3transfer<0.11.0,>=0.10.0 in /opt/conda/lib/python3.10/site-packages (from boto3<2.0,>=1.33.3->sagemaker==2.219.0->-r requirements.txt (line 1)) (0.10.1)\n",
      "Requirement already satisfied: zipp>=0.5 in /opt/conda/lib/python3.10/site-packages (from importlib-metadata<7.0,>=1.4.0->sagemaker==2.219.0->-r requirements.txt (line 1)) (3.17.0)\n",
      "Requirement already satisfied: charset-normalizer<4,>=2 in /opt/conda/lib/python3.10/site-packages (from requests->sagemaker==2.219.0->-r requirements.txt (line 1)) (3.3.2)\n",
      "Requirement already satisfied: idna<4,>=2.5 in /opt/conda/lib/python3.10/site-packages (from requests->sagemaker==2.219.0->-r requirements.txt (line 1)) (3.7)\n",
      "Requirement already satisfied: certifi>=2017.4.17 in /opt/conda/lib/python3.10/site-packages (from requests->sagemaker==2.219.0->-r requirements.txt (line 1)) (2024.2.2)\n",
      "Requirement already satisfied: six in /opt/conda/lib/python3.10/site-packages (from google-pasta->sagemaker==2.219.0->-r requirements.txt (line 1)) (1.16.0)\n",
      "Requirement already satisfied: pyrsistent!=0.17.0,!=0.17.1,!=0.17.2,>=0.14.0 in /opt/conda/lib/python3.10/site-packages (from jsonschema->sagemaker==2.219.0->-r requirements.txt (line 1)) (0.20.0)\n",
      "Requirement already satisfied: python-dateutil>=2.8.2 in /opt/conda/lib/python3.10/site-packages (from pandas->sagemaker==2.219.0->-r requirements.txt (line 1)) (2.9.0)\n",
      "Requirement already satisfied: pytz>=2020.1 in /opt/conda/lib/python3.10/site-packages (from pandas->sagemaker==2.219.0->-r requirements.txt (line 1)) (2023.3)\n",
      "Requirement already satisfied: tzdata>=2022.1 in /opt/conda/lib/python3.10/site-packages (from pandas->sagemaker==2.219.0->-r requirements.txt (line 1)) (2024.1)\n",
      "Requirement already satisfied: ppft>=1.7.6.8 in /opt/conda/lib/python3.10/site-packages (from pathos->sagemaker==2.219.0->-r requirements.txt (line 1)) (1.7.6.8)\n",
      "Requirement already satisfied: dill>=0.3.8 in /opt/conda/lib/python3.10/site-packages (from pathos->sagemaker==2.219.0->-r requirements.txt (line 1)) (0.3.8)\n",
      "Requirement already satisfied: pox>=0.3.4 in /opt/conda/lib/python3.10/site-packages (from pathos->sagemaker==2.219.0->-r requirements.txt (line 1)) (0.3.4)\n",
      "Requirement already satisfied: multiprocess>=0.70.16 in /opt/conda/lib/python3.10/site-packages (from pathos->sagemaker==2.219.0->-r requirements.txt (line 1)) (0.70.16)\n"
     ]
    }
   ],
   "source": [
    "! pip install -r requirements.txt"
   ]
  },
  {
   "cell_type": "code",
   "execution_count": 2,
   "metadata": {},
   "outputs": [
    {
     "name": "stdout",
     "output_type": "stream",
     "text": [
      "amazon_sagemaker_jupyter_scheduler    3.0.11\n",
      "amazon-sagemaker-sql-editor           0.1.7\n",
      "amazon-sagemaker-sql-execution        0.1.5\n",
      "amazon-sagemaker-sql-magic            0.1.1\n",
      "sagemaker                             2.219.0\n",
      "sagemaker-headless-execution-driver   0.0.12\n",
      "sagemaker-jupyterlab-emr-extension    0.1.9\n",
      "sagemaker-jupyterlab-extension        0.3.2\n",
      "sagemaker-jupyterlab-extension-common 0.1.15\n",
      "sagemaker-kernel-wrapper              0.0.2\n",
      "sagemaker-studio-analytics-extension  0.0.21\n",
      "sagemaker-studio-sparkmagic-lib       0.1.4\n"
     ]
    }
   ],
   "source": [
    "! pip list | grep sagemaker"
   ]
  },
  {
   "cell_type": "code",
   "execution_count": 8,
   "metadata": {},
   "outputs": [
    {
     "name": "stderr",
     "output_type": "stream",
     "text": [
      "2025-02-08 12:15:54,076 sagemaker.remote_function INFO     Serializing function code to s3://sagemaker-us-east-1-057716757052/divide-2025-02-08-12-15-54-076/function\n",
      "2025-02-08 12:15:54,160 sagemaker.remote_function INFO     Serializing function arguments to s3://sagemaker-us-east-1-057716757052/divide-2025-02-08-12-15-54-076/arguments\n",
      "2025-02-08 12:15:54,506 sagemaker.remote_function INFO     Copied dependencies file at './requirements.txt' to '/tmp/tmpwgzuyu2o/temp_workspace/sagemaker_remote_function_workspace/requirements.txt'\n",
      "2025-02-08 12:15:54,507 sagemaker.remote_function INFO     Successfully created workdir archive at '/tmp/tmpwgzuyu2o/workspace.zip'\n",
      "2025-02-08 12:15:54,548 sagemaker.remote_function INFO     Successfully uploaded workdir to 's3://sagemaker-us-east-1-057716757052/divide-2025-02-08-12-15-54-076/sm_rf_user_ws/workspace.zip'\n",
      "2025-02-08 12:15:54,549 sagemaker.remote_function INFO     Creating job: divide-2025-02-08-12-15-54-076\n"
     ]
    },
    {
     "name": "stdout",
     "output_type": "stream",
     "text": [
      "2025-02-08 12:15:54 Starting - Starting the training job...\n",
      "2025-02-08 12:16:19 Downloading - Downloading the training image\n",
      "2025-02-08 12:16:19 Training - Training image download completed. Training in progress.\n",
      "2025-02-08 12:16:19 Uploading - Uploading generated training modelINFO: CONDA_PKGS_DIRS is set to '/opt/ml/sagemaker/warmpoolcache/sm_remotefunction_user_dependencies_cache/conda/pkgs'\n",
      "INFO: PIP_CACHE_DIR is set to '/opt/ml/sagemaker/warmpoolcache/sm_remotefunction_user_dependencies_cache/pip'\n",
      "INFO: Bootstraping runtime environment.\n",
      "2025-02-08 12:16:09,263 sagemaker.remote_function INFO     The job is running on non-root user: sagemaker-user. Adding write permissions to the following job output directories: ['/opt/ml/output', '/opt/ml/model', '/tmp'].\n",
      "2025-02-08 12:16:09,263 sagemaker.remote_function INFO     Executing 'sudo chmod -R 777 /opt/ml/output /opt/ml/model /tmp'.\n",
      "2025-02-08 12:16:09,276 sagemaker.remote_function INFO     Successfully unpacked workspace archive at '/home/sagemaker-user'.\n",
      "2025-02-08 12:16:09,277 sagemaker.remote_function INFO     '/home/sagemaker-user/sagemaker_remote_function_workspace/pre_exec.sh' does not exist. Assuming no pre-execution commands to run\n",
      "2025-02-08 12:16:09,277 sagemaker.remote_function INFO     Running command: '/opt/conda/bin/python -m pip install -r /home/sagemaker-user/sagemaker_remote_function_workspace/requirements.txt -U' in the dir: '/home/sagemaker-user' \n",
      "2025-02-08 12:16:09,748 sagemaker.remote_function INFO     Requirement already satisfied: sagemaker==2.219.0 in /opt/conda/lib/python3.10/site-packages (from -r /home/sagemaker-user/sagemaker_remote_function_workspace/requirements.txt (line 1)) (2.219.0)\n",
      "2025-02-08 12:16:09,914 sagemaker.remote_function INFO     Requirement already satisfied: attrs<24,>=23.1.0 in /opt/conda/lib/python3.10/site-packages (from sagemaker==2.219.0->-r /home/sagemaker-user/sagemaker_remote_function_workspace/requirements.txt (line 1)) (23.2.0)\n",
      "2025-02-08 12:16:09,915 sagemaker.remote_function INFO     Requirement already satisfied: boto3<2.0,>=1.33.3 in /opt/conda/lib/python3.10/site-packages (from sagemaker==2.219.0->-r /home/sagemaker-user/sagemaker_remote_function_workspace/requirements.txt (line 1)) (1.34.51)\n",
      "2025-02-08 12:16:09,916 sagemaker.remote_function INFO     Requirement already satisfied: cloudpickle==2.2.1 in /opt/conda/lib/python3.10/site-packages (from sagemaker==2.219.0->-r /home/sagemaker-user/sagemaker_remote_function_workspace/requirements.txt (line 1)) (2.2.1)\n",
      "2025-02-08 12:16:09,916 sagemaker.remote_function INFO     Requirement already satisfied: google-pasta in /opt/conda/lib/python3.10/site-packages (from sagemaker==2.219.0->-r /home/sagemaker-user/sagemaker_remote_function_workspace/requirements.txt (line 1)) (0.2.0)\n",
      "2025-02-08 12:16:09,917 sagemaker.remote_function INFO     Requirement already satisfied: numpy<2.0,>=1.9.0 in /opt/conda/lib/python3.10/site-packages (from sagemaker==2.219.0->-r /home/sagemaker-user/sagemaker_remote_function_workspace/requirements.txt (line 1)) (1.26.4)\n",
      "2025-02-08 12:16:09,918 sagemaker.remote_function INFO     Requirement already satisfied: protobuf<5.0,>=3.12 in /opt/conda/lib/python3.10/site-packages (from sagemaker==2.219.0->-r /home/sagemaker-user/sagemaker_remote_function_workspace/requirements.txt (line 1)) (4.24.4)\n",
      "2025-02-08 12:16:09,919 sagemaker.remote_function INFO     Requirement already satisfied: smdebug-rulesconfig==1.0.1 in /opt/conda/lib/python3.10/site-packages (from sagemaker==2.219.0->-r /home/sagemaker-user/sagemaker_remote_function_workspace/requirements.txt (line 1)) (1.0.1)\n",
      "2025-02-08 12:16:09,920 sagemaker.remote_function INFO     Requirement already satisfied: importlib-metadata<7.0,>=1.4.0 in /opt/conda/lib/python3.10/site-packages (from sagemaker==2.219.0->-r /home/sagemaker-user/sagemaker_remote_function_workspace/requirements.txt (line 1)) (6.10.0)\n",
      "2025-02-08 12:16:09,920 sagemaker.remote_function INFO     Requirement already satisfied: packaging>=20.0 in /opt/conda/lib/python3.10/site-packages (from sagemaker==2.219.0->-r /home/sagemaker-user/sagemaker_remote_function_workspace/requirements.txt (line 1)) (23.2)\n",
      "2025-02-08 12:16:09,921 sagemaker.remote_function INFO     Requirement already satisfied: pandas in /opt/conda/lib/python3.10/site-packages (from sagemaker==2.219.0->-r /home/sagemaker-user/sagemaker_remote_function_workspace/requirements.txt (line 1)) (2.1.4)\n",
      "2025-02-08 12:16:09,921 sagemaker.remote_function INFO     Requirement already satisfied: pathos in /opt/conda/lib/python3.10/site-packages (from sagemaker==2.219.0->-r /home/sagemaker-user/sagemaker_remote_function_workspace/requirements.txt (line 1)) (0.3.2)\n",
      "2025-02-08 12:16:09,922 sagemaker.remote_function INFO     Requirement already satisfied: schema in /opt/conda/lib/python3.10/site-packages (from sagemaker==2.219.0->-r /home/sagemaker-user/sagemaker_remote_function_workspace/requirements.txt (line 1)) (0.7.7)\n",
      "2025-02-08 12:16:09,922 sagemaker.remote_function INFO     Requirement already satisfied: PyYAML~=6.0 in /opt/conda/lib/python3.10/site-packages (from sagemaker==2.219.0->-r /home/sagemaker-user/sagemaker_remote_function_workspace/requirements.txt (line 1)) (6.0.1)\n",
      "2025-02-08 12:16:09,923 sagemaker.remote_function INFO     Requirement already satisfied: jsonschema in /opt/conda/lib/python3.10/site-packages (from sagemaker==2.219.0->-r /home/sagemaker-user/sagemaker_remote_function_workspace/requirements.txt (line 1)) (4.17.3)\n",
      "2025-02-08 12:16:09,923 sagemaker.remote_function INFO     Requirement already satisfied: platformdirs in /opt/conda/lib/python3.10/site-packages (from sagemaker==2.219.0->-r /home/sagemaker-user/sagemaker_remote_function_workspace/requirements.txt (line 1)) (4.2.1)\n",
      "2025-02-08 12:16:09,924 sagemaker.remote_function INFO     Requirement already satisfied: tblib<4,>=1.7.0 in /opt/conda/lib/python3.10/site-packages (from sagemaker==2.219.0->-r /home/sagemaker-user/sagemaker_remote_function_workspace/requirements.txt (line 1)) (2.0.0)\n",
      "2025-02-08 12:16:09,925 sagemaker.remote_function INFO     Requirement already satisfied: urllib3<3.0.0,>=1.26.8 in /opt/conda/lib/python3.10/site-packages (from sagemaker==2.219.0->-r /home/sagemaker-user/sagemaker_remote_function_workspace/requirements.txt (line 1)) (1.26.18)\n",
      "2025-02-08 12:16:09,925 sagemaker.remote_function INFO     Requirement already satisfied: requests in /opt/conda/lib/python3.10/site-packages (from sagemaker==2.219.0->-r /home/sagemaker-user/sagemaker_remote_function_workspace/requirements.txt (line 1)) (2.31.0)\n",
      "2025-02-08 12:16:09,926 sagemaker.remote_function INFO     Requirement already satisfied: docker in /opt/conda/lib/python3.10/site-packages (from sagemaker==2.219.0->-r /home/sagemaker-user/sagemaker_remote_function_workspace/requirements.txt (line 1)) (7.0.0)\n",
      "2025-02-08 12:16:09,926 sagemaker.remote_function INFO     Requirement already satisfied: tqdm in /opt/conda/lib/python3.10/site-packages (from sagemaker==2.219.0->-r /home/sagemaker-user/sagemaker_remote_function_workspace/requirements.txt (line 1)) (4.66.4)\n",
      "2025-02-08 12:16:09,927 sagemaker.remote_function INFO     Requirement already satisfied: psutil in /opt/conda/lib/python3.10/site-packages (from sagemaker==2.219.0->-r /home/sagemaker-user/sagemaker_remote_function_workspace/requirements.txt (line 1)) (5.9.8)\n",
      "2025-02-08 12:16:09,954 sagemaker.remote_function INFO     Requirement already satisfied: botocore<1.35.0,>=1.34.51 in /opt/conda/lib/python3.10/site-packages (from boto3<2.0,>=1.33.3->sagemaker==2.219.0->-r /home/sagemaker-user/sagemaker_remote_function_workspace/requirements.txt (line 1)) (1.34.51)\n",
      "2025-02-08 12:16:09,955 sagemaker.remote_function INFO     Requirement already satisfied: jmespath<2.0.0,>=0.7.1 in /opt/conda/lib/python3.10/site-packages (from boto3<2.0,>=1.33.3->sagemaker==2.219.0->-r /home/sagemaker-user/sagemaker_remote_function_workspace/requirements.txt (line 1)) (1.0.1)\n",
      "2025-02-08 12:16:09,956 sagemaker.remote_function INFO     Requirement already satisfied: s3transfer<0.11.0,>=0.10.0 in /opt/conda/lib/python3.10/site-packages (from boto3<2.0,>=1.33.3->sagemaker==2.219.0->-r /home/sagemaker-user/sagemaker_remote_function_workspace/requirements.txt (line 1)) (0.10.1)\n",
      "2025-02-08 12:16:09,976 sagemaker.remote_function INFO     Requirement already satisfied: zipp>=0.5 in /opt/conda/lib/python3.10/site-packages (from importlib-metadata<7.0,>=1.4.0->sagemaker==2.219.0->-r /home/sagemaker-user/sagemaker_remote_function_workspace/requirements.txt (line 1)) (3.17.0)\n",
      "2025-02-08 12:16:10,013 sagemaker.remote_function INFO     Requirement already satisfied: charset-normalizer<4,>=2 in /opt/conda/lib/python3.10/site-packages (from requests->sagemaker==2.219.0->-r /home/sagemaker-user/sagemaker_remote_function_workspace/requirements.txt (line 1)) (3.3.2)\n",
      "2025-02-08 12:16:10,014 sagemaker.remote_function INFO     Requirement already satisfied: idna<4,>=2.5 in /opt/conda/lib/python3.10/site-packages (from requests->sagemaker==2.219.0->-r /home/sagemaker-user/sagemaker_remote_function_workspace/requirements.txt (line 1)) (3.7)\n",
      "2025-02-08 12:16:10,015 sagemaker.remote_function INFO     Requirement already satisfied: certifi>=2017.4.17 in /opt/conda/lib/python3.10/site-packages (from requests->sagemaker==2.219.0->-r /home/sagemaker-user/sagemaker_remote_function_workspace/requirements.txt (line 1)) (2024.2.2)\n",
      "2025-02-08 12:16:10,017 sagemaker.remote_function INFO     Requirement already satisfied: six in /opt/conda/lib/python3.10/site-packages (from google-pasta->sagemaker==2.219.0->-r /home/sagemaker-user/sagemaker_remote_function_workspace/requirements.txt (line 1)) (1.16.0)\n",
      "2025-02-08 12:16:10,037 sagemaker.remote_function INFO     Requirement already satisfied: pyrsistent!=0.17.0,!=0.17.1,!=0.17.2,>=0.14.0 in /opt/conda/lib/python3.10/site-packages (from jsonschema->sagemaker==2.219.0->-r /home/sagemaker-user/sagemaker_remote_function_workspace/requirements.txt (line 1)) (0.20.0)\n",
      "2025-02-08 12:16:10,140 sagemaker.remote_function INFO     Requirement already satisfied: python-dateutil>=2.8.2 in /opt/conda/lib/python3.10/site-packages (from pandas->sagemaker==2.219.0->-r /home/sagemaker-user/sagemaker_remote_function_workspace/requirements.txt (line 1)) (2.9.0)\n",
      "2025-02-08 12:16:10,141 sagemaker.remote_function INFO     Requirement already satisfied: pytz>=2020.1 in /opt/conda/lib/python3.10/site-packages (from pandas->sagemaker==2.219.0->-r /home/sagemaker-user/sagemaker_remote_function_workspace/requirements.txt (line 1)) (2023.3)\n",
      "2025-02-08 12:16:10,142 sagemaker.remote_function INFO     Requirement already satisfied: tzdata>=2022.1 in /opt/conda/lib/python3.10/site-packages (from pandas->sagemaker==2.219.0->-r /home/sagemaker-user/sagemaker_remote_function_workspace/requirements.txt (line 1)) (2024.1)\n",
      "2025-02-08 12:16:10,148 sagemaker.remote_function INFO     Requirement already satisfied: ppft>=1.7.6.8 in /opt/conda/lib/python3.10/site-packages (from pathos->sagemaker==2.219.0->-r /home/sagemaker-user/sagemaker_remote_function_workspace/requirements.txt (line 1)) (1.7.6.8)\n",
      "2025-02-08 12:16:10,149 sagemaker.remote_function INFO     Requirement already satisfied: dill>=0.3.8 in /opt/conda/lib/python3.10/site-packages (from pathos->sagemaker==2.219.0->-r /home/sagemaker-user/sagemaker_remote_function_workspace/requirements.txt (line 1)) (0.3.8)\n",
      "2025-02-08 12:16:10,149 sagemaker.remote_function INFO     Requirement already satisfied: pox>=0.3.4 in /opt/conda/lib/python3.10/site-packages (from pathos->sagemaker==2.219.0->-r /home/sagemaker-user/sagemaker_remote_function_workspace/requirements.txt (line 1)) (0.3.4)\n",
      "2025-02-08 12:16:10,150 sagemaker.remote_function INFO     Requirement already satisfied: multiprocess>=0.70.16 in /opt/conda/lib/python3.10/site-packages (from pathos->sagemaker==2.219.0->-r /home/sagemaker-user/sagemaker_remote_function_workspace/requirements.txt (line 1)) (0.70.16)\n",
      "2025-02-08 12:16:14,165 sagemaker.remote_function WARNING  WARNING: The directory '/opt/ml/sagemaker/warmpoolcache/sm_remotefunction_user_dependencies_cache/pip' or its parent directory is not owned or is not writable by the current user. The cache has been disabled. Check the permissions and owner of that directory. If executing pip with sudo, you should use sudo's -H flag.\n",
      "2025-02-08 12:16:14,165 sagemaker.remote_function INFO     Command /opt/conda/bin/python -m pip install -r /home/sagemaker-user/sagemaker_remote_function_workspace/requirements.txt -U ran successfully\n",
      "sagemaker.config INFO - Not applying SDK defaults from location: /etc/xdg/sagemaker/config.yaml\n",
      "sagemaker.config INFO - Not applying SDK defaults from location: /home/sagemaker-user/.config/sagemaker/config.yaml\n",
      "INFO: Changing workspace to sagemaker_remote_function_workspace.\n",
      "INFO: No conda env provided. Invoking remote function\n",
      "sagemaker.config INFO - Not applying SDK defaults from location: /etc/xdg/sagemaker/config.yaml\n",
      "sagemaker.config INFO - Not applying SDK defaults from location: /home/sagemaker-user/.config/sagemaker/config.yaml\n",
      "2025-02-08 12:16:17,029 sagemaker.remote_function INFO     Deserializing function code from s3://sagemaker-us-east-1-057716757052/divide-2025-02-08-12-15-54-076/function\n",
      "2025-02-08 12:16:17,142 sagemaker.remote_function INFO     Deserializing function arguments from s3://sagemaker-us-east-1-057716757052/divide-2025-02-08-12-15-54-076/arguments\n",
      "2025-02-08 12:16:17,246 sagemaker.remote_function INFO     Resolving pipeline variables\n",
      "2025-02-08 12:16:17,246 sagemaker.remote_function INFO     Invoking the function\n",
      "2025-02-08 12:16:17,246 sagemaker.remote_function INFO     Serializing the function return and uploading to s3://sagemaker-us-east-1-057716757052/divide-2025-02-08-12-15-54-076/results\n",
      "\n",
      "2025-02-08 12:16:33 Completed - Resource retained for reuse\n",
      "Training seconds: 33\n",
      "Billable seconds: 33\n"
     ]
    },
    {
     "data": {
      "text/plain": [
       "0.6666666666666666"
      ]
     },
     "execution_count": 8,
     "metadata": {},
     "output_type": "execute_result"
    }
   ],
   "source": [
    "from sagemaker.remote_function import remote\n",
    "\n",
    "@remote(instance_type=\"ml.m5.xlarge\", dependencies='./requirements.txt', keep_alive_period_in_seconds=3600)\n",
    "def divide(x, y):\n",
    "    return x / y\n",
    "\n",
    "assert divide(2, 3.0) == 2"
   ]
  },
  {
   "cell_type": "code",
   "execution_count": 14,
   "metadata": {},
   "outputs": [
    {
     "name": "stderr",
     "output_type": "stream",
     "text": [
      "2025-02-08 12:27:39,469 sagemaker.remote_function INFO     Serializing function code to s3://sagemaker-us-east-1-057716757052/multiply-2025-02-08-12-27-39-469/function\n",
      "2025-02-08 12:27:39,549 sagemaker.remote_function INFO     Serializing function arguments to s3://sagemaker-us-east-1-057716757052/multiply-2025-02-08-12-27-39-469/arguments\n",
      "2025-02-08 12:27:39,764 sagemaker.remote_function INFO     Copied dependencies file at './environment.yml' to '/tmp/tmpzeo7wi86/temp_workspace/sagemaker_remote_function_workspace/environment.yml'\n",
      "2025-02-08 12:27:39,765 sagemaker.remote_function INFO     Successfully created workdir archive at '/tmp/tmpzeo7wi86/workspace.zip'\n",
      "2025-02-08 12:27:39,794 sagemaker.remote_function INFO     Successfully uploaded workdir to 's3://sagemaker-us-east-1-057716757052/multiply-2025-02-08-12-27-39-469/sm_rf_user_ws/workspace.zip'\n",
      "2025-02-08 12:27:39,795 sagemaker.remote_function INFO     Creating job: multiply-2025-02-08-12-27-39-469\n"
     ]
    },
    {
     "name": "stdout",
     "output_type": "stream",
     "text": [
      "2025-02-08 12:27:39 Starting - Starting the training job...\n",
      "2025-02-08 12:27:54 Downloading - Downloading the training image\n",
      "2025-02-08 12:27:54 Training - Training image download completed. Training in progress.INFO: CONDA_PKGS_DIRS is set to '/opt/ml/sagemaker/warmpoolcache/sm_remotefunction_user_dependencies_cache/conda/pkgs'\n",
      "INFO: PIP_CACHE_DIR is set to '/opt/ml/sagemaker/warmpoolcache/sm_remotefunction_user_dependencies_cache/pip'\n",
      "INFO: Bootstraping runtime environment.\n",
      "2025-02-08 12:27:54,337 sagemaker.remote_function INFO     The job is running on non-root user: sagemaker-user. Adding write permissions to the following job output directories: ['/opt/ml/output', '/opt/ml/model', '/tmp'].\n",
      "2025-02-08 12:27:54,337 sagemaker.remote_function INFO     Executing 'sudo chmod -R 777 /opt/ml/output /opt/ml/model /tmp'.\n",
      "2025-02-08 12:27:54,364 sagemaker.remote_function INFO     Successfully unpacked workspace archive at '/home/sagemaker-user'.\n",
      "2025-02-08 12:27:54,364 sagemaker.remote_function INFO     '/home/sagemaker-user/sagemaker_remote_function_workspace/pre_exec.sh' does not exist. Assuming no pre-execution commands to run\n",
      "/opt/conda/bin/conda\n",
      "2025-02-08 12:27:54,367 sagemaker.remote_function INFO     Creating conda environment sagemaker-runtime-env using: conda env create -n sagemaker-runtime-env --file /home/sagemaker-user/sagemaker_remote_function_workspace/environment.yml.\n",
      "2025-02-08 12:27:55,031 sagemaker.remote_function INFO     Warning: you have pip-installed dependencies in your environment file, but you do not list pip itself as one of your conda dependencies.  Conda may not use the correct pip to install your packages, and they may end up in the wrong place.  Please add an explicit pip dependency.  I'm adding one for you, but still nagging you.\n",
      "2025-02-08 12:27:55,369 sagemaker.remote_function INFO     Channels:\n",
      "2025-02-08 12:27:55,370 sagemaker.remote_function INFO      - defaults\n",
      "2025-02-08 12:27:55,370 sagemaker.remote_function INFO     Platform: linux-64\n",
      "2025-02-08 12:28:03,205 sagemaker.remote_function INFO     Collecting package metadata (repodata.json): ...working... done\n",
      "2025-02-08 12:28:03,507 sagemaker.remote_function INFO     Solving environment: ...working... done\n",
      "2025-02-08 12:28:14,760 sagemaker.remote_function INFO     \n",
      "2025-02-08 12:28:14,760 sagemaker.remote_function INFO     Downloading and Extracting Packages: ...working... done\n",
      "2025-02-08 12:28:15,232 sagemaker.remote_function INFO     Preparing transaction: ...working... done\n",
      "2025-02-08 12:28:20,565 sagemaker.remote_function INFO     Verifying transaction: ...working... done\n",
      "2025-02-08 12:28:22,458 sagemaker.remote_function INFO     Executing transaction: ...working... done\n",
      "\n",
      "2025-02-08 12:28:39 Uploading - Uploading generated training model2025-02-08 12:28:32,363 sagemaker.remote_function INFO     Installing pip dependencies: ...working... Ran pip subprocess with arguments:\n",
      "2025-02-08 12:28:32,364 sagemaker.remote_function INFO     ['/home/sagemaker-user/.conda/envs/sagemaker-runtime-env/bin/python', '-m', 'pip', 'install', '-U', '-r', '/home/sagemaker-user/sagemaker_remote_function_workspace/condaenv.o3r219tb.requirements.txt', '--exists-action=b']\n",
      "2025-02-08 12:28:32,364 sagemaker.remote_function INFO     Pip subprocess output:\n",
      "2025-02-08 12:28:32,364 sagemaker.remote_function INFO     Collecting sagemaker==2.219.0 (from -r /home/sagemaker-user/sagemaker_remote_function_workspace/condaenv.o3r219tb.requirements.txt (line 1))\n",
      "2025-02-08 12:28:32,364 sagemaker.remote_function INFO       Downloading sagemaker-2.219.0-py3-none-any.whl.metadata (14 kB)\n",
      "2025-02-08 12:28:32,364 sagemaker.remote_function INFO     Collecting attrs<24,>=23.1.0 (from sagemaker==2.219.0->-r /home/sagemaker-user/sagemaker_remote_function_workspace/condaenv.o3r219tb.requirements.txt (line 1))\n",
      "2025-02-08 12:28:32,364 sagemaker.remote_function INFO       Downloading attrs-23.2.0-py3-none-any.whl.metadata (9.5 kB)\n",
      "2025-02-08 12:28:32,364 sagemaker.remote_function INFO     Collecting boto3<2.0,>=1.33.3 (from sagemaker==2.219.0->-r /home/sagemaker-user/sagemaker_remote_function_workspace/condaenv.o3r219tb.requirements.txt (line 1))\n",
      "2025-02-08 12:28:32,364 sagemaker.remote_function INFO       Downloading boto3-1.36.16-py3-none-any.whl.metadata (6.7 kB)\n",
      "2025-02-08 12:28:32,364 sagemaker.remote_function INFO     Collecting cloudpickle==2.2.1 (from sagemaker==2.219.0->-r /home/sagemaker-user/sagemaker_remote_function_workspace/condaenv.o3r219tb.requirements.txt (line 1))\n",
      "2025-02-08 12:28:32,364 sagemaker.remote_function INFO       Downloading cloudpickle-2.2.1-py3-none-any.whl.metadata (6.9 kB)\n",
      "2025-02-08 12:28:32,364 sagemaker.remote_function INFO     Collecting google-pasta (from sagemaker==2.219.0->-r /home/sagemaker-user/sagemaker_remote_function_workspace/condaenv.o3r219tb.requirements.txt (line 1))\n",
      "2025-02-08 12:28:32,365 sagemaker.remote_function INFO       Downloading google_pasta-0.2.0-py3-none-any.whl.metadata (814 bytes)\n",
      "2025-02-08 12:28:32,365 sagemaker.remote_function INFO     Collecting numpy<2.0,>=1.9.0 (from sagemaker==2.219.0->-r /home/sagemaker-user/sagemaker_remote_function_workspace/condaenv.o3r219tb.requirements.txt (line 1))\n",
      "2025-02-08 12:28:32,365 sagemaker.remote_function INFO       Downloading numpy-1.26.4-cp310-cp310-manylinux_2_17_x86_64.manylinux2014_x86_64.whl.metadata (61 kB)\n",
      "2025-02-08 12:28:32,365 sagemaker.remote_function INFO     Collecting protobuf<5.0,>=3.12 (from sagemaker==2.219.0->-r /home/sagemaker-user/sagemaker_remote_function_workspace/condaenv.o3r219tb.requirements.txt (line 1))\n",
      "2025-02-08 12:28:32,365 sagemaker.remote_function INFO       Downloading protobuf-4.25.6-cp37-abi3-manylinux2014_x86_64.whl.metadata (541 bytes)\n",
      "2025-02-08 12:28:32,365 sagemaker.remote_function INFO     Collecting smdebug-rulesconfig==1.0.1 (from sagemaker==2.219.0->-r /home/sagemaker-user/sagemaker_remote_function_workspace/condaenv.o3r219tb.requirements.txt (line 1))\n",
      "2025-02-08 12:28:32,365 sagemaker.remote_function INFO       Downloading smdebug_rulesconfig-1.0.1-py2.py3-none-any.whl.metadata (943 bytes)\n",
      "2025-02-08 12:28:32,365 sagemaker.remote_function INFO     Collecting importlib-metadata<7.0,>=1.4.0 (from sagemaker==2.219.0->-r /home/sagemaker-user/sagemaker_remote_function_workspace/condaenv.o3r219tb.requirements.txt (line 1))\n",
      "2025-02-08 12:28:32,365 sagemaker.remote_function INFO       Downloading importlib_metadata-6.11.0-py3-none-any.whl.metadata (4.9 kB)\n",
      "2025-02-08 12:28:32,365 sagemaker.remote_function INFO     Collecting packaging>=20.0 (from sagemaker==2.219.0->-r /home/sagemaker-user/sagemaker_remote_function_workspace/condaenv.o3r219tb.requirements.txt (line 1))\n",
      "2025-02-08 12:28:32,365 sagemaker.remote_function INFO       Downloading packaging-24.2-py3-none-any.whl.metadata (3.2 kB)\n",
      "2025-02-08 12:28:32,365 sagemaker.remote_function INFO     Requirement already satisfied: pandas in /home/sagemaker-user/.conda/envs/sagemaker-runtime-env/lib/python3.10/site-packages (from sagemaker==2.219.0->-r /home/sagemaker-user/sagemaker_remote_function_workspace/condaenv.o3r219tb.requirements.txt (line 1)) (2.2.3)\n",
      "2025-02-08 12:28:32,365 sagemaker.remote_function INFO     Collecting pathos (from sagemaker==2.219.0->-r /home/sagemaker-user/sagemaker_remote_function_workspace/condaenv.o3r219tb.requirements.txt (line 1))\n",
      "2025-02-08 12:28:32,365 sagemaker.remote_function INFO       Downloading pathos-0.3.3-py3-none-any.whl.metadata (11 kB)\n",
      "2025-02-08 12:28:32,365 sagemaker.remote_function INFO     Collecting schema (from sagemaker==2.219.0->-r /home/sagemaker-user/sagemaker_remote_function_workspace/condaenv.o3r219tb.requirements.txt (line 1))\n",
      "2025-02-08 12:28:32,365 sagemaker.remote_function INFO       Downloading schema-0.7.7-py2.py3-none-any.whl.metadata (34 kB)\n",
      "2025-02-08 12:28:32,365 sagemaker.remote_function INFO     Collecting PyYAML~=6.0 (from sagemaker==2.219.0->-r /home/sagemaker-user/sagemaker_remote_function_workspace/condaenv.o3r219tb.requirements.txt (line 1))\n",
      "2025-02-08 12:28:32,365 sagemaker.remote_function INFO       Downloading PyYAML-6.0.2-cp310-cp310-manylinux_2_17_x86_64.manylinux2014_x86_64.whl.metadata (2.1 kB)\n",
      "2025-02-08 12:28:32,365 sagemaker.remote_function INFO     Collecting jsonschema (from sagemaker==2.219.0->-r /home/sagemaker-user/sagemaker_remote_function_workspace/condaenv.o3r219tb.requirements.txt (line 1))\n",
      "2025-02-08 12:28:32,365 sagemaker.remote_function INFO       Downloading jsonschema-4.23.0-py3-none-any.whl.metadata (7.9 kB)\n",
      "2025-02-08 12:28:32,365 sagemaker.remote_function INFO     Collecting platformdirs (from sagemaker==2.219.0->-r /home/sagemaker-user/sagemaker_remote_function_workspace/condaenv.o3r219tb.requirements.txt (line 1))\n",
      "2025-02-08 12:28:32,365 sagemaker.remote_function INFO       Downloading platformdirs-4.3.6-py3-none-any.whl.metadata (11 kB)\n",
      "2025-02-08 12:28:32,365 sagemaker.remote_function INFO     Collecting tblib<4,>=1.7.0 (from sagemaker==2.219.0->-r /home/sagemaker-user/sagemaker_remote_function_workspace/condaenv.o3r219tb.requirements.txt (line 1))\n",
      "2025-02-08 12:28:32,365 sagemaker.remote_function INFO       Downloading tblib-3.0.0-py3-none-any.whl.metadata (25 kB)\n",
      "2025-02-08 12:28:32,365 sagemaker.remote_function INFO     Collecting urllib3<3.0.0,>=1.26.8 (from sagemaker==2.219.0->-r /home/sagemaker-user/sagemaker_remote_function_workspace/condaenv.o3r219tb.requirements.txt (line 1))\n",
      "2025-02-08 12:28:32,365 sagemaker.remote_function INFO       Downloading urllib3-2.3.0-py3-none-any.whl.metadata (6.5 kB)\n",
      "2025-02-08 12:28:32,365 sagemaker.remote_function INFO     Collecting requests (from sagemaker==2.219.0->-r /home/sagemaker-user/sagemaker_remote_function_workspace/condaenv.o3r219tb.requirements.txt (line 1))\n",
      "2025-02-08 12:28:32,365 sagemaker.remote_function INFO       Downloading requests-2.32.3-py3-none-any.whl.metadata (4.6 kB)\n",
      "2025-02-08 12:28:32,365 sagemaker.remote_function INFO     Collecting docker (from sagemaker==2.219.0->-r /home/sagemaker-user/sagemaker_remote_function_workspace/condaenv.o3r219tb.requirements.txt (line 1))\n",
      "2025-02-08 12:28:32,365 sagemaker.remote_function INFO       Downloading docker-7.1.0-py3-none-any.whl.metadata (3.8 kB)\n",
      "2025-02-08 12:28:32,365 sagemaker.remote_function INFO     Collecting tqdm (from sagemaker==2.219.0->-r /home/sagemaker-user/sagemaker_remote_function_workspace/condaenv.o3r219tb.requirements.txt (line 1))\n",
      "2025-02-08 12:28:32,365 sagemaker.remote_function INFO       Downloading tqdm-4.67.1-py3-none-any.whl.metadata (57 kB)\n",
      "2025-02-08 12:28:32,366 sagemaker.remote_function INFO     Collecting psutil (from sagemaker==2.219.0->-r /home/sagemaker-user/sagemaker_remote_function_workspace/condaenv.o3r219tb.requirements.txt (line 1))\n",
      "2025-02-08 12:28:32,366 sagemaker.remote_function INFO       Downloading psutil-6.1.1-cp36-abi3-manylinux_2_12_x86_64.manylinux2010_x86_64.manylinux_2_17_x86_64.manylinux2014_x86_64.whl.metadata (22 kB)\n",
      "2025-02-08 12:28:32,366 sagemaker.remote_function INFO     Collecting botocore<1.37.0,>=1.36.16 (from boto3<2.0,>=1.33.3->sagemaker==2.219.0->-r /home/sagemaker-user/sagemaker_remote_function_workspace/condaenv.o3r219tb.requirements.txt (line 1))\n",
      "2025-02-08 12:28:32,366 sagemaker.remote_function INFO       Downloading botocore-1.36.16-py3-none-any.whl.metadata (5.7 kB)\n",
      "2025-02-08 12:28:32,366 sagemaker.remote_function INFO     Collecting jmespath<2.0.0,>=0.7.1 (from boto3<2.0,>=1.33.3->sagemaker==2.219.0->-r /home/sagemaker-user/sagemaker_remote_function_workspace/condaenv.o3r219tb.requirements.txt (line 1))\n",
      "2025-02-08 12:28:32,366 sagemaker.remote_function INFO       Downloading jmespath-1.0.1-py3-none-any.whl.metadata (7.6 kB)\n",
      "2025-02-08 12:28:32,366 sagemaker.remote_function INFO     Collecting s3transfer<0.12.0,>=0.11.0 (from boto3<2.0,>=1.33.3->sagemaker==2.219.0->-r /home/sagemaker-user/sagemaker_remote_function_workspace/condaenv.o3r219tb.requirements.txt (line 1))\n",
      "2025-02-08 12:28:32,366 sagemaker.remote_function INFO       Downloading s3transfer-0.11.2-py3-none-any.whl.metadata (1.7 kB)\n",
      "2025-02-08 12:28:32,366 sagemaker.remote_function INFO     Collecting zipp>=0.5 (from importlib-metadata<7.0,>=1.4.0->sagemaker==2.219.0->-r /home/sagemaker-user/sagemaker_remote_function_workspace/condaenv.o3r219tb.requirements.txt (line 1))\n",
      "2025-02-08 12:28:32,366 sagemaker.remote_function INFO       Downloading zipp-3.21.0-py3-none-any.whl.metadata (3.7 kB)\n",
      "2025-02-08 12:28:32,366 sagemaker.remote_function INFO     Collecting charset-normalizer<4,>=2 (from requests->sagemaker==2.219.0->-r /home/sagemaker-user/sagemaker_remote_function_workspace/condaenv.o3r219tb.requirements.txt (line 1))\n",
      "2025-02-08 12:28:32,366 sagemaker.remote_function INFO       Downloading charset_normalizer-3.4.1-cp310-cp310-manylinux_2_17_x86_64.manylinux2014_x86_64.whl.metadata (35 kB)\n",
      "2025-02-08 12:28:32,366 sagemaker.remote_function INFO     Collecting idna<4,>=2.5 (from requests->sagemaker==2.219.0->-r /home/sagemaker-user/sagemaker_remote_function_workspace/condaenv.o3r219tb.requirements.txt (line 1))\n",
      "2025-02-08 12:28:32,366 sagemaker.remote_function INFO       Downloading idna-3.10-py3-none-any.whl.metadata (10 kB)\n",
      "2025-02-08 12:28:32,366 sagemaker.remote_function INFO     Collecting certifi>=2017.4.17 (from requests->sagemaker==2.219.0->-r /home/sagemaker-user/sagemaker_remote_function_workspace/condaenv.o3r219tb.requirements.txt (line 1))\n",
      "2025-02-08 12:28:32,366 sagemaker.remote_function INFO       Downloading certifi-2025.1.31-py3-none-any.whl.metadata (2.5 kB)\n",
      "2025-02-08 12:28:32,366 sagemaker.remote_function INFO     Requirement already satisfied: six in /home/sagemaker-user/.conda/envs/sagemaker-runtime-env/lib/python3.10/site-packages (from google-pasta->sagemaker==2.219.0->-r /home/sagemaker-user/sagemaker_remote_function_workspace/condaenv.o3r219tb.requirements.txt (line 1)) (1.16.0)\n",
      "2025-02-08 12:28:32,366 sagemaker.remote_function INFO     Collecting jsonschema-specifications>=2023.03.6 (from jsonschema->sagemaker==2.219.0->-r /home/sagemaker-user/sagemaker_remote_function_workspace/condaenv.o3r219tb.requirements.txt (line 1))\n",
      "2025-02-08 12:28:32,366 sagemaker.remote_function INFO       Downloading jsonschema_specifications-2024.10.1-py3-none-any.whl.metadata (3.0 kB)\n",
      "2025-02-08 12:28:32,366 sagemaker.remote_function INFO     Collecting referencing>=0.28.4 (from jsonschema->sagemaker==2.219.0->-r /home/sagemaker-user/sagemaker_remote_function_workspace/condaenv.o3r219tb.requirements.txt (line 1))\n",
      "2025-02-08 12:28:32,366 sagemaker.remote_function INFO       Downloading referencing-0.36.2-py3-none-any.whl.metadata (2.8 kB)\n",
      "2025-02-08 12:28:32,366 sagemaker.remote_function INFO     Collecting rpds-py>=0.7.1 (from jsonschema->sagemaker==2.219.0->-r /home/sagemaker-user/sagemaker_remote_function_workspace/condaenv.o3r219tb.requirements.txt (line 1))\n",
      "2025-02-08 12:28:32,366 sagemaker.remote_function INFO       Downloading rpds_py-0.22.3-cp310-cp310-manylinux_2_17_x86_64.manylinux2014_x86_64.whl.metadata (4.2 kB)\n",
      "2025-02-08 12:28:32,366 sagemaker.remote_function INFO     Requirement already satisfied: python-dateutil>=2.8.2 in /home/sagemaker-user/.conda/envs/sagemaker-runtime-env/lib/python3.10/site-packages (from pandas->sagemaker==2.219.0->-r /home/sagemaker-user/sagemaker_remote_function_workspace/condaenv.o3r219tb.requirements.txt (line 1)) (2.9.0.post0)\n",
      "2025-02-08 12:28:32,366 sagemaker.remote_function INFO     Requirement already satisfied: pytz>=2020.1 in /home/sagemaker-user/.conda/envs/sagemaker-runtime-env/lib/python3.10/site-packages (from pandas->sagemaker==2.219.0->-r /home/sagemaker-user/sagemaker_remote_function_workspace/condaenv.o3r219tb.requirements.txt (line 1)) (2024.1)\n",
      "2025-02-08 12:28:32,366 sagemaker.remote_function INFO     Requirement already satisfied: tzdata>=2022.7 in /home/sagemaker-user/.conda/envs/sagemaker-runtime-env/lib/python3.10/site-packages (from pandas->sagemaker==2.219.0->-r /home/sagemaker-user/sagemaker_remote_function_workspace/condaenv.o3r219tb.requirements.txt (line 1)) (2023.3)\n",
      "2025-02-08 12:28:32,366 sagemaker.remote_function INFO     Collecting ppft>=1.7.6.9 (from pathos->sagemaker==2.219.0->-r /home/sagemaker-user/sagemaker_remote_function_workspace/condaenv.o3r219tb.requirements.txt (line 1))\n",
      "2025-02-08 12:28:32,366 sagemaker.remote_function INFO       Downloading ppft-1.7.6.9-py3-none-any.whl.metadata (12 kB)\n",
      "2025-02-08 12:28:32,366 sagemaker.remote_function INFO     Collecting dill>=0.3.9 (from pathos->sagemaker==2.219.0->-r /home/sagemaker-user/sagemaker_remote_function_workspace/condaenv.o3r219tb.requirements.txt (line 1))\n",
      "2025-02-08 12:28:32,366 sagemaker.remote_function INFO       Downloading dill-0.3.9-py3-none-any.whl.metadata (10 kB)\n",
      "2025-02-08 12:28:32,366 sagemaker.remote_function INFO     Collecting pox>=0.3.5 (from pathos->sagemaker==2.219.0->-r /home/sagemaker-user/sagemaker_remote_function_workspace/condaenv.o3r219tb.requirements.txt (line 1))\n",
      "2025-02-08 12:28:32,367 sagemaker.remote_function INFO       Downloading pox-0.3.5-py3-none-any.whl.metadata (8.0 kB)\n",
      "2025-02-08 12:28:32,367 sagemaker.remote_function INFO     Collecting multiprocess>=0.70.17 (from pathos->sagemaker==2.219.0->-r /home/sagemaker-user/sagemaker_remote_function_workspace/condaenv.o3r219tb.requirements.txt (line 1))\n",
      "2025-02-08 12:28:32,367 sagemaker.remote_function INFO       Downloading multiprocess-0.70.17-py310-none-any.whl.metadata (7.2 kB)\n",
      "2025-02-08 12:28:32,367 sagemaker.remote_function INFO     Collecting typing-extensions>=4.4.0 (from referencing>=0.28.4->jsonschema->sagemaker==2.219.0->-r /home/sagemaker-user/sagemaker_remote_function_workspace/condaenv.o3r219tb.requirements.txt (line 1))\n",
      "2025-02-08 12:28:32,367 sagemaker.remote_function INFO       Downloading typing_extensions-4.12.2-py3-none-any.whl.metadata (3.0 kB)\n",
      "2025-02-08 12:28:32,367 sagemaker.remote_function INFO     Downloading sagemaker-2.219.0-py3-none-any.whl (1.5 MB)\n",
      "2025-02-08 12:28:32,367 sagemaker.remote_function INFO        ━━━━━━━━━━━━━━━━━━━━━━━━━━━━━━━━━━━━━━━━ 1.5/1.5 MB 284.6 MB/s eta 0:00:00\n",
      "2025-02-08 12:28:32,367 sagemaker.remote_function INFO     Downloading cloudpickle-2.2.1-py3-none-any.whl (25 kB)\n",
      "2025-02-08 12:28:32,367 sagemaker.remote_function INFO     Downloading smdebug_rulesconfig-1.0.1-py2.py3-none-any.whl (20 kB)\n",
      "2025-02-08 12:28:32,367 sagemaker.remote_function INFO     Downloading attrs-23.2.0-py3-none-any.whl (60 kB)\n",
      "2025-02-08 12:28:32,367 sagemaker.remote_function INFO     Downloading boto3-1.36.16-py3-none-any.whl (139 kB)\n",
      "2025-02-08 12:28:32,367 sagemaker.remote_function INFO     Downloading importlib_metadata-6.11.0-py3-none-any.whl (23 kB)\n",
      "2025-02-08 12:28:32,367 sagemaker.remote_function INFO     Downloading numpy-1.26.4-cp310-cp310-manylinux_2_17_x86_64.manylinux2014_x86_64.whl (18.2 MB)\n",
      "2025-02-08 12:28:32,367 sagemaker.remote_function INFO        ━━━━━━━━━━━━━━━━━━━━━━━━━━━━━━━━━━━━━━━━ 18.2/18.2 MB 457.4 MB/s eta 0:00:00\n",
      "2025-02-08 12:28:32,367 sagemaker.remote_function INFO     Downloading packaging-24.2-py3-none-any.whl (65 kB)\n",
      "2025-02-08 12:28:32,367 sagemaker.remote_function INFO     Downloading protobuf-4.25.6-cp37-abi3-manylinux2014_x86_64.whl (294 kB)\n",
      "2025-02-08 12:28:32,367 sagemaker.remote_function INFO     Downloading PyYAML-6.0.2-cp310-cp310-manylinux_2_17_x86_64.manylinux2014_x86_64.whl (751 kB)\n",
      "2025-02-08 12:28:32,367 sagemaker.remote_function INFO        ━━━━━━━━━━━━━━━━━━━━━━━━━━━━━━━━━━━━━━━ 751.2/751.2 kB 600.8 MB/s eta 0:00:00\n",
      "2025-02-08 12:28:32,367 sagemaker.remote_function INFO     Downloading tblib-3.0.0-py3-none-any.whl (12 kB)\n",
      "2025-02-08 12:28:32,367 sagemaker.remote_function INFO     Downloading urllib3-2.3.0-py3-none-any.whl (128 kB)\n",
      "2025-02-08 12:28:32,367 sagemaker.remote_function INFO     Downloading docker-7.1.0-py3-none-any.whl (147 kB)\n",
      "2025-02-08 12:28:32,367 sagemaker.remote_function INFO     Downloading requests-2.32.3-py3-none-any.whl (64 kB)\n",
      "2025-02-08 12:28:32,367 sagemaker.remote_function INFO     Downloading google_pasta-0.2.0-py3-none-any.whl (57 kB)\n",
      "2025-02-08 12:28:32,367 sagemaker.remote_function INFO     Downloading jsonschema-4.23.0-py3-none-any.whl (88 kB)\n",
      "2025-02-08 12:28:32,367 sagemaker.remote_function INFO     Downloading pathos-0.3.3-py3-none-any.whl (82 kB)\n",
      "2025-02-08 12:28:32,367 sagemaker.remote_function INFO     Downloading platformdirs-4.3.6-py3-none-any.whl (18 kB)\n",
      "2025-02-08 12:28:32,367 sagemaker.remote_function INFO     Downloading psutil-6.1.1-cp36-abi3-manylinux_2_12_x86_64.manylinux2010_x86_64.manylinux_2_17_x86_64.manylinux2014_x86_64.whl (287 kB)\n",
      "2025-02-08 12:28:32,367 sagemaker.remote_function INFO     Downloading schema-0.7.7-py2.py3-none-any.whl (18 kB)\n",
      "2025-02-08 12:28:32,367 sagemaker.remote_function INFO     Downloading tqdm-4.67.1-py3-none-any.whl (78 kB)\n",
      "2025-02-08 12:28:32,367 sagemaker.remote_function INFO     Downloading botocore-1.36.16-py3-none-any.whl (13.3 MB)\n",
      "2025-02-08 12:28:32,367 sagemaker.remote_function INFO        ━━━━━━━━━━━━━━━━━━━━━━━━━━━━━━━━━━━━━━━━ 13.3/13.3 MB 410.8 MB/s eta 0:00:00\n",
      "2025-02-08 12:28:32,367 sagemaker.remote_function INFO     Downloading certifi-2025.1.31-py3-none-any.whl (166 kB)\n",
      "2025-02-08 12:28:32,368 sagemaker.remote_function INFO     Downloading charset_normalizer-3.4.1-cp310-cp310-manylinux_2_17_x86_64.manylinux2014_x86_64.whl (146 kB)\n",
      "2025-02-08 12:28:32,368 sagemaker.remote_function INFO     Downloading dill-0.3.9-py3-none-any.whl (119 kB)\n",
      "2025-02-08 12:28:32,368 sagemaker.remote_function INFO     Downloading idna-3.10-py3-none-any.whl (70 kB)\n",
      "2025-02-08 12:28:32,368 sagemaker.remote_function INFO     Downloading jmespath-1.0.1-py3-none-any.whl (20 kB)\n",
      "2025-02-08 12:28:32,368 sagemaker.remote_function INFO     Downloading jsonschema_specifications-2024.10.1-py3-none-any.whl (18 kB)\n",
      "2025-02-08 12:28:32,368 sagemaker.remote_function INFO     Downloading multiprocess-0.70.17-py310-none-any.whl (134 kB)\n",
      "2025-02-08 12:28:32,368 sagemaker.remote_function INFO     Downloading pox-0.3.5-py3-none-any.whl (29 kB)\n",
      "2025-02-08 12:28:32,368 sagemaker.remote_function INFO     Downloading ppft-1.7.6.9-py3-none-any.whl (56 kB)\n",
      "2025-02-08 12:28:32,368 sagemaker.remote_function INFO     Downloading referencing-0.36.2-py3-none-any.whl (26 kB)\n",
      "2025-02-08 12:28:32,368 sagemaker.remote_function INFO     Downloading rpds_py-0.22.3-cp310-cp310-manylinux_2_17_x86_64.manylinux2014_x86_64.whl (381 kB)\n",
      "2025-02-08 12:28:32,368 sagemaker.remote_function INFO     Downloading s3transfer-0.11.2-py3-none-any.whl (84 kB)\n",
      "2025-02-08 12:28:32,368 sagemaker.remote_function INFO     Downloading zipp-3.21.0-py3-none-any.whl (9.6 kB)\n",
      "2025-02-08 12:28:32,368 sagemaker.remote_function INFO     Downloading typing_extensions-4.12.2-py3-none-any.whl (37 kB)\n",
      "2025-02-08 12:28:32,368 sagemaker.remote_function INFO     Installing collected packages: schema, zipp, urllib3, typing-extensions, tqdm, tblib, smdebug-rulesconfig, rpds-py, PyYAML, psutil, protobuf, ppft, pox, platformdirs, packaging, numpy, jmespath, idna, google-pasta, dill, cloudpickle, charset-normalizer, certifi, attrs, requests, referencing, multiprocess, importlib-metadata, botocore, s3transfer, pathos, jsonschema-specifications, docker, jsonschema, boto3, sagemaker\n",
      "2025-02-08 12:28:32,368 sagemaker.remote_function INFO       Attempting uninstall: numpy\n",
      "2025-02-08 12:28:32,368 sagemaker.remote_function INFO         Found existing installation: numpy 2.0.1\n",
      "2025-02-08 12:28:32,368 sagemaker.remote_function INFO         Uninstalling numpy-2.0.1:\n",
      "2025-02-08 12:28:32,368 sagemaker.remote_function INFO           Successfully uninstalled numpy-2.0.1\n",
      "2025-02-08 12:28:32,368 sagemaker.remote_function INFO     Successfully installed PyYAML-6.0.2 attrs-23.2.0 boto3-1.36.16 botocore-1.36.16 certifi-2025.1.31 charset-normalizer-3.4.1 cloudpickle-2.2.1 dill-0.3.9 docker-7.1.0 google-pasta-0.2.0 idna-3.10 importlib-metadata-6.11.0 jmespath-1.0.1 jsonschema-4.23.0 jsonschema-specifications-2024.10.1 multiprocess-0.70.17 numpy-1.26.4 packaging-24.2 pathos-0.3.3 platformdirs-4.3.6 pox-0.3.5 ppft-1.7.6.9 protobuf-4.25.6 psutil-6.1.1 referencing-0.36.2 requests-2.32.3 rpds-py-0.22.3 s3transfer-0.11.2 sagemaker-2.219.0 schema-0.7.7 smdebug-rulesconfig-1.0.1 tblib-3.0.0 tqdm-4.67.1 typing-extensions-4.12.2 urllib3-2.3.0 zipp-3.21.0\n",
      "2025-02-08 12:28:32,368 sagemaker.remote_function INFO     \n",
      "2025-02-08 12:28:32,368 sagemaker.remote_function INFO     done\n",
      "2025-02-08 12:28:32,368 sagemaker.remote_function INFO     #\n",
      "2025-02-08 12:28:32,368 sagemaker.remote_function INFO     # To activate this environment, use\n",
      "2025-02-08 12:28:32,368 sagemaker.remote_function INFO     #\n",
      "2025-02-08 12:28:32,368 sagemaker.remote_function INFO     #     $ conda activate sagemaker-runtime-env\n",
      "2025-02-08 12:28:32,368 sagemaker.remote_function INFO     #\n",
      "2025-02-08 12:28:32,368 sagemaker.remote_function INFO     # To deactivate an active environment, use\n",
      "2025-02-08 12:28:32,368 sagemaker.remote_function INFO     #\n",
      "2025-02-08 12:28:32,368 sagemaker.remote_function INFO     #     $ conda deactivate\n",
      "2025-02-08 12:28:32,368 sagemaker.remote_function INFO     \n",
      "2025-02-08 12:28:32,765 sagemaker.remote_function INFO     Conda environment sagemaker-runtime-env created successfully.\n",
      "/opt/conda/bin/conda\n",
      "sagemaker.config INFO - Not applying SDK defaults from location: /etc/xdg/sagemaker/config.yaml\n",
      "sagemaker.config INFO - Not applying SDK defaults from location: /home/sagemaker-user/.config/sagemaker/config.yaml\n",
      "INFO: Changing workspace to sagemaker_remote_function_workspace.\n",
      "INFO: Invoking remote function inside conda environment: sagemaker-runtime-env.\n",
      "2025-02-08 12:28:37,106 sagemaker.remote_function INFO     Deserializing function code from s3://sagemaker-us-east-1-057716757052/multiply-2025-02-08-12-27-39-469/function\n",
      "INFO:botocore.httpchecksum:Skipping checksum validation. Response did not contain one of the following algorithms: ['crc32', 'sha1', 'sha256'].\n",
      "INFO:botocore.httpchecksum:Skipping checksum validation. Response did not contain one of the following algorithms: ['crc32', 'sha1', 'sha256'].\n",
      "2025-02-08 12:28:37,252 sagemaker.remote_function INFO     Deserializing function arguments from s3://sagemaker-us-east-1-057716757052/multiply-2025-02-08-12-27-39-469/arguments\n",
      "INFO:botocore.httpchecksum:Skipping checksum validation. Response did not contain one of the following algorithms: ['crc32', 'sha1', 'sha256'].\n",
      "INFO:botocore.httpchecksum:Skipping checksum validation. Response did not contain one of the following algorithms: ['crc32', 'sha1', 'sha256'].\n",
      "2025-02-08 12:28:37,343 sagemaker.remote_function INFO     Resolving pipeline variables\n",
      "2025-02-08 12:28:37,343 sagemaker.remote_function INFO     Invoking the function\n",
      "2025-02-08 12:28:37,344 sagemaker.remote_function INFO     Serializing the function return and uploading to s3://sagemaker-us-east-1-057716757052/multiply-2025-02-08-12-27-39-469/results\n",
      "sagemaker.config INFO - Not applying SDK defaults from location: /etc/xdg/sagemaker/config.yaml\n",
      "sagemaker.config INFO - Not applying SDK defaults from location: /home/sagemaker-user/.config/sagemaker/config.yaml\n",
      "\n",
      "2025-02-08 12:28:54 Completed - Resource retained for reuse\n",
      "Training seconds: 69\n",
      "Billable seconds: 69\n"
     ]
    },
    {
     "data": {
      "text/html": [
       "<div>\n",
       "<style scoped>\n",
       "    .dataframe tbody tr th:only-of-type {\n",
       "        vertical-align: middle;\n",
       "    }\n",
       "\n",
       "    .dataframe tbody tr th {\n",
       "        vertical-align: top;\n",
       "    }\n",
       "\n",
       "    .dataframe thead th {\n",
       "        text-align: right;\n",
       "    }\n",
       "</style>\n",
       "<table border=\"1\" class=\"dataframe\">\n",
       "  <thead>\n",
       "    <tr style=\"text-align: right;\">\n",
       "      <th></th>\n",
       "      <th>A</th>\n",
       "      <th>B</th>\n",
       "      <th>C</th>\n",
       "      <th>D</th>\n",
       "    </tr>\n",
       "  </thead>\n",
       "  <tbody>\n",
       "    <tr>\n",
       "      <th>0</th>\n",
       "      <td>140.0</td>\n",
       "      <td>50.0</td>\n",
       "      <td>200.0</td>\n",
       "      <td>140.0</td>\n",
       "    </tr>\n",
       "    <tr>\n",
       "      <th>1</th>\n",
       "      <td>40.0</td>\n",
       "      <td>20.0</td>\n",
       "      <td>200.0</td>\n",
       "      <td>30.0</td>\n",
       "    </tr>\n",
       "    <tr>\n",
       "      <th>2</th>\n",
       "      <td>50.0</td>\n",
       "      <td>540.0</td>\n",
       "      <td>70.0</td>\n",
       "      <td>60.0</td>\n",
       "    </tr>\n",
       "    <tr>\n",
       "      <th>3</th>\n",
       "      <td>40.0</td>\n",
       "      <td>30.0</td>\n",
       "      <td>30.0</td>\n",
       "      <td>20.0</td>\n",
       "    </tr>\n",
       "    <tr>\n",
       "      <th>4</th>\n",
       "      <td>10.0</td>\n",
       "      <td>20.0</td>\n",
       "      <td>80.0</td>\n",
       "      <td>60.0</td>\n",
       "    </tr>\n",
       "  </tbody>\n",
       "</table>\n",
       "</div>"
      ],
      "text/plain": [
       "       A      B      C      D\n",
       "0  140.0   50.0  200.0  140.0\n",
       "1   40.0   20.0  200.0   30.0\n",
       "2   50.0  540.0   70.0   60.0\n",
       "3   40.0   30.0   30.0   20.0\n",
       "4   10.0   20.0   80.0   60.0"
      ]
     },
     "execution_count": 14,
     "metadata": {},
     "output_type": "execute_result"
    }
   ],
   "source": [
    "import pandas as pd\n",
    "\n",
    "\n",
    "@remote(dependencies=\"./environment.yml\", instance_type=\"ml.m5.xlarge\", keep_alive_period_in_seconds=3600)\n",
    "def multiply(dataframe: pd.DataFrame, factor: float):\n",
    "    return dataframe * factor\n",
    "\n",
    "\n",
    "df = pd.DataFrame(\n",
    "    {\n",
    "        \"A\": [14, 4, 5, 4, 1],\n",
    "        \"B\": [5, 2, 54, 3, 2],\n",
    "        \"C\": [20, 20, 7, 3, 8],\n",
    "        \"D\": [14, 3, 6, 2, 6],\n",
    "    }\n",
    ")\n",
    "\n",
    "multiply(df, 10.0)"
   ]
  },
  {
   "cell_type": "code",
   "execution_count": null,
   "metadata": {},
   "outputs": [],
   "source": []
  },
  {
   "cell_type": "code",
   "execution_count": null,
   "metadata": {},
   "outputs": [],
   "source": []
  },
  {
   "cell_type": "code",
   "execution_count": null,
   "metadata": {},
   "outputs": [],
   "source": []
  },
  {
   "cell_type": "code",
   "execution_count": null,
   "metadata": {},
   "outputs": [],
   "source": []
  },
  {
   "cell_type": "code",
   "execution_count": null,
   "metadata": {},
   "outputs": [],
   "source": []
  },
  {
   "cell_type": "code",
   "execution_count": null,
   "metadata": {},
   "outputs": [],
   "source": []
  },
  {
   "cell_type": "markdown",
   "metadata": {},
   "source": [
    "## Scikit-Learn 랜덤 포레스트 개발, 훈련, 최적화 및 배포\n",
    "\n",
    "이 노트북은 SageMaker Studio의 Python 3 (Data Science 3.0) 커널이나 기존 SageMaker 노트북 인스턴스의 *conda_python3 에서 잘 작동합니다\n",
    "\n",
    "이 노트북에서는 Amazon SageMaker를 사용하여 인기 있는 ML 프레임워크인 Scikit-Learn을 기반으로 랜덤 포레스트 모델을 개발, 훈련, 튜닝 및 배포하는 방법을 보여줍니다.\n",
    "이 예제는 Scikit-Learn에서 제공하는 캘리포니아 주택 데이터셋을 사용합니다 - 자세한 내용은 여기에서 확인할 수 있습니다.\n",
    "코드를 이해하기 위해 다음 자료들을 참고하시면 도움이 될 것입니다:\n",
    "\n",
    "* The guide on [Using Scikit-Learn with the SageMaker Python SDK](https://sagemaker.readthedocs.io/en/stable/using_sklearn.html)\n",
    "* The API doc for [Scikit-Learn classes in the SageMaker Python SDK](https://sagemaker.readthedocs.io/en/stable/sagemaker.sklearn.html)\n",
    "* The [SageMaker reference for Boto3](https://boto3.amazonaws.com/v1/documentation/api/latest/reference/services/sagemaker.html#client) (The general AWS SDK for Python, including low-level bindings for SageMaker as well as many other AWS services)\n"
   ]
  },
  {
   "cell_type": "markdown",
   "metadata": {
    "tags": []
   },
   "source": [
    "## 라이브러리 및 환경 설정\n",
    "위에서 언급한 SageMaker 커널(올바른 커널에서 실행 중인지 확인하세요!)에는 이미 이 노트북에 필요한 모든 라이브러리가 포함되어 있습니다 - 따라서 현재 AWS 리전과 대상 Amazon S3 버킷과 같은 기본 구성을 설정하고 의존성을 가져오는 것부터 시작할 수 있습니다:\n",
    "- [AWS Region](https://aws.amazon.com/about-aws/global-infrastructure/) \n",
    "- [target Amazon S3 bucket](https://aws.amazon.com/s3/):\n"
   ]
  },
  {
   "cell_type": "code",
   "execution_count": 1,
   "metadata": {
    "tags": []
   },
   "outputs": [
    {
     "name": "stdout",
     "output_type": "stream",
     "text": [
      "sagemaker.config INFO - Not applying SDK defaults from location: /etc/xdg/sagemaker/config.yaml\n",
      "sagemaker.config INFO - Not applying SDK defaults from location: /home/sagemaker-user/.config/sagemaker/config.yaml\n",
      "Using bucket sagemaker-us-east-1-870766740045\n"
     ]
    }
   ],
   "source": [
    "# Python Built-Ins:\n",
    "import os\n",
    "\n",
    "# External Dependencies:\n",
    "import boto3  # General-purpose AWS SDK for Python\n",
    "import numpy as np  # Tools for working with numeric arrays\n",
    "import pandas as pd  # Tools for warking with data tables (dataframes)\n",
    "import sagemaker  # High-level SDK for Amazon SageMaker in particular\n",
    "from sklearn.model_selection import train_test_split\n",
    "from sklearn.datasets import fetch_california_housing\n",
    "\n",
    "sm_boto3 = boto3.client(\"sagemaker\")\n",
    "sess = sagemaker.Session()\n",
    "region = sess.boto_session.region_name\n",
    "bucket = sess.default_bucket()  # this could also be a hard-coded bucket name\n",
    "\n",
    "print(f\"Using bucket {bucket}\")"
   ]
  },
  {
   "cell_type": "markdown",
   "metadata": {},
   "source": [
    "## 데이터 준비\n",
    "\n",
    "다음으로, SKLearn에서 원시 예제 데이터셋을 로드하고 훈련 작업에서 사용할 형식으로 준비하겠습니다: \n",
    "훈련용과 검증/테스트용으로 구분된 별도의 CSV 파일입니다.\n",
    "```\n",
    "데이터셋 개요\n",
    "\n",
    "1990년 캘리포니아 인구조사 데이터 기반\n",
    "캘리포니아 각 지역의 주택 가격 중앙값과 관련 특성들을 포함\n",
    "총 20,640개의 데이터 포인트 포함\n",
    "\n",
    "특성(Features)\n",
    "\n",
    "MedInc: 해당 지역의 중간 소득\n",
    "HouseAge: 주택의 평균 연령\n",
    "AveRooms: 평균 방 개수\n",
    "AveBedrms: 평균 침실 수\n",
    "Population: 해당 지역 인구\n",
    "AveOccup: 평균 가구원 수\n",
    "Latitude: 위도\n",
    "Longitude: 경도\n",
    "\n",
    "타겟 변수(Target)\n",
    "주택 가격의 중앙값(단위: 100,000달러)\n",
    "```"
   ]
  },
  {
   "cell_type": "code",
   "execution_count": 2,
   "metadata": {
    "tags": []
   },
   "outputs": [
    {
     "data": {
      "text/html": [
       "<div>\n",
       "<style scoped>\n",
       "    .dataframe tbody tr th:only-of-type {\n",
       "        vertical-align: middle;\n",
       "    }\n",
       "\n",
       "    .dataframe tbody tr th {\n",
       "        vertical-align: top;\n",
       "    }\n",
       "\n",
       "    .dataframe thead th {\n",
       "        text-align: right;\n",
       "    }\n",
       "</style>\n",
       "<table border=\"1\" class=\"dataframe\">\n",
       "  <thead>\n",
       "    <tr style=\"text-align: right;\">\n",
       "      <th></th>\n",
       "      <th>MedInc</th>\n",
       "      <th>HouseAge</th>\n",
       "      <th>AveRooms</th>\n",
       "      <th>AveBedrms</th>\n",
       "      <th>Population</th>\n",
       "      <th>AveOccup</th>\n",
       "      <th>Latitude</th>\n",
       "      <th>Longitude</th>\n",
       "      <th>target</th>\n",
       "    </tr>\n",
       "  </thead>\n",
       "  <tbody>\n",
       "    <tr>\n",
       "      <th>0</th>\n",
       "      <td>4.2143</td>\n",
       "      <td>37.0</td>\n",
       "      <td>5.288235</td>\n",
       "      <td>0.973529</td>\n",
       "      <td>860.0</td>\n",
       "      <td>2.529412</td>\n",
       "      <td>33.81</td>\n",
       "      <td>-118.12</td>\n",
       "      <td>2.285</td>\n",
       "    </tr>\n",
       "    <tr>\n",
       "      <th>1</th>\n",
       "      <td>5.3468</td>\n",
       "      <td>42.0</td>\n",
       "      <td>6.364322</td>\n",
       "      <td>1.087940</td>\n",
       "      <td>957.0</td>\n",
       "      <td>2.404523</td>\n",
       "      <td>37.16</td>\n",
       "      <td>-121.98</td>\n",
       "      <td>2.799</td>\n",
       "    </tr>\n",
       "    <tr>\n",
       "      <th>2</th>\n",
       "      <td>3.9191</td>\n",
       "      <td>36.0</td>\n",
       "      <td>6.110063</td>\n",
       "      <td>1.059748</td>\n",
       "      <td>711.0</td>\n",
       "      <td>2.235849</td>\n",
       "      <td>38.45</td>\n",
       "      <td>-122.69</td>\n",
       "      <td>1.830</td>\n",
       "    </tr>\n",
       "    <tr>\n",
       "      <th>3</th>\n",
       "      <td>6.3703</td>\n",
       "      <td>32.0</td>\n",
       "      <td>6.000000</td>\n",
       "      <td>0.990196</td>\n",
       "      <td>1159.0</td>\n",
       "      <td>2.272549</td>\n",
       "      <td>34.16</td>\n",
       "      <td>-118.41</td>\n",
       "      <td>4.658</td>\n",
       "    </tr>\n",
       "    <tr>\n",
       "      <th>4</th>\n",
       "      <td>2.3684</td>\n",
       "      <td>17.0</td>\n",
       "      <td>4.795858</td>\n",
       "      <td>1.035503</td>\n",
       "      <td>706.0</td>\n",
       "      <td>2.088757</td>\n",
       "      <td>38.57</td>\n",
       "      <td>-121.33</td>\n",
       "      <td>1.500</td>\n",
       "    </tr>\n",
       "  </tbody>\n",
       "</table>\n",
       "</div>"
      ],
      "text/plain": [
       "   MedInc  HouseAge  AveRooms  AveBedrms  Population  AveOccup  Latitude  \\\n",
       "0  4.2143      37.0  5.288235   0.973529       860.0  2.529412     33.81   \n",
       "1  5.3468      42.0  6.364322   1.087940       957.0  2.404523     37.16   \n",
       "2  3.9191      36.0  6.110063   1.059748       711.0  2.235849     38.45   \n",
       "3  6.3703      32.0  6.000000   0.990196      1159.0  2.272549     34.16   \n",
       "4  2.3684      17.0  4.795858   1.035503       706.0  2.088757     38.57   \n",
       "\n",
       "   Longitude  target  \n",
       "0    -118.12   2.285  \n",
       "1    -121.98   2.799  \n",
       "2    -122.69   1.830  \n",
       "3    -118.41   4.658  \n",
       "4    -121.33   1.500  "
      ]
     },
     "execution_count": 2,
     "metadata": {},
     "output_type": "execute_result"
    }
   ],
   "source": [
    "data = fetch_california_housing()\n",
    "\n",
    "X_train, X_test, y_train, y_test = train_test_split(\n",
    "    data.data, data.target, test_size=0.25, random_state=42\n",
    ")\n",
    "\n",
    "trainX = pd.DataFrame(X_train, columns=data.feature_names)\n",
    "trainX[\"target\"] = y_train\n",
    "\n",
    "testX = pd.DataFrame(X_test, columns=data.feature_names)\n",
    "testX[\"target\"] = y_test\n",
    "\n",
    "trainX.head()"
   ]
  },
  {
   "cell_type": "code",
   "execution_count": 3,
   "metadata": {
    "tags": []
   },
   "outputs": [],
   "source": [
    "# create directories\n",
    "os.makedirs(\"data/train\", exist_ok=True)\n",
    "os.makedirs(\"data/test\", exist_ok=True)\n",
    "os.makedirs(\"src\", exist_ok=True)\n",
    "os.makedirs(\"model\", exist_ok=True)\n",
    "\n",
    "# save data as csv\n",
    "trainX.to_csv(\"data/train/train.csv\")\n",
    "testX.to_csv(\"data/test/test.csv\")"
   ]
  },
  {
   "cell_type": "markdown",
   "metadata": {},
   "source": [
    "## 훈련 스크립트 생성\n",
    "SageMaker Scikit-Learn [프레임워크 컨테이너](https://docs.aws.amazon.com/sagemaker/latest/dg/pre-built-docker-containers-scikit-learn-spark.html)는 기본 런타임을 제공하며, 사용자는 실행할 실제 훈련 단계를 스크립트 파일(또는 requirements.txt를 포함한 여러 파일이 있는 폴더)로 지정합니다.\n",
    "아래 코드는 노트북에서 [src/main.py](src/main.py) 파일을 초기화합니다. 런처나 파일 메뉴에서도 Python 스크립트와 다른 파일들을 생성할 수 있습니다.\n",
    "이 예제에서는 동일한 파일이 훈련 시(스크립트로 실행)와 추론 시([모듈](https://docs.python.org/3/tutorial/modules.html)로 가져옴)에 사용됩니다 - 따라서 아래에서는:\n",
    "\n",
    "기본 동작을 재정의하기 위한 특정 추론 함수들(예: model_fn())을 정의하고,\n",
    "훈련 진입점을 if __name__ == '__main__' [가드 절](https://docs.python.org/3/library/__main__.html)로 감싸서 모듈이 스크립트로 실행될 때만 실행되도록 합니다.\n",
    "\n",
    "자세한 가이드는 Scikit-Learn 훈련 스크립트 준비하기(훈련용)와 SageMaker Scikit-Learn 모델 서버(추론용) 문서에서 찾을 수 있습니다.\n",
    "- [Preparing a Scikit-Learn training script](https://sagemaker.readthedocs.io/en/stable/frameworks/sklearn/using_sklearn.html#prepare-a-scikit-learn-training-script) (for training)\n",
    "- [SageMaker Scikit-Learn model server](https://sagemaker.readthedocs.io/en/stable/frameworks/sklearn/using_sklearn.html#sagemaker-scikit-learn-model-server) (for inference).\n",
    "\n"
   ]
  },
  {
   "cell_type": "code",
   "execution_count": 4,
   "metadata": {
    "tags": []
   },
   "outputs": [
    {
     "name": "stdout",
     "output_type": "stream",
     "text": [
      "Overwriting src/main.py\n"
     ]
    }
   ],
   "source": [
    "%%writefile src/main.py\n",
    "# Python Built-Ins:\n",
    "import argparse\n",
    "import os\n",
    "\n",
    "# External Dependencies:\n",
    "import joblib\n",
    "import numpy as np\n",
    "import pandas as pd\n",
    "from sklearn.ensemble import RandomForestRegressor\n",
    "\n",
    "\n",
    "# ---- INFERENCE FUNCTIONS ----\n",
    "def model_fn(model_dir):\n",
    "    model = joblib.load(os.path.join(model_dir, \"model.joblib\"))\n",
    "    return model\n",
    "\n",
    "\n",
    "if __name__ == \"__main__\":\n",
    "    # ---- TRAINING ENTRY POINT ----\n",
    "    \n",
    "    # Arguments like data location and hyper-parameters are passed from SageMaker to your script\n",
    "    # via command line arguments and/or environment variables. You can use Python's built-in\n",
    "    # argparse module to parse them:\n",
    "    print(\"Parsing training arguments\")\n",
    "    parser = argparse.ArgumentParser()\n",
    "\n",
    "    # RandomForest hyperparameters\n",
    "    parser.add_argument(\"--n_estimators\", type=int, default=10)\n",
    "    parser.add_argument(\"--min_samples_leaf\", type=int, default=3)\n",
    "\n",
    "    # Data, model, and output directories\n",
    "    parser.add_argument(\"--model_dir\", type=str, default=os.environ.get(\"SM_MODEL_DIR\"))\n",
    "    parser.add_argument(\"--train\", type=str, default=os.environ.get(\"SM_CHANNEL_TRAIN\"))\n",
    "    parser.add_argument(\"--test\", type=str, default=os.environ.get(\"SM_CHANNEL_TEST\"))\n",
    "    parser.add_argument(\"--train_file\", type=str, default=\"train.csv\")\n",
    "    parser.add_argument(\"--test_file\", type=str, default=\"test.csv\")\n",
    "    parser.add_argument(\"--features\", type=str)  # explicitly name which features to use\n",
    "    parser.add_argument(\"--target_variable\", type=str)  # name the column to be used as target\n",
    "\n",
    "    args, _ = parser.parse_known_args()\n",
    "\n",
    "    # -- DATA PREPARATION --\n",
    "    # Load the data from the local folder(s) SageMaker pointed us to:\n",
    "    print(\"Reading data\")\n",
    "    train_df = pd.read_csv(os.path.join(args.train, args.train_file))\n",
    "    test_df = pd.read_csv(os.path.join(args.test, args.test_file))\n",
    "\n",
    "    print(\"Building training and testing datasets\")\n",
    "    X_train = train_df[args.features.split()]\n",
    "    X_test = test_df[args.features.split()]\n",
    "    y_train = train_df[args.target_variable]\n",
    "    y_test = test_df[args.target_variable]\n",
    "\n",
    "    # -- MODEL TRAINING --\n",
    "    print(\"Training model\")\n",
    "    model = RandomForestRegressor(\n",
    "        n_estimators=args.n_estimators,\n",
    "        min_samples_leaf=args.min_samples_leaf,\n",
    "        n_jobs=-1)\n",
    "\n",
    "    model.fit(X_train, y_train)\n",
    "\n",
    "    # -- MODEL EVALUATION --\n",
    "    print(\"Testing model\")\n",
    "    abs_err = np.abs(model.predict(X_test) - y_test)\n",
    "    # Output metrics to the console (in this case, percentile absolute errors):\n",
    "    for q in [10, 50, 90]:\n",
    "        print(f\"AE-at-{q}th-percentile: {np.percentile(a=abs_err, q=q)}\")\n",
    "\n",
    "    # -- SAVE THE MODEL --\n",
    "    # ...To the specific folder SageMaker pointed us to:\n",
    "    path = os.path.join(args.model_dir, \"model.joblib\")\n",
    "    joblib.dump(model, path)\n",
    "    print(f\"model saved at {path}\")\n"
   ]
  },
  {
   "cell_type": "markdown",
   "metadata": {},
   "source": [
    "## 로컬 훈련\n",
    "구성이 명령줄 인수로 이루어지므로, SageMaker 훈련 작업에 업로드하기 전에 훈련 스크립트를 로컬에서 테스트할 수 있습니다.\n",
    "\n",
    "⚠️ 참고: 이는 작은 샘플 데이터셋으로 스크립트를 빠르게 기능 테스트하는 데 좋습니다... 하지만 스크립트가 기능적으로 작동한다고 확신하면, 실험을 재현 가능하고 추적 가능한 SageMaker 훈련 작업으로 옮기는 것이 좋습니다. 노트북 커널의 라이브러리가 나중에 훈련 작업을 위해 구성하는 컨테이너 이미지와 정확히 일치하지 않을 수 있다는 점에 유의하세요."
   ]
  },
  {
   "cell_type": "code",
   "execution_count": 5,
   "metadata": {
    "tags": []
   },
   "outputs": [
    {
     "name": "stdout",
     "output_type": "stream",
     "text": [
      "Parsing training arguments\n",
      "Reading data\n",
      "Building training and testing datasets\n",
      "Training model\n",
      "Testing model\n",
      "AE-at-10th-percentile: 0.030459968398267367\n",
      "AE-at-50th-percentile: 0.20551382503607507\n",
      "AE-at-90th-percentile: 0.7746800035061334\n",
      "model saved at model/model.joblib\n"
     ]
    }
   ],
   "source": [
    "!python src/main.py \\\n",
    "    --n_estimators 100 \\\n",
    "    --min_samples_leaf 3 \\\n",
    "    --model_dir model/ \\\n",
    "    --train data/train \\\n",
    "    --test data/test \\\n",
    "    --features 'MedInc HouseAge AveRooms AveBedrms Population AveOccup Latitude Longitude' \\\n",
    "    --target_variable target"
   ]
  },
  {
   "cell_type": "markdown",
   "metadata": {},
   "source": [
    "## SageMaker 훈련\n",
    "스크립트를 훈련 작업에서 실행하려면 먼저 SageMaker가 접근할 수 있는 곳에 데이터를 업로드해야 합니다: 일반적으로 이는 [Amazon S3](https://aws.amazon.com/s3/)가 될 것입니다.\n",
    "\n",
    "### 데이터 입력 \"채널\" 생성하기 (S3에 복사)\n",
    "\n",
    "SageMaker의 여러 데이터 \"채널\"의 수와 이름 지정은 사용자에게 달려 있습니다: 정확히 2개일 필요가 없으며, \"train\"과 \"test\"로 불릴 필요도 없습니다.\n",
    "\n"
   ]
  },
  {
   "cell_type": "code",
   "execution_count": 6,
   "metadata": {
    "tags": []
   },
   "outputs": [
    {
     "name": "stdout",
     "output_type": "stream",
     "text": [
      "Train set URI: s3://sagemaker-us-east-1-870766740045/sm101/sklearn-cali/train/train.csv\n",
      "Test set URI: s3://sagemaker-us-east-1-870766740045/sm101/sklearn-cali/test/test.csv\n"
     ]
    }
   ],
   "source": [
    "train_data_s3uri = sess.upload_data(\n",
    "    path=\"data/train/train.csv\",  # Local source\n",
    "    bucket=bucket,\n",
    "    key_prefix=\"sm101/sklearn-cali/train\",  # Destination path in S3 bucket\n",
    ")\n",
    "\n",
    "test_data_s3uri = sess.upload_data(\n",
    "    path=\"data/test/test.csv\",  # Local source\n",
    "    bucket=bucket,\n",
    "    key_prefix=\"sm101/sklearn-cali/test\",  # Destination path in S3 bucket\n",
    ")\n",
    "\n",
    "print(\"Train set URI:\", train_data_s3uri)\n",
    "print(\"Test set URI:\", test_data_s3uri)"
   ]
  },
  {
   "cell_type": "markdown",
   "metadata": {},
   "source": [
    "## Python SDK로 훈련 작업 시작하기\n",
    "데이터를 업로드하고 스크립트를 준비했다면, SageMaker 훈련 작업을 구성할 준비가 된 것입니다:\n",
    "\n",
    "### Warm Pool 이용하기 :\n",
    "트레이닝 작업이 완료된 후에도 프로비저닝된 인프라를 유지하고 재사용할 수 있게 해주는 기능입니다. 이는 반복적인 실험이나 연속적으로 여러 작업을 실행하는 경우에 지연 시간을 줄이는데 도움이 됩니다. 지정된 파라미터와 일치하는 후속 트레이닝 작업들은 이미 준비된 warm pool 인프라에서 실행되므로, 리소스 프로비저닝에 걸리는 시간을 단축하여 전체적인 시작 시간을 단축할 수 있습니다.\n",
    "- 기본 시작 방법\n",
    "    - 사용하고자 하는 훈련 인스턴스의 Warm Pool Quota 증가 하기\n",
    "    - Estimator 정의에서 keep_alive_period_in_seconds 인자 설정하기\n",
    "- 참조 자료\n",
    "    - [SageMaker AI Managed Warm Pools](https://docs.aws.amazon.com/sagemaker/latest/dg/train-warm-pools.html)\n",
    "    - [Request a warm pool quota increase](https://docs.aws.amazon.com/sagemaker/latest/dg/train-warm-pools-resource-limits.html)\n",
    "\n"
   ]
  },
  {
   "cell_type": "code",
   "execution_count": 7,
   "metadata": {
    "tags": []
   },
   "outputs": [],
   "source": [
    "# We use the Estimator from the SageMaker Python SDK\n",
    "from sagemaker.sklearn.estimator import SKLearn\n",
    "\n",
    "sklearn_estimator = SKLearn(\n",
    "    entry_point=\"main.py\",\n",
    "    source_dir=\"src\",  # To upload the whole folder - or instead set entry_point=\"src/main.py\"\n",
    "    role=sagemaker.get_execution_role(),  # Use same IAM role as notebook is currently using\n",
    "    instance_count=1,\n",
    "    instance_type=\"ml.m5.large\",\n",
    "    framework_version=\"1.0-1\",\n",
    "    base_job_name=\"rf-scikit\",\n",
    "    metric_definitions=[\n",
    "        # SageMaker can extract metrics from your console logs via Regular Expressions:\n",
    "        {\"Name\": \"median-AE\", \"Regex\": \"AE-at-50th-percentile: ([0-9.]+).*$\"},\n",
    "    ],\n",
    "    hyperparameters={\n",
    "        \"n_estimators\": 100,\n",
    "        \"min_samples_leaf\": 3,\n",
    "        \"features\": \"MedInc HouseAge AveRooms AveBedrms Population AveOccup Latitude Longitude\",\n",
    "        \"target_variable\": \"target\",\n",
    "        # SageMaker data channels are always folders. Even if you point to a particular object\n",
    "        # S3URI, you'll need to either: Properly support loading folder inputs in your script; or\n",
    "        # use extra configuration parameters to identify specific filename(s):\n",
    "        \"train_file\": \"train.csv\",\n",
    "        \"test_file\": \"test.csv\",\n",
    "    },\n",
    "    # Optional settings to run with SageMaker Managed Spot:\n",
    "    # max_run=20*60,  # Maximum allowed active runtime (in seconds)\n",
    "    # use_spot_instances=True,  # Use spot instances to reduce cost\n",
    "    # max_wait=30*60,  # Maximum clock time (including spot delays)\n",
    "    keep_alive_period_in_seconds =  1200,     # 600 seconds == 10 minutes, warm pool \n",
    ")"
   ]
  },
  {
   "cell_type": "code",
   "execution_count": 8,
   "metadata": {
    "tags": []
   },
   "outputs": [
    {
     "name": "stderr",
     "output_type": "stream",
     "text": [
      "INFO:sagemaker:Creating training-job with name: rf-scikit-2025-01-09-01-37-41-917\n"
     ]
    },
    {
     "name": "stdout",
     "output_type": "stream",
     "text": [
      "2025-01-09 01:37:43 Starting - Starting the training job...\n",
      "2025-01-09 01:37:58 Starting - Preparing the instances for training...\n",
      "2025-01-09 01:38:24 Downloading - Downloading input data...\n",
      "2025-01-09 01:39:10 Downloading - Downloading the training image......\n",
      "2025-01-09 01:40:06 Training - Training image download completed. Training in progress..\u001b[34m2025-01-09 01:40:10,460 sagemaker-containers INFO     Imported framework sagemaker_sklearn_container.training\u001b[0m\n",
      "\u001b[34m2025-01-09 01:40:10,464 sagemaker-training-toolkit INFO     No GPUs detected (normal if no gpus installed)\u001b[0m\n",
      "\u001b[34m2025-01-09 01:40:10,468 sagemaker-training-toolkit INFO     No Neurons detected (normal if no neurons installed)\u001b[0m\n",
      "\u001b[34m2025-01-09 01:40:10,489 sagemaker_sklearn_container.training INFO     Invoking user training script.\u001b[0m\n",
      "\u001b[34m2025-01-09 01:40:10,849 sagemaker-training-toolkit INFO     No GPUs detected (normal if no gpus installed)\u001b[0m\n",
      "\u001b[34m2025-01-09 01:40:10,853 sagemaker-training-toolkit INFO     No Neurons detected (normal if no neurons installed)\u001b[0m\n",
      "\u001b[34m2025-01-09 01:40:10,872 sagemaker-training-toolkit INFO     No GPUs detected (normal if no gpus installed)\u001b[0m\n",
      "\u001b[34m2025-01-09 01:40:10,875 sagemaker-training-toolkit INFO     No Neurons detected (normal if no neurons installed)\u001b[0m\n",
      "\u001b[34m2025-01-09 01:40:10,897 sagemaker-training-toolkit INFO     No GPUs detected (normal if no gpus installed)\u001b[0m\n",
      "\u001b[34m2025-01-09 01:40:10,900 sagemaker-training-toolkit INFO     No Neurons detected (normal if no neurons installed)\u001b[0m\n",
      "\u001b[34m2025-01-09 01:40:10,917 sagemaker-training-toolkit INFO     Invoking user script\u001b[0m\n",
      "\u001b[34mTraining Env:\u001b[0m\n",
      "\u001b[34m{\n",
      "    \"additional_framework_parameters\": {},\n",
      "    \"channel_input_dirs\": {\n",
      "        \"test\": \"/opt/ml/input/data/test\",\n",
      "        \"train\": \"/opt/ml/input/data/train\"\n",
      "    },\n",
      "    \"current_host\": \"algo-1\",\n",
      "    \"current_instance_group\": \"homogeneousCluster\",\n",
      "    \"current_instance_group_hosts\": [\n",
      "        \"algo-1\"\n",
      "    ],\n",
      "    \"current_instance_type\": \"ml.m5.large\",\n",
      "    \"distribution_hosts\": [],\n",
      "    \"distribution_instance_groups\": [],\n",
      "    \"framework_module\": \"sagemaker_sklearn_container.training:main\",\n",
      "    \"hosts\": [\n",
      "        \"algo-1\"\n",
      "    ],\n",
      "    \"hyperparameters\": {\n",
      "        \"features\": \"MedInc HouseAge AveRooms AveBedrms Population AveOccup Latitude Longitude\",\n",
      "        \"min_samples_leaf\": 3,\n",
      "        \"n_estimators\": 100,\n",
      "        \"target_variable\": \"target\",\n",
      "        \"test_file\": \"test.csv\",\n",
      "        \"train_file\": \"train.csv\"\n",
      "    },\n",
      "    \"input_config_dir\": \"/opt/ml/input/config\",\n",
      "    \"input_data_config\": {\n",
      "        \"test\": {\n",
      "            \"TrainingInputMode\": \"File\",\n",
      "            \"S3DistributionType\": \"FullyReplicated\",\n",
      "            \"RecordWrapperType\": \"None\"\n",
      "        },\n",
      "        \"train\": {\n",
      "            \"TrainingInputMode\": \"File\",\n",
      "            \"S3DistributionType\": \"FullyReplicated\",\n",
      "            \"RecordWrapperType\": \"None\"\n",
      "        }\n",
      "    },\n",
      "    \"input_dir\": \"/opt/ml/input\",\n",
      "    \"instance_groups\": [\n",
      "        \"homogeneousCluster\"\n",
      "    ],\n",
      "    \"instance_groups_dict\": {\n",
      "        \"homogeneousCluster\": {\n",
      "            \"instance_group_name\": \"homogeneousCluster\",\n",
      "            \"instance_type\": \"ml.m5.large\",\n",
      "            \"hosts\": [\n",
      "                \"algo-1\"\n",
      "            ]\n",
      "        }\n",
      "    },\n",
      "    \"is_hetero\": false,\n",
      "    \"is_master\": true,\n",
      "    \"is_modelparallel_enabled\": null,\n",
      "    \"is_smddpmprun_installed\": false,\n",
      "    \"is_smddprun_installed\": false,\n",
      "    \"job_name\": \"rf-scikit-2025-01-09-01-37-41-917\",\n",
      "    \"log_level\": 20,\n",
      "    \"master_hostname\": \"algo-1\",\n",
      "    \"model_dir\": \"/opt/ml/model\",\n",
      "    \"module_dir\": \"s3://sagemaker-us-east-1-870766740045/rf-scikit-2025-01-09-01-37-41-917/source/sourcedir.tar.gz\",\n",
      "    \"module_name\": \"main\",\n",
      "    \"network_interface_name\": \"eth0\",\n",
      "    \"num_cpus\": 2,\n",
      "    \"num_gpus\": 0,\n",
      "    \"num_neurons\": 0,\n",
      "    \"output_data_dir\": \"/opt/ml/output/data\",\n",
      "    \"output_dir\": \"/opt/ml/output\",\n",
      "    \"output_intermediate_dir\": \"/opt/ml/output/intermediate\",\n",
      "    \"resource_config\": {\n",
      "        \"current_host\": \"algo-1\",\n",
      "        \"current_instance_type\": \"ml.m5.large\",\n",
      "        \"current_group_name\": \"homogeneousCluster\",\n",
      "        \"hosts\": [\n",
      "            \"algo-1\"\n",
      "        ],\n",
      "        \"instance_groups\": [\n",
      "            {\n",
      "                \"instance_group_name\": \"homogeneousCluster\",\n",
      "                \"instance_type\": \"ml.m5.large\",\n",
      "                \"hosts\": [\n",
      "                    \"algo-1\"\n",
      "                ]\n",
      "            }\n",
      "        ],\n",
      "        \"network_interface_name\": \"eth0\"\n",
      "    },\n",
      "    \"user_entry_point\": \"main.py\"\u001b[0m\n",
      "\u001b[34m}\u001b[0m\n",
      "\u001b[34mEnvironment variables:\u001b[0m\n",
      "\u001b[34mSM_HOSTS=[\"algo-1\"]\u001b[0m\n",
      "\u001b[34mSM_NETWORK_INTERFACE_NAME=eth0\u001b[0m\n",
      "\u001b[34mSM_HPS={\"features\":\"MedInc HouseAge AveRooms AveBedrms Population AveOccup Latitude Longitude\",\"min_samples_leaf\":3,\"n_estimators\":100,\"target_variable\":\"target\",\"test_file\":\"test.csv\",\"train_file\":\"train.csv\"}\u001b[0m\n",
      "\u001b[34mSM_USER_ENTRY_POINT=main.py\u001b[0m\n",
      "\u001b[34mSM_FRAMEWORK_PARAMS={}\u001b[0m\n",
      "\u001b[34mSM_RESOURCE_CONFIG={\"current_group_name\":\"homogeneousCluster\",\"current_host\":\"algo-1\",\"current_instance_type\":\"ml.m5.large\",\"hosts\":[\"algo-1\"],\"instance_groups\":[{\"hosts\":[\"algo-1\"],\"instance_group_name\":\"homogeneousCluster\",\"instance_type\":\"ml.m5.large\"}],\"network_interface_name\":\"eth0\"}\u001b[0m\n",
      "\u001b[34mSM_INPUT_DATA_CONFIG={\"test\":{\"RecordWrapperType\":\"None\",\"S3DistributionType\":\"FullyReplicated\",\"TrainingInputMode\":\"File\"},\"train\":{\"RecordWrapperType\":\"None\",\"S3DistributionType\":\"FullyReplicated\",\"TrainingInputMode\":\"File\"}}\u001b[0m\n",
      "\u001b[34mSM_OUTPUT_DATA_DIR=/opt/ml/output/data\u001b[0m\n",
      "\u001b[34mSM_CHANNELS=[\"test\",\"train\"]\u001b[0m\n",
      "\u001b[34mSM_CURRENT_HOST=algo-1\u001b[0m\n",
      "\u001b[34mSM_CURRENT_INSTANCE_TYPE=ml.m5.large\u001b[0m\n",
      "\u001b[34mSM_CURRENT_INSTANCE_GROUP=homogeneousCluster\u001b[0m\n",
      "\u001b[34mSM_CURRENT_INSTANCE_GROUP_HOSTS=[\"algo-1\"]\u001b[0m\n",
      "\u001b[34mSM_INSTANCE_GROUPS=[\"homogeneousCluster\"]\u001b[0m\n",
      "\u001b[34mSM_INSTANCE_GROUPS_DICT={\"homogeneousCluster\":{\"hosts\":[\"algo-1\"],\"instance_group_name\":\"homogeneousCluster\",\"instance_type\":\"ml.m5.large\"}}\u001b[0m\n",
      "\u001b[34mSM_DISTRIBUTION_INSTANCE_GROUPS=[]\u001b[0m\n",
      "\u001b[34mSM_IS_HETERO=false\u001b[0m\n",
      "\u001b[34mSM_MODULE_NAME=main\u001b[0m\n",
      "\u001b[34mSM_LOG_LEVEL=20\u001b[0m\n",
      "\u001b[34mSM_FRAMEWORK_MODULE=sagemaker_sklearn_container.training:main\u001b[0m\n",
      "\u001b[34mSM_INPUT_DIR=/opt/ml/input\u001b[0m\n",
      "\u001b[34mSM_INPUT_CONFIG_DIR=/opt/ml/input/config\u001b[0m\n",
      "\u001b[34mSM_OUTPUT_DIR=/opt/ml/output\u001b[0m\n",
      "\u001b[34mSM_NUM_CPUS=2\u001b[0m\n",
      "\u001b[34mSM_NUM_GPUS=0\u001b[0m\n",
      "\u001b[34mSM_NUM_NEURONS=0\u001b[0m\n",
      "\u001b[34mSM_MODEL_DIR=/opt/ml/model\u001b[0m\n",
      "\u001b[34mSM_MODULE_DIR=s3://sagemaker-us-east-1-870766740045/rf-scikit-2025-01-09-01-37-41-917/source/sourcedir.tar.gz\u001b[0m\n",
      "\u001b[34mSM_TRAINING_ENV={\"additional_framework_parameters\":{},\"channel_input_dirs\":{\"test\":\"/opt/ml/input/data/test\",\"train\":\"/opt/ml/input/data/train\"},\"current_host\":\"algo-1\",\"current_instance_group\":\"homogeneousCluster\",\"current_instance_group_hosts\":[\"algo-1\"],\"current_instance_type\":\"ml.m5.large\",\"distribution_hosts\":[],\"distribution_instance_groups\":[],\"framework_module\":\"sagemaker_sklearn_container.training:main\",\"hosts\":[\"algo-1\"],\"hyperparameters\":{\"features\":\"MedInc HouseAge AveRooms AveBedrms Population AveOccup Latitude Longitude\",\"min_samples_leaf\":3,\"n_estimators\":100,\"target_variable\":\"target\",\"test_file\":\"test.csv\",\"train_file\":\"train.csv\"},\"input_config_dir\":\"/opt/ml/input/config\",\"input_data_config\":{\"test\":{\"RecordWrapperType\":\"None\",\"S3DistributionType\":\"FullyReplicated\",\"TrainingInputMode\":\"File\"},\"train\":{\"RecordWrapperType\":\"None\",\"S3DistributionType\":\"FullyReplicated\",\"TrainingInputMode\":\"File\"}},\"input_dir\":\"/opt/ml/input\",\"instance_groups\":[\"homogeneousCluster\"],\"instance_groups_dict\":{\"homogeneousCluster\":{\"hosts\":[\"algo-1\"],\"instance_group_name\":\"homogeneousCluster\",\"instance_type\":\"ml.m5.large\"}},\"is_hetero\":false,\"is_master\":true,\"is_modelparallel_enabled\":null,\"is_smddpmprun_installed\":false,\"is_smddprun_installed\":false,\"job_name\":\"rf-scikit-2025-01-09-01-37-41-917\",\"log_level\":20,\"master_hostname\":\"algo-1\",\"model_dir\":\"/opt/ml/model\",\"module_dir\":\"s3://sagemaker-us-east-1-870766740045/rf-scikit-2025-01-09-01-37-41-917/source/sourcedir.tar.gz\",\"module_name\":\"main\",\"network_interface_name\":\"eth0\",\"num_cpus\":2,\"num_gpus\":0,\"num_neurons\":0,\"output_data_dir\":\"/opt/ml/output/data\",\"output_dir\":\"/opt/ml/output\",\"output_intermediate_dir\":\"/opt/ml/output/intermediate\",\"resource_config\":{\"current_group_name\":\"homogeneousCluster\",\"current_host\":\"algo-1\",\"current_instance_type\":\"ml.m5.large\",\"hosts\":[\"algo-1\"],\"instance_groups\":[{\"hosts\":[\"algo-1\"],\"instance_group_name\":\"homogeneousCluster\",\"instance_type\":\"ml.m5.large\"}],\"network_interface_name\":\"eth0\"},\"user_entry_point\":\"main.py\"}\u001b[0m\n",
      "\u001b[34mSM_USER_ARGS=[\"--features\",\"MedInc HouseAge AveRooms AveBedrms Population AveOccup Latitude Longitude\",\"--min_samples_leaf\",\"3\",\"--n_estimators\",\"100\",\"--target_variable\",\"target\",\"--test_file\",\"test.csv\",\"--train_file\",\"train.csv\"]\u001b[0m\n",
      "\u001b[34mSM_OUTPUT_INTERMEDIATE_DIR=/opt/ml/output/intermediate\u001b[0m\n",
      "\u001b[34mSM_CHANNEL_TEST=/opt/ml/input/data/test\u001b[0m\n",
      "\u001b[34mSM_CHANNEL_TRAIN=/opt/ml/input/data/train\u001b[0m\n",
      "\u001b[34mSM_HP_FEATURES=MedInc HouseAge AveRooms AveBedrms Population AveOccup Latitude Longitude\u001b[0m\n",
      "\u001b[34mSM_HP_MIN_SAMPLES_LEAF=3\u001b[0m\n",
      "\u001b[34mSM_HP_N_ESTIMATORS=100\u001b[0m\n",
      "\u001b[34mSM_HP_TARGET_VARIABLE=target\u001b[0m\n",
      "\u001b[34mSM_HP_TEST_FILE=test.csv\u001b[0m\n",
      "\u001b[34mSM_HP_TRAIN_FILE=train.csv\u001b[0m\n",
      "\u001b[34mPYTHONPATH=/opt/ml/code:/miniconda3/bin:/miniconda3/lib/python38.zip:/miniconda3/lib/python3.8:/miniconda3/lib/python3.8/lib-dynload:/miniconda3/lib/python3.8/site-packages\u001b[0m\n",
      "\u001b[34mInvoking script with the following command:\u001b[0m\n",
      "\u001b[34m/miniconda3/bin/python main.py --features MedInc HouseAge AveRooms AveBedrms Population AveOccup Latitude Longitude --min_samples_leaf 3 --n_estimators 100 --target_variable target --test_file test.csv --train_file train.csv\u001b[0m\n",
      "\u001b[34m2025-01-09 01:40:10,918 sagemaker-training-toolkit INFO     Exceptions not imported for SageMaker Debugger as it is not installed.\u001b[0m\n",
      "\u001b[34m2025-01-09 01:40:10,919 sagemaker-training-toolkit INFO     Exceptions not imported for SageMaker TF as Tensorflow is not installed.\u001b[0m\n",
      "\u001b[34mParsing training arguments\u001b[0m\n",
      "\u001b[34mReading data\u001b[0m\n",
      "\u001b[34mBuilding training and testing datasets\u001b[0m\n",
      "\u001b[34mTraining model\u001b[0m\n",
      "\u001b[34mTesting model\u001b[0m\n",
      "\u001b[34mAE-at-10th-percentile: 0.029831689538240048\u001b[0m\n",
      "\u001b[34mAE-at-50th-percentile: 0.20477606529581543\u001b[0m\n",
      "\u001b[34mAE-at-90th-percentile: 0.7803501837147028\u001b[0m\n",
      "\u001b[34mmodel saved at /opt/ml/model/model.joblib\u001b[0m\n",
      "\u001b[34m2025-01-09 01:40:18,003 sagemaker-containers INFO     Reporting training SUCCESS\u001b[0m\n",
      "\n",
      "2025-01-09 01:40:39 Uploading - Uploading generated training model\n",
      "2025-01-09 01:40:39 Completed - Instances not retained as a result of warmpool resource limits being exceeded\n",
      "Training seconds: 135\n",
      "Billable seconds: 135\n"
     ]
    }
   ],
   "source": [
    "sklearn_estimator.fit({\"train\": train_data_s3uri, \"test\": test_data_s3uri}, wait=True)"
   ]
  },
  {
   "cell_type": "markdown",
   "metadata": {},
   "source": [
    "우리가 실행한 훈련 작업은 매우 작은 데이터셋으로 인해 매우 \"가벼운\" 작업입니다. 따라서 노트북 인스턴스에서 로컬로 실행하는 것이 SageMaker에서 실행하는 것보다 실행 시간이 더 빠릅니다. SageMaker는 훈련 인프라를 프로비저닝해야 하기 때문에 작업 실행에 더 오랜 시간이 걸립니다. 이 예제 훈련 작업은 리소스 집약적이지 않기 때문에 인프라 프로비저닝 프로세스가 훈련 작업 자체보다 더 많은 오버헤드를 추가합니다.\n",
    "\n",
    "실제 상황에서는 데이터셋이 크기 때문에 SageMaker에서 실행하면 실행 프로세스를 상당히 가속화할 수 있으며, 이 대화형 노트북 환경을 적당하게 유지하고 더 강력한 훈련 작업 리소스를 온디맨드로 가동함으로써 비용을 최적화하는 데 도움이 됩니다.\n",
    "\n",
    "이 훈련 작업은 *노트북 자체에서 실행되지 않았습니다*. [AWS Console for SageMaker - Training Jobs 탭](https://console.aws.amazon.com/sagemaker/home?#/jobs)과 [SageMaker Studio Experiments and Trials UI](https://docs.aws.amazon.com/sagemaker/latest/dg/experiments-view-compare.html)에서 기록을 볼 수 있습니다.\n",
    "\n",
    "> ℹ️ **팁:** 노트북 커널이 다시 시작되거나 추정기 상태가 다른 이유로 손실된 경우 훈련 작업을 **다시 실행할 필요가 없습니다**. 이름으로 이전 훈련 작업에 *연결*하기만 하면 됩니다. 예를 들면:\n",
    ">\n",
    "> ```python\n",
    "> estimator = SKLearn.attach(\"rf-scikit-2025-01-01-00-00-00-000\")\n",
    "> ```\n"
   ]
  },
  {
   "cell_type": "markdown",
   "metadata": {},
   "source": [
    "## 실시간 엔드포인트에 배포하기\n",
    "\n",
    "### Python SDK로 배포하기\n",
    "\n",
    "훈련된 `Estimator`를 SageMaker 엔드포인트에 한 줄의 코드로 실시간 추론을 위해 배포할 수 있습니다. `Estimator.deploy(...)`를 사용하면 암시적으로 SageMaker [모델](https://console.aws.amazon.com/sagemaker/home?#/models), [엔드포인트 구성](https://console.aws.amazon.com/sagemaker/home?#/endpointConfig), [엔드포인트](https://console.aws.amazon.com/sagemaker/home?#/endpoints)을 생성합니다.\n",
    "\n",
    "그러나 더 세밀한 제어를 원할 경우 SageMaker Python SDK를 통해 `Model` 객체를 생성할 수 있습니다. 이 경우 훈련 작업에 의해 Amazon S3에 생성된 `model.tar.gz`를 참조합니다. 이를 통해 다음과 같은 작업을 수행할 수 있습니다:\n",
    "\n",
    "- 훈련과 추론 사이에 사용되는 환경 변수나 Python 파일을 수정합니다.\n",
    "- SageMaker 외부에서 훈련된 모델을 Amazon S3에 호환 가능한 `model.tar.gz`로 패키징하여 가져옵니다.\n",
    "\n",
    "여기서는 더 긴 경로를 시연하겠습니다:"
   ]
  },
  {
   "cell_type": "code",
   "execution_count": 9,
   "metadata": {
    "tags": []
   },
   "outputs": [
    {
     "name": "stdout",
     "output_type": "stream",
     "text": [
      "\n",
      "2025-01-09 01:40:39 Starting - Preparing the instances for training\n",
      "2025-01-09 01:40:39 Downloading - Downloading the training image\n",
      "2025-01-09 01:40:39 Training - Training image download completed. Training in progress.\n",
      "2025-01-09 01:40:39 Uploading - Uploading generated training model\n",
      "2025-01-09 01:40:39 Completed - Instances not retained as a result of warmpool resource limits being exceeded\n",
      "Model artifact saved at: s3://sagemaker-us-east-1-870766740045/rf-scikit-2025-01-09-01-37-41-917/output/model.tar.gz\n"
     ]
    }
   ],
   "source": [
    "sklearn_estimator.latest_training_job.wait(logs=\"None\")  # Check the job is finished\n",
    "\n",
    "# describe() here is equivalent to low-level boto3 SageMaker describe_training_job\n",
    "job_desc = sklearn_estimator.latest_training_job.describe()\n",
    "model_s3uri = job_desc[\"ModelArtifacts\"][\"S3ModelArtifacts\"]\n",
    "\n",
    "print(\"Model artifact saved at:\", model_s3uri)"
   ]
  },
  {
   "cell_type": "code",
   "execution_count": 10,
   "metadata": {
    "tags": []
   },
   "outputs": [],
   "source": [
    "from sagemaker.sklearn.model import SKLearnModel\n",
    "\n",
    "model = SKLearnModel(\n",
    "    model_data=model_s3uri,\n",
    "    framework_version=\"1.0-1\",\n",
    "    py_version=\"py3\",\n",
    "    role=sagemaker.get_execution_role(),\n",
    "    entry_point=\"src/main.py\",\n",
    ")"
   ]
  },
  {
   "cell_type": "code",
   "execution_count": 11,
   "metadata": {
    "tags": []
   },
   "outputs": [
    {
     "name": "stderr",
     "output_type": "stream",
     "text": [
      "INFO:sagemaker:Creating model with name: sagemaker-scikit-learn-2025-01-09-01-41-04-689\n",
      "INFO:sagemaker:Creating endpoint-config with name sagemaker-scikit-learn-2025-01-09-01-41-05-448\n",
      "INFO:sagemaker:Creating endpoint with name sagemaker-scikit-learn-2025-01-09-01-41-05-448\n"
     ]
    },
    {
     "name": "stdout",
     "output_type": "stream",
     "text": [
      "------!"
     ]
    }
   ],
   "source": [
    "predictor = model.deploy(\n",
    "    instance_type=\"ml.c5.large\",\n",
    "    initial_instance_count=1,\n",
    ")"
   ]
  },
  {
   "cell_type": "markdown",
   "metadata": {},
   "source": [
    "### 실시간 추론\n",
    "\n",
    "SageMaker Python SDK의 [Predictor](https://sagemaker.readthedocs.io/en/stable/api/inference/predictors.html) 클래스는 엔드포인트를 감싸는 Python 래퍼를 제공하며, 요청 및 응답의 (구성 가능한) 직렬화/역직렬화도 처리합니다.\n",
    "\n",
    "SageMaker Python SDK를 사용할 수 없는 클라이언트(예: 비 Python 클라이언트 또는 어떤 이유로든 PyPI의 [sagemaker](https://pypi.org/project/sagemaker/) 패키지를 설치할 수 없는 Python 환경)의 경우: 일반 AWS SDK를 사용하여 하위 수준 [SageMaker InvokeEndpoint API](https://docs.aws.amazon.com/sagemaker/latest/APIReference/API_runtime_InvokeEndpoint.html)를 호출할 수 있습니다.\n"
   ]
  },
  {
   "cell_type": "code",
   "execution_count": 12,
   "metadata": {
    "tags": []
   },
   "outputs": [
    {
     "name": "stdout",
     "output_type": "stream",
     "text": [
      "[0.48648472 0.77589847 4.84347948 ... 1.26956739 3.01778831 4.10736056]\n"
     ]
    }
   ],
   "source": [
    "# the SKLearnPredictor does the serialization from pandas for us\n",
    "print(predictor.predict(testX[data.feature_names]))"
   ]
  },
  {
   "cell_type": "markdown",
   "metadata": {},
   "source": [
    "### 엔드포인트 삭제하기\n",
    "\n",
    "훈련 작업 인프라는 작업이 시작되면 즉시 시작되고 작업이 중지되면 종료되지만, 엔드포인트는 우리가 종료할 때까지 활성 상태로 유지됩니다. 지속적인 비용을 방지하기 위해 사용하지 않는 엔드포인트를 삭제하십시오:"
   ]
  },
  {
   "cell_type": "code",
   "execution_count": 13,
   "metadata": {
    "tags": []
   },
   "outputs": [
    {
     "name": "stderr",
     "output_type": "stream",
     "text": [
      "INFO:sagemaker:Deleting endpoint configuration with name: sagemaker-scikit-learn-2025-01-09-01-41-05-448\n",
      "INFO:sagemaker:Deleting endpoint with name: sagemaker-scikit-learn-2025-01-09-01-41-05-448\n"
     ]
    }
   ],
   "source": [
    "predictor.delete_endpoint(delete_endpoint_config=True)"
   ]
  },
  {
   "cell_type": "markdown",
   "metadata": {},
   "source": [
    "## 결론\n",
    "\n",
    "이 노트북에서 우리는 다음의 예제를 보았습니다:\n",
    "\n",
    "- 구성 가능한 매개변수와 출력 정확도 측정항목을 가진 SageMaker 훈련 작업으로 Scikit-Learn 기반 모델 훈련 스크립트를 실행합니다.\n",
    "- 훈련된 모델을 실시간 추론 API에 배포합니다.\n",
    "\n",
    "SageMaker는 불필요한 코드 없이 모델 서빙 스택을 처리했습니다: 필요한 경우 기본 동작을 사용자 정의하기 위해 [오버라이드 함수](https://sagemaker.readthedocs.io/en/stable/frameworks/sklearn/using_sklearn.html#sagemaker-scikit-learn-model-server) (예: `input_fn` 및 `model_fn`)만 정의하면 됩니다. 훈련 시간에 우리의 스크립트는 SageMaker를 통해 제공된 명령줄 인수 및 환경 변수에서 매개변수를 읽었으며, S3에서 다운로드하는 것도 SageMaker가 처리하기 때문에 로컬 폴더에서 데이터를 로드했습니다.\n",
    "\n",
    "SageMaker API를 사용함으로써(단순히 노트북에서 로컬로 작업하는 대신) 실험의 추적성과 재현성을 향상시킬 수 있습니다. 또한 컴퓨팅 리소스 사용을 최적화하고 훈련된 모델에서 프로덕션 배포까지의 경로를 가속화할 수 있습니다."
   ]
  },
  {
   "cell_type": "code",
   "execution_count": null,
   "metadata": {},
   "outputs": [],
   "source": []
  },
  {
   "cell_type": "code",
   "execution_count": null,
   "metadata": {},
   "outputs": [],
   "source": []
  },
  {
   "cell_type": "code",
   "execution_count": null,
   "metadata": {},
   "outputs": [],
   "source": []
  }
 ],
 "metadata": {
  "availableInstances": [
   {
    "_defaultOrder": 0,
    "_isFastLaunch": true,
    "category": "General purpose",
    "gpuNum": 0,
    "hideHardwareSpecs": false,
    "memoryGiB": 4,
    "name": "ml.t3.medium",
    "vcpuNum": 2
   },
   {
    "_defaultOrder": 1,
    "_isFastLaunch": false,
    "category": "General purpose",
    "gpuNum": 0,
    "hideHardwareSpecs": false,
    "memoryGiB": 8,
    "name": "ml.t3.large",
    "vcpuNum": 2
   },
   {
    "_defaultOrder": 2,
    "_isFastLaunch": false,
    "category": "General purpose",
    "gpuNum": 0,
    "hideHardwareSpecs": false,
    "memoryGiB": 16,
    "name": "ml.t3.xlarge",
    "vcpuNum": 4
   },
   {
    "_defaultOrder": 3,
    "_isFastLaunch": false,
    "category": "General purpose",
    "gpuNum": 0,
    "hideHardwareSpecs": false,
    "memoryGiB": 32,
    "name": "ml.t3.2xlarge",
    "vcpuNum": 8
   },
   {
    "_defaultOrder": 4,
    "_isFastLaunch": true,
    "category": "General purpose",
    "gpuNum": 0,
    "hideHardwareSpecs": false,
    "memoryGiB": 8,
    "name": "ml.m5.large",
    "vcpuNum": 2
   },
   {
    "_defaultOrder": 5,
    "_isFastLaunch": false,
    "category": "General purpose",
    "gpuNum": 0,
    "hideHardwareSpecs": false,
    "memoryGiB": 16,
    "name": "ml.m5.xlarge",
    "vcpuNum": 4
   },
   {
    "_defaultOrder": 6,
    "_isFastLaunch": false,
    "category": "General purpose",
    "gpuNum": 0,
    "hideHardwareSpecs": false,
    "memoryGiB": 32,
    "name": "ml.m5.2xlarge",
    "vcpuNum": 8
   },
   {
    "_defaultOrder": 7,
    "_isFastLaunch": false,
    "category": "General purpose",
    "gpuNum": 0,
    "hideHardwareSpecs": false,
    "memoryGiB": 64,
    "name": "ml.m5.4xlarge",
    "vcpuNum": 16
   },
   {
    "_defaultOrder": 8,
    "_isFastLaunch": false,
    "category": "General purpose",
    "gpuNum": 0,
    "hideHardwareSpecs": false,
    "memoryGiB": 128,
    "name": "ml.m5.8xlarge",
    "vcpuNum": 32
   },
   {
    "_defaultOrder": 9,
    "_isFastLaunch": false,
    "category": "General purpose",
    "gpuNum": 0,
    "hideHardwareSpecs": false,
    "memoryGiB": 192,
    "name": "ml.m5.12xlarge",
    "vcpuNum": 48
   },
   {
    "_defaultOrder": 10,
    "_isFastLaunch": false,
    "category": "General purpose",
    "gpuNum": 0,
    "hideHardwareSpecs": false,
    "memoryGiB": 256,
    "name": "ml.m5.16xlarge",
    "vcpuNum": 64
   },
   {
    "_defaultOrder": 11,
    "_isFastLaunch": false,
    "category": "General purpose",
    "gpuNum": 0,
    "hideHardwareSpecs": false,
    "memoryGiB": 384,
    "name": "ml.m5.24xlarge",
    "vcpuNum": 96
   },
   {
    "_defaultOrder": 12,
    "_isFastLaunch": false,
    "category": "General purpose",
    "gpuNum": 0,
    "hideHardwareSpecs": false,
    "memoryGiB": 8,
    "name": "ml.m5d.large",
    "vcpuNum": 2
   },
   {
    "_defaultOrder": 13,
    "_isFastLaunch": false,
    "category": "General purpose",
    "gpuNum": 0,
    "hideHardwareSpecs": false,
    "memoryGiB": 16,
    "name": "ml.m5d.xlarge",
    "vcpuNum": 4
   },
   {
    "_defaultOrder": 14,
    "_isFastLaunch": false,
    "category": "General purpose",
    "gpuNum": 0,
    "hideHardwareSpecs": false,
    "memoryGiB": 32,
    "name": "ml.m5d.2xlarge",
    "vcpuNum": 8
   },
   {
    "_defaultOrder": 15,
    "_isFastLaunch": false,
    "category": "General purpose",
    "gpuNum": 0,
    "hideHardwareSpecs": false,
    "memoryGiB": 64,
    "name": "ml.m5d.4xlarge",
    "vcpuNum": 16
   },
   {
    "_defaultOrder": 16,
    "_isFastLaunch": false,
    "category": "General purpose",
    "gpuNum": 0,
    "hideHardwareSpecs": false,
    "memoryGiB": 128,
    "name": "ml.m5d.8xlarge",
    "vcpuNum": 32
   },
   {
    "_defaultOrder": 17,
    "_isFastLaunch": false,
    "category": "General purpose",
    "gpuNum": 0,
    "hideHardwareSpecs": false,
    "memoryGiB": 192,
    "name": "ml.m5d.12xlarge",
    "vcpuNum": 48
   },
   {
    "_defaultOrder": 18,
    "_isFastLaunch": false,
    "category": "General purpose",
    "gpuNum": 0,
    "hideHardwareSpecs": false,
    "memoryGiB": 256,
    "name": "ml.m5d.16xlarge",
    "vcpuNum": 64
   },
   {
    "_defaultOrder": 19,
    "_isFastLaunch": false,
    "category": "General purpose",
    "gpuNum": 0,
    "hideHardwareSpecs": false,
    "memoryGiB": 384,
    "name": "ml.m5d.24xlarge",
    "vcpuNum": 96
   },
   {
    "_defaultOrder": 20,
    "_isFastLaunch": false,
    "category": "General purpose",
    "gpuNum": 0,
    "hideHardwareSpecs": true,
    "memoryGiB": 0,
    "name": "ml.geospatial.interactive",
    "supportedImageNames": [
     "sagemaker-geospatial-v1-0"
    ],
    "vcpuNum": 0
   },
   {
    "_defaultOrder": 21,
    "_isFastLaunch": true,
    "category": "Compute optimized",
    "gpuNum": 0,
    "hideHardwareSpecs": false,
    "memoryGiB": 4,
    "name": "ml.c5.large",
    "vcpuNum": 2
   },
   {
    "_defaultOrder": 22,
    "_isFastLaunch": false,
    "category": "Compute optimized",
    "gpuNum": 0,
    "hideHardwareSpecs": false,
    "memoryGiB": 8,
    "name": "ml.c5.xlarge",
    "vcpuNum": 4
   },
   {
    "_defaultOrder": 23,
    "_isFastLaunch": false,
    "category": "Compute optimized",
    "gpuNum": 0,
    "hideHardwareSpecs": false,
    "memoryGiB": 16,
    "name": "ml.c5.2xlarge",
    "vcpuNum": 8
   },
   {
    "_defaultOrder": 24,
    "_isFastLaunch": false,
    "category": "Compute optimized",
    "gpuNum": 0,
    "hideHardwareSpecs": false,
    "memoryGiB": 32,
    "name": "ml.c5.4xlarge",
    "vcpuNum": 16
   },
   {
    "_defaultOrder": 25,
    "_isFastLaunch": false,
    "category": "Compute optimized",
    "gpuNum": 0,
    "hideHardwareSpecs": false,
    "memoryGiB": 72,
    "name": "ml.c5.9xlarge",
    "vcpuNum": 36
   },
   {
    "_defaultOrder": 26,
    "_isFastLaunch": false,
    "category": "Compute optimized",
    "gpuNum": 0,
    "hideHardwareSpecs": false,
    "memoryGiB": 96,
    "name": "ml.c5.12xlarge",
    "vcpuNum": 48
   },
   {
    "_defaultOrder": 27,
    "_isFastLaunch": false,
    "category": "Compute optimized",
    "gpuNum": 0,
    "hideHardwareSpecs": false,
    "memoryGiB": 144,
    "name": "ml.c5.18xlarge",
    "vcpuNum": 72
   },
   {
    "_defaultOrder": 28,
    "_isFastLaunch": false,
    "category": "Compute optimized",
    "gpuNum": 0,
    "hideHardwareSpecs": false,
    "memoryGiB": 192,
    "name": "ml.c5.24xlarge",
    "vcpuNum": 96
   },
   {
    "_defaultOrder": 29,
    "_isFastLaunch": true,
    "category": "Accelerated computing",
    "gpuNum": 1,
    "hideHardwareSpecs": false,
    "memoryGiB": 16,
    "name": "ml.g4dn.xlarge",
    "vcpuNum": 4
   },
   {
    "_defaultOrder": 30,
    "_isFastLaunch": false,
    "category": "Accelerated computing",
    "gpuNum": 1,
    "hideHardwareSpecs": false,
    "memoryGiB": 32,
    "name": "ml.g4dn.2xlarge",
    "vcpuNum": 8
   },
   {
    "_defaultOrder": 31,
    "_isFastLaunch": false,
    "category": "Accelerated computing",
    "gpuNum": 1,
    "hideHardwareSpecs": false,
    "memoryGiB": 64,
    "name": "ml.g4dn.4xlarge",
    "vcpuNum": 16
   },
   {
    "_defaultOrder": 32,
    "_isFastLaunch": false,
    "category": "Accelerated computing",
    "gpuNum": 1,
    "hideHardwareSpecs": false,
    "memoryGiB": 128,
    "name": "ml.g4dn.8xlarge",
    "vcpuNum": 32
   },
   {
    "_defaultOrder": 33,
    "_isFastLaunch": false,
    "category": "Accelerated computing",
    "gpuNum": 4,
    "hideHardwareSpecs": false,
    "memoryGiB": 192,
    "name": "ml.g4dn.12xlarge",
    "vcpuNum": 48
   },
   {
    "_defaultOrder": 34,
    "_isFastLaunch": false,
    "category": "Accelerated computing",
    "gpuNum": 1,
    "hideHardwareSpecs": false,
    "memoryGiB": 256,
    "name": "ml.g4dn.16xlarge",
    "vcpuNum": 64
   },
   {
    "_defaultOrder": 35,
    "_isFastLaunch": false,
    "category": "Accelerated computing",
    "gpuNum": 1,
    "hideHardwareSpecs": false,
    "memoryGiB": 61,
    "name": "ml.p3.2xlarge",
    "vcpuNum": 8
   },
   {
    "_defaultOrder": 36,
    "_isFastLaunch": false,
    "category": "Accelerated computing",
    "gpuNum": 4,
    "hideHardwareSpecs": false,
    "memoryGiB": 244,
    "name": "ml.p3.8xlarge",
    "vcpuNum": 32
   },
   {
    "_defaultOrder": 37,
    "_isFastLaunch": false,
    "category": "Accelerated computing",
    "gpuNum": 8,
    "hideHardwareSpecs": false,
    "memoryGiB": 488,
    "name": "ml.p3.16xlarge",
    "vcpuNum": 64
   },
   {
    "_defaultOrder": 38,
    "_isFastLaunch": false,
    "category": "Accelerated computing",
    "gpuNum": 8,
    "hideHardwareSpecs": false,
    "memoryGiB": 768,
    "name": "ml.p3dn.24xlarge",
    "vcpuNum": 96
   },
   {
    "_defaultOrder": 39,
    "_isFastLaunch": false,
    "category": "Memory Optimized",
    "gpuNum": 0,
    "hideHardwareSpecs": false,
    "memoryGiB": 16,
    "name": "ml.r5.large",
    "vcpuNum": 2
   },
   {
    "_defaultOrder": 40,
    "_isFastLaunch": false,
    "category": "Memory Optimized",
    "gpuNum": 0,
    "hideHardwareSpecs": false,
    "memoryGiB": 32,
    "name": "ml.r5.xlarge",
    "vcpuNum": 4
   },
   {
    "_defaultOrder": 41,
    "_isFastLaunch": false,
    "category": "Memory Optimized",
    "gpuNum": 0,
    "hideHardwareSpecs": false,
    "memoryGiB": 64,
    "name": "ml.r5.2xlarge",
    "vcpuNum": 8
   },
   {
    "_defaultOrder": 42,
    "_isFastLaunch": false,
    "category": "Memory Optimized",
    "gpuNum": 0,
    "hideHardwareSpecs": false,
    "memoryGiB": 128,
    "name": "ml.r5.4xlarge",
    "vcpuNum": 16
   },
   {
    "_defaultOrder": 43,
    "_isFastLaunch": false,
    "category": "Memory Optimized",
    "gpuNum": 0,
    "hideHardwareSpecs": false,
    "memoryGiB": 256,
    "name": "ml.r5.8xlarge",
    "vcpuNum": 32
   },
   {
    "_defaultOrder": 44,
    "_isFastLaunch": false,
    "category": "Memory Optimized",
    "gpuNum": 0,
    "hideHardwareSpecs": false,
    "memoryGiB": 384,
    "name": "ml.r5.12xlarge",
    "vcpuNum": 48
   },
   {
    "_defaultOrder": 45,
    "_isFastLaunch": false,
    "category": "Memory Optimized",
    "gpuNum": 0,
    "hideHardwareSpecs": false,
    "memoryGiB": 512,
    "name": "ml.r5.16xlarge",
    "vcpuNum": 64
   },
   {
    "_defaultOrder": 46,
    "_isFastLaunch": false,
    "category": "Memory Optimized",
    "gpuNum": 0,
    "hideHardwareSpecs": false,
    "memoryGiB": 768,
    "name": "ml.r5.24xlarge",
    "vcpuNum": 96
   },
   {
    "_defaultOrder": 47,
    "_isFastLaunch": false,
    "category": "Accelerated computing",
    "gpuNum": 1,
    "hideHardwareSpecs": false,
    "memoryGiB": 16,
    "name": "ml.g5.xlarge",
    "vcpuNum": 4
   },
   {
    "_defaultOrder": 48,
    "_isFastLaunch": false,
    "category": "Accelerated computing",
    "gpuNum": 1,
    "hideHardwareSpecs": false,
    "memoryGiB": 32,
    "name": "ml.g5.2xlarge",
    "vcpuNum": 8
   },
   {
    "_defaultOrder": 49,
    "_isFastLaunch": false,
    "category": "Accelerated computing",
    "gpuNum": 1,
    "hideHardwareSpecs": false,
    "memoryGiB": 64,
    "name": "ml.g5.4xlarge",
    "vcpuNum": 16
   },
   {
    "_defaultOrder": 50,
    "_isFastLaunch": false,
    "category": "Accelerated computing",
    "gpuNum": 1,
    "hideHardwareSpecs": false,
    "memoryGiB": 128,
    "name": "ml.g5.8xlarge",
    "vcpuNum": 32
   },
   {
    "_defaultOrder": 51,
    "_isFastLaunch": false,
    "category": "Accelerated computing",
    "gpuNum": 1,
    "hideHardwareSpecs": false,
    "memoryGiB": 256,
    "name": "ml.g5.16xlarge",
    "vcpuNum": 64
   },
   {
    "_defaultOrder": 52,
    "_isFastLaunch": false,
    "category": "Accelerated computing",
    "gpuNum": 4,
    "hideHardwareSpecs": false,
    "memoryGiB": 192,
    "name": "ml.g5.12xlarge",
    "vcpuNum": 48
   },
   {
    "_defaultOrder": 53,
    "_isFastLaunch": false,
    "category": "Accelerated computing",
    "gpuNum": 4,
    "hideHardwareSpecs": false,
    "memoryGiB": 384,
    "name": "ml.g5.24xlarge",
    "vcpuNum": 96
   },
   {
    "_defaultOrder": 54,
    "_isFastLaunch": false,
    "category": "Accelerated computing",
    "gpuNum": 8,
    "hideHardwareSpecs": false,
    "memoryGiB": 768,
    "name": "ml.g5.48xlarge",
    "vcpuNum": 192
   },
   {
    "_defaultOrder": 55,
    "_isFastLaunch": false,
    "category": "Accelerated computing",
    "gpuNum": 8,
    "hideHardwareSpecs": false,
    "memoryGiB": 1152,
    "name": "ml.p4d.24xlarge",
    "vcpuNum": 96
   },
   {
    "_defaultOrder": 56,
    "_isFastLaunch": false,
    "category": "Accelerated computing",
    "gpuNum": 8,
    "hideHardwareSpecs": false,
    "memoryGiB": 1152,
    "name": "ml.p4de.24xlarge",
    "vcpuNum": 96
   }
  ],
  "instance_type": "ml.t3.medium",
  "kernelspec": {
   "display_name": "Python 3 (ipykernel)",
   "language": "python",
   "name": "python3"
  },
  "language_info": {
   "codemirror_mode": {
    "name": "ipython",
    "version": 3
   },
   "file_extension": ".py",
   "mimetype": "text/x-python",
   "name": "python",
   "nbconvert_exporter": "python",
   "pygments_lexer": "ipython3",
   "version": "3.10.14"
  }
 },
 "nbformat": 4,
 "nbformat_minor": 4
}
